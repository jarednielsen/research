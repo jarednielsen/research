{
 "cells": [
  {
   "cell_type": "code",
   "execution_count": 5,
   "metadata": {},
   "outputs": [],
   "source": [
    "import numpy as np\n",
    "import torch"
   ]
  },
  {
   "cell_type": "markdown",
   "metadata": {},
   "source": [
    "# Knight and the Princess: Q-Table Learning"
   ]
  },
  {
   "cell_type": "code",
   "execution_count": null,
   "metadata": {},
   "outputs": [],
   "source": [
    "class Environment():\n",
    "    def __init__(self, state=0):\n",
    "        \"\"\"\n",
    "        Parameters:\n",
    "            state (int): 0<=state<=24, mapping to a 5x5 grid\n",
    "        \"\"\"\n",
    "        self.rewards = np.array([\n",
    "            [0, 0, 0, 0, 0],\n",
    "            [0, -100, 0, -100, 0],\n",
    "            [0, 0, 0, 0, 0],\n",
    "            [0, -100, 0, -100, 0],\n",
    "            [0, 0, 100, 0, 0]\n",
    "        ])\n",
    "        self.state = state\n",
    "        self.i, self.j = state//5, state%5\n",
    "        \n",
    "    def take_action(action):\n",
    "        \"\"\"\n",
    "        Parameters:\n",
    "            action (int): 0<=action<=3, mapping to [left, right, up, down]\n",
    "        Returns\n",
    "            new_state (int)\n",
    "            reward (int): for being in the new state.\n",
    "        \"\"\"\n",
    "        assert is_valid_action(action), \"Invalid action.\"\n",
    "        switch(action):\n",
    "            case 0:\n",
    "                self.j -= 1\n",
    "            case 1:\n",
    "                self.j += 1\n",
    "            case 2:\n",
    "                self.i -= 1\n",
    "            case 3:\n",
    "                self.i += 1\n",
    "        self.state = 5*self.i + self.j\n",
    "        \n",
    "        return self.state, self.rewards[self.i,self.j]     \n",
    "        \n",
    "    def is_valid_action(action):\n",
    "        if self.i == 0 and action == 2:\n",
    "            return False\n",
    "        if self.i == 4 and action == 3:\n",
    "            return False\n",
    "        if self.j == 0 and action == 0:\n",
    "            return False\n",
    "        if self.j == 4 and action == 1:\n",
    "            return False\n",
    "        return True        "
   ]
  },
  {
   "cell_type": "code",
   "execution_count": 6,
   "metadata": {},
   "outputs": [],
   "source": [
    "env = Environment()\n",
    "num_states = 25 # indexed as [[1,2,3,4,5],[6,7,8,9,10],...] rows, then columns\n",
    "num_actions = 4 # indexed as [left, right, up, down]\n",
    "Q_table = np.zeros((num_states,num_actions))\n",
    "\n",
    "def choose_action(Q_table, cur_state, epsilon=1.0):\n",
    "    \"\"\"\n",
    "    Chooses an action based on the epsilon-greedy approach.\n",
    "    \"\"\"\n",
    "    if np.random.random() < epsilon:\n",
    "        return np.random.randint(0, 4)\n",
    "    else:\n",
    "        return np.argmax(Q_table[cur_state,:])\n",
    "\n",
    "alpha = 0\n",
    "cur_state = env.state\n",
    "action = choose_action(Q_table, cur_state)\n",
    "new_state, reward = env.take_action(action)\n",
    "Q = Q_table[cur_state, action]\n",
    "max_Qprime = np.max(Q_table[new_state,:])\n",
    "Q_table[cur_state, action] = Q + alpha*(reward + gamma*max_Qprime - Q)"
   ]
  },
  {
   "cell_type": "code",
   "execution_count": 2,
   "metadata": {},
   "outputs": [
    {
     "ename": "KeyboardInterrupt",
     "evalue": "",
     "output_type": "error",
     "traceback": [
      "\u001b[0;31m---------------------------------------------------------------------------\u001b[0m",
      "\u001b[0;31mKeyboardInterrupt\u001b[0m                         Traceback (most recent call last)",
      "\u001b[0;32m<ipython-input-2-aaefa41e32b9>\u001b[0m in \u001b[0;36m<module>\u001b[0;34m()\u001b[0m\n\u001b[0;32m----> 1\u001b[0;31m \u001b[0;32mfor\u001b[0m \u001b[0mi\u001b[0m \u001b[0;32min\u001b[0m \u001b[0mrange\u001b[0m\u001b[0;34m(\u001b[0m\u001b[0mint\u001b[0m\u001b[0;34m(\u001b[0m\u001b[0;36m1e20\u001b[0m\u001b[0;34m)\u001b[0m\u001b[0;34m)\u001b[0m\u001b[0;34m:\u001b[0m\u001b[0;34m\u001b[0m\u001b[0m\n\u001b[0m\u001b[1;32m      2\u001b[0m     \u001b[0;32mpass\u001b[0m\u001b[0;34m\u001b[0m\u001b[0m\n",
      "\u001b[0;31mKeyboardInterrupt\u001b[0m: "
     ]
    }
   ],
   "source": [
    "for i in range(int(1e20)):"
   ]
  }
 ],
 "metadata": {
  "kernelspec": {
   "display_name": "Python 3",
   "language": "python",
   "name": "python3"
  },
  "language_info": {
   "codemirror_mode": {
    "name": "ipython",
    "version": 3
   },
   "file_extension": ".py",
   "mimetype": "text/x-python",
   "name": "python",
   "nbconvert_exporter": "python",
   "pygments_lexer": "ipython3",
   "version": "3.6.5"
  }
 },
 "nbformat": 4,
 "nbformat_minor": 2
}
