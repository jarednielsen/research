{
 "cells": [
  {
   "cell_type": "markdown",
   "metadata": {},
   "source": [
    "# UMAP -> SVM on CIFAR-10\n",
    "Jared Nielsen"
   ]
  },
  {
   "cell_type": "code",
   "execution_count": 59,
   "metadata": {},
   "outputs": [],
   "source": [
    "from sklearn.datasets import make_moons, load_digits, fetch_olivetti_faces\n",
    "from sklearn.decomposition import PCA\n",
    "from sklearn.manifold import TSNE\n",
    "from sklearn.model_selection import train_test_split\n",
    "from sklearn.neighbors import KNeighborsClassifier\n",
    "from sklearn.svm import SVC\n",
    "from umap import UMAP\n",
    "\n",
    "import torch\n",
    "import torch.nn as nn\n",
    "import torch.optim as optim\n",
    "import matplotlib.pyplot as plt\n",
    "import numpy as np\n",
    "import pickle\n",
    "\n",
    "from MoonsMLP import MoonsMLP\n",
    "\n",
    "torch.set_printoptions(precision=4)"
   ]
  },
  {
   "cell_type": "markdown",
   "metadata": {},
   "source": [
    "UMAP is a consistently worse preprocessor. It groups things into clusters. 1-KNN on the raw pixels gets 95% test accuracy, while UMAP 1-KNN (no dimensionality reduction gets 73% test). UMAP 1-KNN (project to 2 dimensions) gets 83% test."
   ]
  },
  {
   "cell_type": "code",
   "execution_count": 112,
   "metadata": {},
   "outputs": [
    {
     "name": "stdout",
     "output_type": "stream",
     "text": [
      "(89, 64) (1708, 64)\n"
     ]
    }
   ],
   "source": [
    "X, y = load_digits(return_X_y=True)\n",
    "# res = fetch_olivetti_faces()\n",
    "# X, y = res['data'], res['target']\n",
    "\n",
    "X_train, X_test, y_train, y_test = train_test_split(X, y, test_size=0.95)\n",
    "print(X_train.shape, X_test.shape)"
   ]
  },
  {
   "cell_type": "code",
   "execution_count": 115,
   "metadata": {},
   "outputs": [
    {
     "name": "stdout",
     "output_type": "stream",
     "text": [
      "1.0 0.8992974238875878\n"
     ]
    }
   ],
   "source": [
    "svm = SVC(gamma='scale', kernel='linear')\n",
    "svm.fit(X_train, y_train)\n",
    "train_acc = svm.score(X_train, y_train)\n",
    "test_acc = svm.score(X_test, y_test)\n",
    "print(train_acc, test_acc)"
   ]
  },
  {
   "cell_type": "code",
   "execution_count": 116,
   "metadata": {},
   "outputs": [
    {
     "name": "stdout",
     "output_type": "stream",
     "text": [
      "0.8426966292134831 0.8559718969555035\n"
     ]
    }
   ],
   "source": [
    "X_all = np.concatenate((X_train, X_test))\n",
    "y_all = np.concatenate((y_train, -1*np.ones_like(y_test)))\n",
    "umap.fit(X_all, y_all)\n",
    "X_train_hat = umap.transform(X_train)\n",
    "X_test_hat = umap.transform(X_test)\n",
    "\n",
    "svm.fit(X_train_hat, y_train)\n",
    "train_acc = svm.score(X_train_hat, y_train)\n",
    "test_acc = svm.score(X_test_hat, y_test)\n",
    "print(train_acc, test_acc)"
   ]
  },
  {
   "cell_type": "code",
   "execution_count": 117,
   "metadata": {},
   "outputs": [
    {
     "name": "stdout",
     "output_type": "stream",
     "text": [
      "2 components: train 0.955056, test 0.947\n"
     ]
    }
   ],
   "source": [
    "train_accs = []\n",
    "test_accs = []\n",
    "domain = [2]\n",
    "model = KNeighborsClassifier(n_neighbors=5)\n",
    "for n_components in domain:\n",
    "    umap = UMAP(n_components=n_components)\n",
    "    X_all = np.concatenate((X_train, X_test))\n",
    "    y_all = np.concatenate((y_train, y_test)) #-1*np.ones_like(y_test)))\n",
    "#     umap.fit(X_all, y_all)\n",
    "#     X_train_hat = umap.transform(X_train)\n",
    "#     X_test_hat = umap.transform(X_test)\n",
    "    model.fit(X_train_hat, y_train)\n",
    "    train_acc = model.score(X_train_hat, y_train)\n",
    "    test_acc = model.score(X_test_hat, y_test)\n",
    "    print(\"{} components: train {:3f}, test {:.3f}\".format(n_components, train_acc, test_acc))\n",
    "    train_accs.append(train_acc)\n",
    "    test_accs.append(test_acc)"
   ]
  },
  {
   "cell_type": "code",
   "execution_count": 81,
   "metadata": {},
   "outputs": [
    {
     "name": "stdout",
     "output_type": "stream",
     "text": [
      "1 components: train 1.000000, test 0.340\n",
      "2 components: train 1.000000, test 0.580\n",
      "3 components: train 1.000000, test 0.680\n",
      "4 components: train 1.000000, test 0.760\n",
      "5 components: train 1.000000, test 0.730\n",
      "6 components: train 1.000000, test 0.710\n",
      "7 components: train 1.000000, test 0.740\n",
      "8 components: train 1.000000, test 0.730\n",
      "9 components: train 1.000000, test 0.700\n"
     ]
    }
   ],
   "source": [
    "train_accs = []\n",
    "test_accs = []\n",
    "domain = list(range(1, 10))\n",
    "model = KNeighborsClassifier(n_neighbors=1)\n",
    "# model = SVC(gamma='scale')\n",
    "for n_components in domain:\n",
    "    umap = UMAP(n_components=n_components)\n",
    "\n",
    "    X_all = np.concatenate((X_train, X_test))\n",
    "    y_all = np.concatenate((y_train, -1*np.ones_like(y_test)))\n",
    "    X_train_hat = X_train\n",
    "    X_test_hat = X_test\n",
    "    umap.fit(X_all, y_all)\n",
    "    X_train_hat = umap.transform(X_train)\n",
    "    X_test_hat = umap.transform(X_test)\n",
    "\n",
    "    model.fit(X_train_hat, y_train)\n",
    "    train_acc = model.score(X_train_hat, y_train)\n",
    "    test_acc = model.score(X_test_hat, y_test)\n",
    "    print(\"{} components: train {:3f}, test {:.3f}\".format(n_components, train_acc, test_acc))\n",
    "    train_accs.append(train_acc)\n",
    "    test_accs.append(test_acc)"
   ]
  },
  {
   "cell_type": "code",
   "execution_count": 80,
   "metadata": {},
   "outputs": [
    {
     "data": {
      "image/png": "[encoded data removed]",
      "text/plain": [
       "<Figure size 432x288 with 1 Axes>"
      ]
     },
     "metadata": {
      "needs_background": "light"
     },
     "output_type": "display_data"
    }
   ],
   "source": [
    "def plot_accs():\n",
    "    plt.plot(domain, train_accs, label='Train')\n",
    "    plt.plot(domain, test_accs, label='Test')\n",
    "    plt.legend()\n",
    "    plt.xlabel('Projection Dimension')\n",
    "    plt.ylabel(\"Accuracy\")\n",
    "    plt.show()\n",
    "    \n",
    "plot_accs()"
   ]
  },
  {
   "cell_type": "code",
   "execution_count": 92,
   "metadata": {},
   "outputs": [
    {
     "data": {
      "image/png": "[encoded data removed]",
      "text/plain": [
       "<Figure size 432x288 with 1 Axes>"
      ]
     },
     "metadata": {
      "needs_background": "light"
     },
     "output_type": "display_data"
    }
   ],
   "source": [
    "for i in range(10):\n",
    "    indices = y[y == i]\n",
    "    plt.plot(X[indices], y[indices], 'o')\n",
    "plt.show()"
   ]
  }
 ],
 "metadata": {
  "kernelspec": {
   "display_name": "Python 3",
   "language": "python",
   "name": "python3"
  },
  "language_info": {
   "codemirror_mode": {
    "name": "ipython",
    "version": 3
   },
   "file_extension": ".py",
   "mimetype": "text/x-python",
   "name": "python",
   "nbconvert_exporter": "python",
   "pygments_lexer": "ipython3",
   "version": "3.6.7"
  }
 },
 "nbformat": 4,
 "nbformat_minor": 2
}
