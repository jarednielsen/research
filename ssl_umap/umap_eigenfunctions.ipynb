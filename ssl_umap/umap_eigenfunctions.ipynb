{
 "cells": [
  {
   "cell_type": "markdown",
   "metadata": {},
   "source": [
    "# UMAP Eigenfunction Approximation with Chebyshev Polynomials\n",
    "\n",
    "It appears that there's a \"max connectivity weight\" - 1."
   ]
  },
  {
   "cell_type": "code",
   "execution_count": 117,
   "metadata": {},
   "outputs": [],
   "source": [
    "from sklearn.datasets import make_moons\n",
    "from sklearn.decomposition import PCA\n",
    "from sklearn.manifold import TSNE, SpectralEmbedding\n",
    "from umap import UMAP\n",
    "\n",
    "import torch\n",
    "import torch.nn as nn\n",
    "import torch.optim as optim\n",
    "import matplotlib.pyplot as plt\n",
    "import numpy as np\n",
    "import networkx as nx\n",
    "import pickle\n",
    "import scipy.linalg as spla\n",
    "\n",
    "from MoonsMLP import MoonsMLP\n",
    "\n",
    "torch.set_printoptions(precision=4)\n",
    "np.set_printoptions(precision=2)"
   ]
  },
  {
   "cell_type": "markdown",
   "metadata": {},
   "source": [
    "### Noisy Half-Moons, Partially Labeled"
   ]
  },
  {
   "cell_type": "code",
   "execution_count": 113,
   "metadata": {},
   "outputs": [
    {
     "data": {
      "image/png": "[encoded data removed]",
      "text/plain": [
       "<Figure size 432x288 with 1 Axes>"
      ]
     },
     "metadata": {
      "needs_background": "light"
     },
     "output_type": "display_data"
    },
    {
     "data": {
      "image/png": "[encoded data removed]",
      "text/plain": [
       "<Figure size 432x288 with 1 Axes>"
      ]
     },
     "metadata": {
      "needs_background": "light"
     },
     "output_type": "display_data"
    }
   ],
   "source": [
    "def plot_moons(X, y):\n",
    "    top = (y == 0)\n",
    "    bottom = (y == 1)\n",
    "    plt.scatter(X[bottom,0], X[bottom,1])\n",
    "    plt.scatter(X[top,0], X[top,1])\n",
    "    plt.show()\n",
    "    \n",
    "n_total = 100\n",
    "n_labeled = 5\n",
    "noise = 0\n",
    "X, y = make_moons(n_samples=n_total, noise=noise)\n",
    "Xl, yl = X[:n_labeled], y[:n_labeled]\n",
    "Xu, yu = X[n_labeled:], y[n_labeled:]\n",
    "plot_moons(Xl, yl)\n",
    "plot_moons(X, y)"
   ]
  },
  {
   "cell_type": "code",
   "execution_count": null,
   "metadata": {},
   "outputs": [],
   "source": []
  },
  {
   "cell_type": "code",
   "execution_count": 114,
   "metadata": {},
   "outputs": [
    {
     "name": "stdout",
     "output_type": "stream",
     "text": [
      "UMAP(a=None, angular_rp_forest=False, b=None, init='spectral',\n",
      "   learning_rate=1.0, local_connectivity=1.0, metric='euclidean',\n",
      "   metric_kwds=None, min_dist=0.1, n_components=2, n_epochs=None,\n",
      "   n_neighbors=2, negative_sample_rate=5, random_state=None,\n",
      "   repulsion_strength=1.0, set_op_mix_ratio=1.0, spread=1.0,\n",
      "   target_metric='categorical', target_metric_kwds=None,\n",
      "   target_n_neighbors=-1, target_weight=0.5, transform_queue_size=4.0,\n",
      "   transform_seed=42, verbose=False)\n"
     ]
    },
    {
     "name": "stderr",
     "output_type": "stream",
     "text": [
      "/home/jared/.local/lib/python3.6/site-packages/umap/spectral.py:229: UserWarning: Embedding a total of 2 separate connected components using meta-embedding (experimental)\n",
      "  n_components\n"
     ]
    },
    {
     "data": {
      "image/png": "[encoded data removed]",
      "text/plain": [
       "<Figure size 432x288 with 1 Axes>"
      ]
     },
     "metadata": {
      "needs_background": "light"
     },
     "output_type": "display_data"
    },
    {
     "name": "stdout",
     "output_type": "stream",
     "text": [
      "[[0. 1. 0. 0. 0.]\n",
      " [1. 0. 0. 0. 0.]\n",
      " [0. 0. 0. 1. 1.]\n",
      " [0. 0. 1. 0. 0.]\n",
      " [0. 0. 1. 0. 0.]]\n"
     ]
    },
    {
     "name": "stderr",
     "output_type": "stream",
     "text": [
      "/home/jared/.local/lib/python3.6/site-packages/networkx/drawing/nx_pylab.py:611: MatplotlibDeprecationWarning: isinstance(..., numbers.Number)\n",
      "  if cb.is_numlike(alpha):\n"
     ]
    },
    {
     "data": {
      "image/png": "[encoded data removed]",
      "text/plain": [
       "<Figure size 432x288 with 1 Axes>"
      ]
     },
     "metadata": {
      "needs_background": "light"
     },
     "output_type": "display_data"
    }
   ],
   "source": [
    "umap = UMAP(n_components=2, n_neighbors=2)\n",
    "print(umap)\n",
    "Xlu = umap.fit_transform(Xl)\n",
    "plot_moons(Xlu, yl)\n",
    "\n",
    "A = umap.graph_.todense().round(decimals=2)\n",
    "G = nx.convert_matrix.from_numpy_matrix(A)\n",
    "pos=nx.spring_layout(G)\n",
    "# nx.draw(G,pos)\n",
    "labels = nx.get_edge_attributes(G,'weight')\n",
    "nx.draw_networkx_edge_labels(G,pos,edge_labels=labels)\n",
    "nx.draw_networkx(G,pos)\n",
    "print(A)"
   ]
  },
  {
   "cell_type": "code",
   "execution_count": 115,
   "metadata": {},
   "outputs": [
    {
     "name": "stdout",
     "output_type": "stream",
     "text": [
      "Laplacian:\n",
      " [[ 1. -1.  0.  0.  0.]\n",
      " [-1.  1.  0.  0.  0.]\n",
      " [ 0.  0.  2. -1. -1.]\n",
      " [ 0.  0. -1.  1.  0.]\n",
      " [ 0.  0. -1.  0.  1.]]\n",
      "Eigenvalues:\n",
      " [ 0. -0.  1.  2.  3.]\n",
      "Eigenvectors:\n",
      " [[ 0.71  0.    0.    0.71  0.  ]\n",
      " [ 0.71  0.    0.   -0.71  0.  ]\n",
      " [ 0.    0.58  0.    0.   -0.82]\n",
      " [ 0.    0.58 -0.71  0.    0.41]\n",
      " [ 0.    0.58  0.71  0.    0.41]]\n"
     ]
    }
   ],
   "source": [
    "D = np.sum(A, axis=1)\n",
    "D = np.diag(D)\n",
    "L = D - A\n",
    "print(\"Laplacian:\\n\", L)\n",
    "\n",
    "w, v = np.linalg.eig(L)\n",
    "w = np.round(w, decimals=2)\n",
    "v = np.round(v, decimals=2)\n",
    "idx = np.argsort(w)\n",
    "print(\"Eigenvalues:\\n\", w[idx])\n",
    "\n",
    "print(\"Eigenvectors:\\n\", v[:,idx])"
   ]
  },
  {
   "cell_type": "code",
   "execution_count": 118,
   "metadata": {},
   "outputs": [
    {
     "name": "stdout",
     "output_type": "stream",
     "text": [
      "Eigenvalues:\n",
      " [-0.  0.  1.  2.  2.]\n",
      "Eigenvectors:\n",
      " [[ 0.   -0.71  0.   -0.71  0.  ]\n",
      " [ 0.   -0.71  0.    0.71  0.  ]\n",
      " [-0.5   0.    0.    0.    0.5 ]\n",
      " [-0.5  -0.   -0.71  0.   -0.5 ]\n",
      " [-0.5  -0.    0.71  0.   -0.5 ]]\n"
     ]
    }
   ],
   "source": [
    "w, v = spla.eigh(L, D)\n",
    "w = np.round(w, decimals=2)\n",
    "v = np.round(v, decimals=2)\n",
    "idx = np.argsort(w)\n",
    "print(\"Eigenvalues:\\n\", w[idx])\n",
    "\n",
    "print(\"Eigenvectors:\\n\", v[:,idx])"
   ]
  },
  {
   "cell_type": "code",
   "execution_count": 111,
   "metadata": {},
   "outputs": [
    {
     "data": {
      "text/plain": [
       "[<matplotlib.lines.Line2D at 0x7ff01321f518>]"
      ]
     },
     "execution_count": 111,
     "metadata": {},
     "output_type": "execute_result"
    },
    {
     "data": {
      "image/png": "[encoded data removed]",
      "text/plain": [
       "<Figure size 432x288 with 1 Axes>"
      ]
     },
     "metadata": {
      "needs_background": "light"
     },
     "output_type": "display_data"
    }
   ],
   "source": [
    "spectral = v[:,:2]\n",
    "plt.plot(spectral[:,0], spectral[:,1], 'o')"
   ]
  }
 ],
 "metadata": {
  "kernelspec": {
   "display_name": "Python 3",
   "language": "python",
   "name": "python3"
  },
  "language_info": {
   "codemirror_mode": {
    "name": "ipython",
    "version": 3
   },
   "file_extension": ".py",
   "mimetype": "text/x-python",
   "name": "python",
   "nbconvert_exporter": "python",
   "pygments_lexer": "ipython3",
   "version": "3.6.7"
  }
 },
 "nbformat": 4,
 "nbformat_minor": 2
}
