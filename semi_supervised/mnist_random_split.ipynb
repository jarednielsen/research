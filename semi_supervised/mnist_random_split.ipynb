{
 "cells": [
  {
   "cell_type": "markdown",
   "metadata": {},
   "source": [
    "# Semi-Supervised Learning of MNIST CNN\n",
    "Jared Nielsen\n",
    "\n"
   ]
  },
  {
   "cell_type": "markdown",
   "metadata": {},
   "source": [
    "# **Results**\n",
    "\n",
    "\n",
    "### MNIST\n",
    "`model_B` achieves 90.6% accuracy on `data_A` when `model_A` has 89.9% accuracy on `data_A`.  \n",
    "`model_B` achieves 96.6% accuracy on `data_A` when `model_A` has 97.9% accuracy on `data_A`.\n",
    "\n",
    "### Fashion-MNIST\n",
    "`model_B` achieves 81.1% accuracy on `data_A` when `model_A` has 83.5% accuracy on `data_A`.  \n",
    "`model_B` achieves 85.5% accuracy on `data_A` when `model_A` has 87.6% accuracy on `data_A`."
   ]
  },
  {
   "cell_type": "markdown",
   "metadata": {},
   "source": [
    "# **Notes**\n",
    "\n",
    "### Steps to Semi-Supervised Metrics\n",
    "- Separate MNIST into `dataset_A` and `dataset_B`. Hide the labels from `dataset_B`.\n",
    "- Instantiate `model_A` and `model_B` of the same architecture.  \n",
    "- Train `model_A` on `dataset_A`. Use `model_A` to predict the labels for `dataset_B`. \n",
    "- Train `model_B` on `dataset_B_augmented`. Use `model_B` to predict the labels for `dataset_A`.\n",
    "\n",
    "### Issues\n",
    "- If a CNN gets 98% test performance on MNIST, then it will get at worst 0.98^2 = 96% performance on transfer learning.\n",
    "\n",
    "### Comparable Architectures\n",
    "- MLP vs CNN?\n",
    "\n",
    "### Ideas\n",
    "- Should I use `mag` to serialize the models? **Yes.**\n",
    "- Fashion-MNIST instead of MNIST?"
   ]
  },
  {
   "cell_type": "code",
   "execution_count": 1,
   "metadata": {},
   "outputs": [],
   "source": [
    "import torch\n",
    "import torchvision\n",
    "import numpy as np\n",
    "import matplotlib.pyplot as plt\n",
    "import torch.nn as nn\n",
    "import torch.nn.functional as F\n",
    "import torch.optim as optim\n",
    "from torch.utils.data import DataLoader, random_split, TensorDataset\n",
    "from tqdm import tqdm, tqdm_notebook\n",
    "from time import sleep\n",
    "\n",
    "import mnist_cnn\n",
    "from mnist_cnn import Net, model_A_path, model_B_path"
   ]
  },
  {
   "cell_type": "markdown",
   "metadata": {},
   "source": [
    "### Load `dataset_A` and `dataset_B`"
   ]
  },
  {
   "cell_type": "code",
   "execution_count": 2,
   "metadata": {},
   "outputs": [
    {
     "name": "stdout",
     "output_type": "stream",
     "text": [
      "using cuda\n"
     ]
    }
   ],
   "source": [
    "batch_size_train = 64\n",
    "batch_size_test = 1000\n",
    "learning_rate = 1e-3 #0.01\n",
    "momentum = 0.5\n",
    "log_interval = 10\n",
    "\n",
    "if torch.cuda.is_available():\n",
    "    print('using cuda')\n",
    "    device = torch.device('cuda')\n",
    "else:\n",
    "    print('using cpu')\n",
    "    device = torch.device('cpu')\n",
    "\n",
    "random_seed = 1\n",
    "# torch.backends.cudnn.enabled = False\n",
    "torch.manual_seed(random_seed)\n",
    "\n",
    "root_dir = \"../data/fashion-mnist/\"\n",
    "mnist_train = torchvision.datasets.FashionMNIST(root_dir, train=True, download=True,\n",
    "                             transform=torchvision.transforms.Compose([\n",
    "                               torchvision.transforms.ToTensor(),\n",
    "                               torchvision.transforms.Normalize(\n",
    "                                 (0.1307,), (0.3081,))\n",
    "                             ]))\n",
    "n_digits = len(mnist_train)\n",
    "dataset_A, dataset_B = random_split(mnist_train, [n_digits // 2, n_digits - n_digits // 2])\n",
    "loader_A, loader_B = [DataLoader(dataset, batch_size=batch_size_train, shuffle=True) \n",
    "                      for dataset in (dataset_A, dataset_B)]"
   ]
  },
  {
   "cell_type": "markdown",
   "metadata": {},
   "source": [
    "### Train `model_A` on `dataset_A`"
   ]
  },
  {
   "cell_type": "code",
   "execution_count": 3,
   "metadata": {},
   "outputs": [
    {
     "data": {
      "application/vnd.jupyter.widget-view+json": {
       "model_id": "db96386b927846cc96c0d488adb00364",
       "version_major": 2,
       "version_minor": 0
      },
      "text/plain": [
       "HBox(children=(IntProgress(value=0, description='epoch 0', max=469), HTML(value='')))"
      ]
     },
     "metadata": {},
     "output_type": "display_data"
    },
    {
     "name": "stdout",
     "output_type": "stream",
     "text": [
      "\n",
      "\n",
      "Test set: Avg. loss: 0.5676, Accuracy: 23413/30000 (78.04%)\n",
      "\n"
     ]
    },
    {
     "data": {
      "application/vnd.jupyter.widget-view+json": {
       "model_id": "c197a68da31e48fc9203aabd6551772a",
       "version_major": 2,
       "version_minor": 0
      },
      "text/plain": [
       "HBox(children=(IntProgress(value=0, description='epoch 1', max=469), HTML(value='')))"
      ]
     },
     "metadata": {},
     "output_type": "display_data"
    },
    {
     "name": "stdout",
     "output_type": "stream",
     "text": [
      "\n",
      "\n",
      "Test set: Avg. loss: 0.4987, Accuracy: 24581/30000 (81.94%)\n",
      "\n"
     ]
    },
    {
     "data": {
      "application/vnd.jupyter.widget-view+json": {
       "model_id": "5256f2ec5a2a4018902c85395b00b48b",
       "version_major": 2,
       "version_minor": 0
      },
      "text/plain": [
       "HBox(children=(IntProgress(value=0, description='epoch 2', max=469), HTML(value='')))"
      ]
     },
     "metadata": {},
     "output_type": "display_data"
    },
    {
     "name": "stdout",
     "output_type": "stream",
     "text": [
      "\n",
      "\n",
      "Test set: Avg. loss: 0.4456, Accuracy: 25100/30000 (83.67%)\n",
      "\n"
     ]
    },
    {
     "data": {
      "application/vnd.jupyter.widget-view+json": {
       "model_id": "8024d8c73fd84db187a6a19d7566343f",
       "version_major": 2,
       "version_minor": 0
      },
      "text/plain": [
       "HBox(children=(IntProgress(value=0, description='epoch 3', max=469), HTML(value='')))"
      ]
     },
     "metadata": {},
     "output_type": "display_data"
    },
    {
     "name": "stdout",
     "output_type": "stream",
     "text": [
      "\n",
      "\n",
      "Test set: Avg. loss: 0.4116, Accuracy: 25476/30000 (84.92%)\n",
      "\n"
     ]
    },
    {
     "data": {
      "application/vnd.jupyter.widget-view+json": {
       "model_id": "3191290e4d104186b7a93f70ba2c51c8",
       "version_major": 2,
       "version_minor": 0
      },
      "text/plain": [
       "HBox(children=(IntProgress(value=0, description='epoch 4', max=469), HTML(value='')))"
      ]
     },
     "metadata": {},
     "output_type": "display_data"
    },
    {
     "name": "stdout",
     "output_type": "stream",
     "text": [
      "\n",
      "\n",
      "Test set: Avg. loss: 0.3974, Accuracy: 25578/30000 (85.26%)\n",
      "\n"
     ]
    },
    {
     "data": {
      "application/vnd.jupyter.widget-view+json": {
       "model_id": "0ff57d6c5aa247bc9480f4f2d1d06b72",
       "version_major": 2,
       "version_minor": 0
      },
      "text/plain": [
       "HBox(children=(IntProgress(value=0, description='epoch 5', max=469), HTML(value='')))"
      ]
     },
     "metadata": {},
     "output_type": "display_data"
    },
    {
     "name": "stdout",
     "output_type": "stream",
     "text": [
      "\n",
      "\n",
      "Test set: Avg. loss: 0.3955, Accuracy: 25570/30000 (85.23%)\n",
      "\n"
     ]
    },
    {
     "data": {
      "application/vnd.jupyter.widget-view+json": {
       "model_id": "284023c327f84eb4a4eea1fe9d958508",
       "version_major": 2,
       "version_minor": 0
      },
      "text/plain": [
       "HBox(children=(IntProgress(value=0, description='epoch 6', max=469), HTML(value='')))"
      ]
     },
     "metadata": {},
     "output_type": "display_data"
    },
    {
     "name": "stdout",
     "output_type": "stream",
     "text": [
      "\n",
      "\n",
      "Test set: Avg. loss: 0.3786, Accuracy: 25776/30000 (85.92%)\n",
      "\n"
     ]
    },
    {
     "data": {
      "application/vnd.jupyter.widget-view+json": {
       "model_id": "81331b15cbd045538049436c5b79d330",
       "version_major": 2,
       "version_minor": 0
      },
      "text/plain": [
       "HBox(children=(IntProgress(value=0, description='epoch 7', max=469), HTML(value='')))"
      ]
     },
     "metadata": {},
     "output_type": "display_data"
    },
    {
     "name": "stdout",
     "output_type": "stream",
     "text": [
      "\n",
      "\n",
      "Test set: Avg. loss: 0.3574, Accuracy: 26145/30000 (87.15%)\n",
      "\n"
     ]
    },
    {
     "data": {
      "application/vnd.jupyter.widget-view+json": {
       "model_id": "12512ae79ec74a578e7b63b4370c885f",
       "version_major": 2,
       "version_minor": 0
      },
      "text/plain": [
       "HBox(children=(IntProgress(value=0, description='epoch 8', max=469), HTML(value='')))"
      ]
     },
     "metadata": {},
     "output_type": "display_data"
    },
    {
     "name": "stdout",
     "output_type": "stream",
     "text": [
      "\n",
      "\n",
      "Test set: Avg. loss: 0.3455, Accuracy: 26213/30000 (87.38%)\n",
      "\n"
     ]
    },
    {
     "data": {
      "application/vnd.jupyter.widget-view+json": {
       "model_id": "f37aaec9d7eb463eacdc661a9ed3477b",
       "version_major": 2,
       "version_minor": 0
      },
      "text/plain": [
       "HBox(children=(IntProgress(value=0, description='epoch 9', max=469), HTML(value='')))"
      ]
     },
     "metadata": {},
     "output_type": "display_data"
    },
    {
     "name": "stdout",
     "output_type": "stream",
     "text": [
      "\n",
      "\n",
      "Test set: Avg. loss: 0.3364, Accuracy: 26302/30000 (87.67%)\n",
      "\n"
     ]
    }
   ],
   "source": [
    "model_A = Net().to(device)\n",
    "opt_A = optim.SGD(model_A.parameters(), lr=learning_rate,\n",
    "                 momentum=momentum)\n",
    "opt_A = optim.Adam(model_A.parameters(), lr=learning_rate)\n",
    "\n",
    "n_epochs = 10\n",
    "\n",
    "def train(model_A, optimizer_A, epoch, train_loader):\n",
    "    model_A.train()\n",
    "    for batch_idx, (data, target) in tqdm_notebook(enumerate(train_loader), desc='epoch {}'.format(epoch),\n",
    "                                                  total=len(train_loader)):\n",
    "        data, target = data.to(device), target.to(device)\n",
    "        optimizer_A.zero_grad()\n",
    "        output = model_A(data)\n",
    "        loss = F.nll_loss(output, target)\n",
    "        loss.backward()\n",
    "        optimizer_A.step()\n",
    "        if batch_idx % log_interval == 0:\n",
    "            torch.save(model_A.state_dict(), model_A_path)\n",
    "            \n",
    "def test(network, test_loader):\n",
    "    network.eval()\n",
    "    test_loss = 0\n",
    "    correct = 0\n",
    "    with torch.no_grad():\n",
    "        for data, target in test_loader:\n",
    "            data, target = data.to(device), target.to(device)\n",
    "            output = network(data)\n",
    "            test_loss += F.nll_loss(output, target, reduction='sum').item()\n",
    "            pred = output.data.max(1, keepdim=True)[1]\n",
    "            correct += pred.eq(target.data.view_as(pred)).sum()\n",
    "        test_loss /= len(test_loader.dataset)\n",
    "        acc = 100 * correct.item() / len(test_loader.dataset)\n",
    "        print('\\nTest set: Avg. loss: {:.4f}, Accuracy: {}/{} ({:.2f}%)\\n'.format(\n",
    "            test_loss, correct, len(test_loader.dataset), acc))\n",
    "        \n",
    "for i_epoch in range(n_epochs):\n",
    "    train(model_A=model_A, optimizer_A=opt_A, epoch=i_epoch,\n",
    "          train_loader=loader_A)\n",
    "    test(network=model_A, test_loader=loader_A)"
   ]
  },
  {
   "cell_type": "markdown",
   "metadata": {},
   "source": [
    "### Load `model_A` with trained weights"
   ]
  },
  {
   "cell_type": "code",
   "execution_count": 34,
   "metadata": {},
   "outputs": [
    {
     "name": "stdout",
     "output_type": "stream",
     "text": [
      "\n",
      "Test set: Avg. loss: 0.3350, Accuracy: 26295/30000 (87.65%)\n",
      "\n",
      "\n",
      "Test set: Avg. loss: 0.3597, Accuracy: 26012/30000 (86.71%)\n",
      "\n"
     ]
    }
   ],
   "source": [
    "model_A = Net().to(device)\n",
    "model_A.load_state_dict(torch.load(model_A_path))\n",
    "test(network=model_A, test_loader=loader_A)\n",
    "test(network=model_A, test_loader=loader_B)"
   ]
  },
  {
   "cell_type": "markdown",
   "metadata": {},
   "source": [
    "### Use `model_A` to label `dataset_B`, Train `model_B` on `dataset_B_hat`"
   ]
  },
  {
   "cell_type": "code",
   "execution_count": 35,
   "metadata": {},
   "outputs": [
    {
     "data": {
      "application/vnd.jupyter.widget-view+json": {
       "model_id": "c964c46b20a54c629ca94525eac092e6",
       "version_major": 2,
       "version_minor": 0
      },
      "text/plain": [
       "HBox(children=(IntProgress(value=0, description='epoch 0', max=469), HTML(value='')))"
      ]
     },
     "metadata": {},
     "output_type": "display_data"
    },
    {
     "name": "stdout",
     "output_type": "stream",
     "text": [
      "\n",
      "Test set: Avg. loss: 0.6161, Accuracy: 23490/30000 (78.30%)\n",
      "\n"
     ]
    },
    {
     "data": {
      "application/vnd.jupyter.widget-view+json": {
       "model_id": "e271ecc120614c429390424d5ae4b97f",
       "version_major": 2,
       "version_minor": 0
      },
      "text/plain": [
       "HBox(children=(IntProgress(value=0, description='epoch 1', max=469), HTML(value='')))"
      ]
     },
     "metadata": {},
     "output_type": "display_data"
    },
    {
     "name": "stdout",
     "output_type": "stream",
     "text": [
      "\n",
      "Test set: Avg. loss: 0.5593, Accuracy: 24355/30000 (81.18%)\n",
      "\n"
     ]
    },
    {
     "data": {
      "application/vnd.jupyter.widget-view+json": {
       "model_id": "d7c56ed52836411c8421f5dd82aed044",
       "version_major": 2,
       "version_minor": 0
      },
      "text/plain": [
       "HBox(children=(IntProgress(value=0, description='epoch 2', max=469), HTML(value='')))"
      ]
     },
     "metadata": {},
     "output_type": "display_data"
    },
    {
     "name": "stdout",
     "output_type": "stream",
     "text": [
      "\n",
      "Test set: Avg. loss: 0.5512, Accuracy: 24571/30000 (81.90%)\n",
      "\n"
     ]
    },
    {
     "data": {
      "application/vnd.jupyter.widget-view+json": {
       "model_id": "5b02715bf0744c888ce3b095016c8a5b",
       "version_major": 2,
       "version_minor": 0
      },
      "text/plain": [
       "HBox(children=(IntProgress(value=0, description='epoch 3', max=469), HTML(value='')))"
      ]
     },
     "metadata": {},
     "output_type": "display_data"
    },
    {
     "name": "stdout",
     "output_type": "stream",
     "text": [
      "\n",
      "Test set: Avg. loss: 0.5413, Accuracy: 25085/30000 (83.62%)\n",
      "\n"
     ]
    },
    {
     "data": {
      "application/vnd.jupyter.widget-view+json": {
       "model_id": "ac5e13b5e2cb49609a74bf83e6549c0d",
       "version_major": 2,
       "version_minor": 0
      },
      "text/plain": [
       "HBox(children=(IntProgress(value=0, description='epoch 4', max=469), HTML(value='')))"
      ]
     },
     "metadata": {},
     "output_type": "display_data"
    },
    {
     "name": "stdout",
     "output_type": "stream",
     "text": [
      "\n",
      "Test set: Avg. loss: 0.5431, Accuracy: 25364/30000 (84.55%)\n",
      "\n"
     ]
    },
    {
     "data": {
      "application/vnd.jupyter.widget-view+json": {
       "model_id": "0bda0638001542308e4b9681d7169d12",
       "version_major": 2,
       "version_minor": 0
      },
      "text/plain": [
       "HBox(children=(IntProgress(value=0, description='epoch 5', max=469), HTML(value='')))"
      ]
     },
     "metadata": {},
     "output_type": "display_data"
    },
    {
     "name": "stdout",
     "output_type": "stream",
     "text": [
      "\n",
      "Test set: Avg. loss: 0.5197, Accuracy: 25438/30000 (84.79%)\n",
      "\n"
     ]
    },
    {
     "data": {
      "application/vnd.jupyter.widget-view+json": {
       "model_id": "2c44875d0e4a4979a372aa768362c5ba",
       "version_major": 2,
       "version_minor": 0
      },
      "text/plain": [
       "HBox(children=(IntProgress(value=0, description='epoch 6', max=469), HTML(value='')))"
      ]
     },
     "metadata": {},
     "output_type": "display_data"
    },
    {
     "name": "stdout",
     "output_type": "stream",
     "text": [
      "\n",
      "Test set: Avg. loss: 0.5021, Accuracy: 25526/30000 (85.09%)\n",
      "\n"
     ]
    },
    {
     "data": {
      "application/vnd.jupyter.widget-view+json": {
       "model_id": "d37409b2bce845339d1f4c07a709a0b2",
       "version_major": 2,
       "version_minor": 0
      },
      "text/plain": [
       "HBox(children=(IntProgress(value=0, description='epoch 7', max=469), HTML(value='')))"
      ]
     },
     "metadata": {},
     "output_type": "display_data"
    },
    {
     "name": "stdout",
     "output_type": "stream",
     "text": [
      "\n",
      "Test set: Avg. loss: 0.5338, Accuracy: 25525/30000 (85.08%)\n",
      "\n"
     ]
    },
    {
     "data": {
      "application/vnd.jupyter.widget-view+json": {
       "model_id": "666456c48f7249eca8665d129f8e9a4c",
       "version_major": 2,
       "version_minor": 0
      },
      "text/plain": [
       "HBox(children=(IntProgress(value=0, description='epoch 8', max=469), HTML(value='')))"
      ]
     },
     "metadata": {},
     "output_type": "display_data"
    },
    {
     "name": "stdout",
     "output_type": "stream",
     "text": [
      "\n",
      "Test set: Avg. loss: 0.5454, Accuracy: 25503/30000 (85.01%)\n",
      "\n"
     ]
    },
    {
     "data": {
      "application/vnd.jupyter.widget-view+json": {
       "model_id": "c95ec4cef6194b8980c235fe4e8f8b74",
       "version_major": 2,
       "version_minor": 0
      },
      "text/plain": [
       "HBox(children=(IntProgress(value=0, description='epoch 9', max=469), HTML(value='')))"
      ]
     },
     "metadata": {},
     "output_type": "display_data"
    },
    {
     "name": "stdout",
     "output_type": "stream",
     "text": [
      "\n",
      "Test set: Avg. loss: 0.5474, Accuracy: 25599/30000 (85.33%)\n",
      "\n"
     ]
    }
   ],
   "source": [
    "model_B = Net().to(device)\n",
    "opt_B = optim.SGD(model_B.parameters(), lr=learning_rate,\n",
    "                 momentum=momentum)\n",
    "opt_B = optim.Adam(model_B.parameters(), lr=learning_rate)\n",
    "\n",
    "n_epochs = 10\n",
    "\n",
    "def train_with_transfer_labels(model_A, model_B, optimizer_B, epoch, train_loader):\n",
    "    model_A.eval()\n",
    "    model_B.train()\n",
    "    for batch_idx, (data, target) in tqdm_notebook(enumerate(train_loader), desc='epoch {}'.format(epoch),\n",
    "                                                  total=len(train_loader)):\n",
    "        data, target = data.to(device), target.to(device)\n",
    "        target_hat = model_A(data)\n",
    "        target_hat = torch.argmax(target_hat, dim=1)\n",
    "        optimizer_B.zero_grad()\n",
    "        output = model_B(data)\n",
    "        loss_hat = F.nll_loss(output, target_hat)\n",
    "        loss_hat.backward()\n",
    "        optimizer_B.step()\n",
    "        \n",
    "        if batch_idx % log_interval == 0:\n",
    "            torch.save(model_B.state_dict(), model_B_path)\n",
    "        \n",
    "for i_epoch in range(n_epochs):\n",
    "    train_with_transfer_labels(model_A=model_A, model_B=model_B, optimizer_B=opt_B,\n",
    "                              epoch=i_epoch, train_loader=loader_B)\n",
    "    test(network=model_B, test_loader=loader_A)"
   ]
  },
  {
   "cell_type": "code",
   "execution_count": 36,
   "metadata": {},
   "outputs": [
    {
     "name": "stdout",
     "output_type": "stream",
     "text": [
      "\n",
      "Test set: Avg. loss: 0.5539, Accuracy: 25661/30000 (85.54%)\n",
      "\n",
      "\n",
      "Test set: Avg. loss: 0.5563, Accuracy: 25589/30000 (85.30%)\n",
      "\n"
     ]
    }
   ],
   "source": [
    "model_B = Net().to(device)\n",
    "model_B.load_state_dict(torch.load(model_B_path))\n",
    "test(network=model_B, test_loader=loader_A)\n",
    "test(network=model_B, test_loader=loader_B)"
   ]
  }
 ],
 "metadata": {
  "kernelspec": {
   "display_name": "Python 3",
   "language": "python",
   "name": "python3"
  },
  "language_info": {
   "codemirror_mode": {
    "name": "ipython",
    "version": 3
   },
   "file_extension": ".py",
   "mimetype": "text/x-python",
   "name": "python",
   "nbconvert_exporter": "python",
   "pygments_lexer": "ipython3",
   "version": "3.6.7"
  }
 },
 "nbformat": 4,
 "nbformat_minor": 2
}
