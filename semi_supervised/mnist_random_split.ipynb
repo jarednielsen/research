{
 "cells": [
  {
   "cell_type": "markdown",
   "metadata": {},
   "source": [
    "# Semi-Supervised Learning of MNIST CNN\n",
    "Jared Nielsen\n",
    "\n"
   ]
  },
  {
   "cell_type": "markdown",
   "metadata": {},
   "source": [
    "# **Results**\n",
    "\n",
    "\n",
    "### MNIST\n",
    "`model_B` achieves 90.6% accuracy on `data_A` when `model_A` has 89.9% accuracy on `data_A`.  \n",
    "`model_B` achieves 96.6% accuracy on `data_A` when `model_A` has 97.9% accuracy on `data_A`.\n",
    "\n",
    "### Fashion-MNIST\n",
    "`model_B` achieves 81.1% accuracy on `data_A` when `model_A` has 83.5% accuracy on `data_A`.  \n",
    "`model_B` achieves 85.5% accuracy on `data_A` when `model_A` has 87.6% accuracy on `data_A`."
   ]
  },
  {
   "cell_type": "markdown",
   "metadata": {},
   "source": [
    "# **Notes**\n",
    "\n",
    "### Steps to Semi-Supervised Metrics\n",
    "- Separate MNIST into `dataset_A` and `dataset_B`. Hide the labels from `dataset_B`.\n",
    "- Instantiate `model_A` and `model_B` of the same architecture.  \n",
    "- Train `model_A` on `dataset_A`. Use `model_A` to predict the labels for `dataset_B`. \n",
    "- Train `model_B` on `dataset_B_augmented`. Use `model_B` to predict the labels for `dataset_A`.\n",
    "\n",
    "### Issues\n",
    "- If a CNN gets 98% test performance on MNIST, then it will get at worst 0.98^2 = 96% performance on transfer learning.\n",
    "\n",
    "### Comparable Architectures\n",
    "- MLP vs CNN?\n",
    "\n",
    "### Ideas\n",
    "- Should I use `mag` to serialize the models? **Yes.**\n",
    "- Fashion-MNIST instead of MNIST?"
   ]
  },
  {
   "cell_type": "code",
   "execution_count": 1,
   "metadata": {},
   "outputs": [],
   "source": [
    "import torch\n",
    "import torchvision\n",
    "import numpy as np\n",
    "import matplotlib.pyplot as plt\n",
    "import torch.nn as nn\n",
    "import torch.nn.functional as F\n",
    "import torch.optim as optim\n",
    "from torch.utils.data import DataLoader, random_split, TensorDataset\n",
    "from tqdm import tqdm, tqdm_notebook\n",
    "from time import sleep\n",
    "\n",
    "import mnist_cnn\n",
    "from mnist_cnn import Net, model_A_path, model_B_path"
   ]
  },
  {
   "cell_type": "markdown",
   "metadata": {},
   "source": [
    "### Load `dataset_A` and `dataset_B`"
   ]
  },
  {
   "cell_type": "code",
   "execution_count": 32,
   "metadata": {},
   "outputs": [
    {
     "name": "stdout",
     "output_type": "stream",
     "text": [
      "using cuda\n"
     ]
    }
   ],
   "source": [
    "batch_size_train = 64\n",
    "batch_size_test = 1000\n",
    "learning_rate = 1e-3 #0.01\n",
    "momentum = 0.5\n",
    "log_interval = 10\n",
    "\n",
    "if torch.cuda.is_available():\n",
    "    print('using cuda')\n",
    "    device = torch.device('cuda')\n",
    "else:\n",
    "    print('using cpu')\n",
    "    device = torch.device('cpu')\n",
    "\n",
    "random_seed = 1\n",
    "# torch.backends.cudnn.enabled = False\n",
    "torch.manual_seed(random_seed)\n",
    "\n",
    "root_dir = \"../data/fashion-mnist/\"\n",
    "mnist_train = torchvision.datasets.FashionMNIST(root_dir, train=True, download=True,\n",
    "                             transform=torchvision.transforms.Compose([\n",
    "                               torchvision.transforms.ToTensor(),\n",
    "                               torchvision.transforms.Normalize(\n",
    "                                 (0.1307,), (0.3081,))\n",
    "                             ]))\n",
    "n_digits = len(mnist_train)\n",
    "dataset_A, dataset_B = random_split(mnist_train, [n_digits // 2, n_digits - n_digits // 2])\n",
    "loader_A, loader_B = [DataLoader(dataset, batch_size=batch_size_train, shuffle=True) \n",
    "                      for dataset in (dataset_A, dataset_B)]"
   ]
  },
  {
   "cell_type": "markdown",
   "metadata": {},
   "source": [
    "### Train `model_A` on `dataset_A`"
   ]
  },
  {
   "cell_type": "code",
   "execution_count": 33,
   "metadata": {},
   "outputs": [
    {
     "data": {
      "application/vnd.jupyter.widget-view+json": {
       "model_id": "0e1c2508e20b4e319b733ddd56e57113",
       "version_major": 2,
       "version_minor": 0
      },
      "text/plain": [
       "HBox(children=(IntProgress(value=0, description='epoch 0', max=469), HTML(value='')))"
      ]
     },
     "metadata": {},
     "output_type": "display_data"
    },
    {
     "name": "stdout",
     "output_type": "stream",
     "text": [
      "\n",
      "Test set: Avg. loss: 0.5664, Accuracy: 23437/30000 (78.12%)\n",
      "\n"
     ]
    },
    {
     "data": {
      "application/vnd.jupyter.widget-view+json": {
       "model_id": "89083795bf594164b8678d3f336e8536",
       "version_major": 2,
       "version_minor": 0
      },
      "text/plain": [
       "HBox(children=(IntProgress(value=0, description='epoch 1', max=469), HTML(value='')))"
      ]
     },
     "metadata": {},
     "output_type": "display_data"
    },
    {
     "name": "stdout",
     "output_type": "stream",
     "text": [
      "\n",
      "Test set: Avg. loss: 0.4992, Accuracy: 24565/30000 (81.88%)\n",
      "\n"
     ]
    },
    {
     "data": {
      "application/vnd.jupyter.widget-view+json": {
       "model_id": "dec6f8e8ba1743b8ae6a8836dd6c4ae9",
       "version_major": 2,
       "version_minor": 0
      },
      "text/plain": [
       "HBox(children=(IntProgress(value=0, description='epoch 2', max=469), HTML(value='')))"
      ]
     },
     "metadata": {},
     "output_type": "display_data"
    },
    {
     "name": "stdout",
     "output_type": "stream",
     "text": [
      "\n",
      "Test set: Avg. loss: 0.4441, Accuracy: 25128/30000 (83.76%)\n",
      "\n"
     ]
    },
    {
     "data": {
      "application/vnd.jupyter.widget-view+json": {
       "model_id": "8c5cbdb3833a49619f9ab9d3e337341b",
       "version_major": 2,
       "version_minor": 0
      },
      "text/plain": [
       "HBox(children=(IntProgress(value=0, description='epoch 3', max=469), HTML(value='')))"
      ]
     },
     "metadata": {},
     "output_type": "display_data"
    },
    {
     "name": "stdout",
     "output_type": "stream",
     "text": [
      "\n",
      "Test set: Avg. loss: 0.4130, Accuracy: 25493/30000 (84.98%)\n",
      "\n"
     ]
    },
    {
     "data": {
      "application/vnd.jupyter.widget-view+json": {
       "model_id": "48799e67adb14d44b2db44faa4de0ca5",
       "version_major": 2,
       "version_minor": 0
      },
      "text/plain": [
       "HBox(children=(IntProgress(value=0, description='epoch 4', max=469), HTML(value='')))"
      ]
     },
     "metadata": {},
     "output_type": "display_data"
    },
    {
     "name": "stdout",
     "output_type": "stream",
     "text": [
      "\n",
      "Test set: Avg. loss: 0.3965, Accuracy: 25578/30000 (85.26%)\n",
      "\n"
     ]
    },
    {
     "data": {
      "application/vnd.jupyter.widget-view+json": {
       "model_id": "5de5342446e043e88ba72fa53a3ae8a1",
       "version_major": 2,
       "version_minor": 0
      },
      "text/plain": [
       "HBox(children=(IntProgress(value=0, description='epoch 5', max=469), HTML(value='')))"
      ]
     },
     "metadata": {},
     "output_type": "display_data"
    },
    {
     "name": "stdout",
     "output_type": "stream",
     "text": [
      "\n",
      "Test set: Avg. loss: 0.3956, Accuracy: 25645/30000 (85.48%)\n",
      "\n"
     ]
    },
    {
     "data": {
      "application/vnd.jupyter.widget-view+json": {
       "model_id": "3e4e4157738045178eb8d95dd996e5be",
       "version_major": 2,
       "version_minor": 0
      },
      "text/plain": [
       "HBox(children=(IntProgress(value=0, description='epoch 6', max=469), HTML(value='')))"
      ]
     },
     "metadata": {},
     "output_type": "display_data"
    },
    {
     "name": "stdout",
     "output_type": "stream",
     "text": [
      "\n",
      "Test set: Avg. loss: 0.3784, Accuracy: 25763/30000 (85.88%)\n",
      "\n"
     ]
    },
    {
     "data": {
      "application/vnd.jupyter.widget-view+json": {
       "model_id": "605c8424d5964def846fbc2f0356e4f6",
       "version_major": 2,
       "version_minor": 0
      },
      "text/plain": [
       "HBox(children=(IntProgress(value=0, description='epoch 7', max=469), HTML(value='')))"
      ]
     },
     "metadata": {},
     "output_type": "display_data"
    },
    {
     "name": "stdout",
     "output_type": "stream",
     "text": [
      "\n",
      "Test set: Avg. loss: 0.3604, Accuracy: 26100/30000 (87.00%)\n",
      "\n"
     ]
    },
    {
     "data": {
      "application/vnd.jupyter.widget-view+json": {
       "model_id": "948958860c83421d9bc5f859809bcc61",
       "version_major": 2,
       "version_minor": 0
      },
      "text/plain": [
       "HBox(children=(IntProgress(value=0, description='epoch 8', max=469), HTML(value='')))"
      ]
     },
     "metadata": {},
     "output_type": "display_data"
    },
    {
     "name": "stdout",
     "output_type": "stream",
     "text": [
      "\n",
      "Test set: Avg. loss: 0.3499, Accuracy: 26179/30000 (87.26%)\n",
      "\n"
     ]
    },
    {
     "data": {
      "application/vnd.jupyter.widget-view+json": {
       "model_id": "44d5a74ea9824a53892d0ef8b734a2d7",
       "version_major": 2,
       "version_minor": 0
      },
      "text/plain": [
       "HBox(children=(IntProgress(value=0, description='epoch 9', max=469), HTML(value='')))"
      ]
     },
     "metadata": {},
     "output_type": "display_data"
    },
    {
     "name": "stdout",
     "output_type": "stream",
     "text": [
      "\n",
      "Test set: Avg. loss: 0.3351, Accuracy: 26302/30000 (87.67%)\n",
      "\n"
     ]
    }
   ],
   "source": [
    "model_A = Net().to(device)\n",
    "opt_A = optim.SGD(model_A.parameters(), lr=learning_rate,\n",
    "                 momentum=momentum)\n",
    "opt_A = optim.Adam(model_A.parameters(), lr=learning_rate)\n",
    "\n",
    "n_epochs = 10\n",
    "\n",
    "def train(model_A, optimizer_A, epoch, train_loader):\n",
    "    model_A.train()\n",
    "    for batch_idx, (data, target) in tqdm_notebook(enumerate(train_loader), desc='epoch {}'.format(epoch),\n",
    "                                                  total=len(train_loader)):\n",
    "        data, target = data.to(device), target.to(device)\n",
    "        optimizer_A.zero_grad()\n",
    "        output = model_A(data)\n",
    "        loss = F.nll_loss(output, target)\n",
    "        loss.backward()\n",
    "        optimizer_A.step()\n",
    "        if batch_idx % log_interval == 0:\n",
    "            torch.save(model_A.state_dict(), model_A_path)\n",
    "            \n",
    "def test(network, test_loader):\n",
    "    network.eval()\n",
    "    test_loss = 0\n",
    "    correct = 0\n",
    "    with torch.no_grad():\n",
    "        for data, target in test_loader:\n",
    "            data, target = data.to(device), target.to(device)\n",
    "            output = network(data)\n",
    "            test_loss += F.nll_loss(output, target, reduction='sum').item()\n",
    "            pred = output.data.max(1, keepdim=True)[1]\n",
    "            correct += pred.eq(target.data.view_as(pred)).sum()\n",
    "        test_loss /= len(test_loader.dataset)\n",
    "        acc = 100 * correct.item() / len(test_loader.dataset)\n",
    "        print('\\nTest set: Avg. loss: {:.4f}, Accuracy: {}/{} ({:.2f}%)\\n'.format(\n",
    "            test_loss, correct, len(test_loader.dataset), acc))\n",
    "        \n",
    "for i_epoch in range(n_epochs):\n",
    "    train(model_A=model_A, optimizer_A=opt_A, epoch=i_epoch,\n",
    "          train_loader=loader_A)\n",
    "    test(network=model_A, test_loader=loader_A)"
   ]
  },
  {
   "cell_type": "markdown",
   "metadata": {},
   "source": [
    "### Load `model_A` with trained weights"
   ]
  },
  {
   "cell_type": "code",
   "execution_count": 34,
   "metadata": {},
   "outputs": [
    {
     "name": "stdout",
     "output_type": "stream",
     "text": [
      "\n",
      "Test set: Avg. loss: 0.3350, Accuracy: 26295/30000 (87.65%)\n",
      "\n",
      "\n",
      "Test set: Avg. loss: 0.3597, Accuracy: 26012/30000 (86.71%)\n",
      "\n"
     ]
    }
   ],
   "source": [
    "model_A = Net().to(device)\n",
    "model_A.load_state_dict(torch.load(model_A_path))\n",
    "test(network=model_A, test_loader=loader_A)\n",
    "test(network=model_A, test_loader=loader_B)"
   ]
  },
  {
   "cell_type": "markdown",
   "metadata": {},
   "source": [
    "### Use `model_A` to label `dataset_B`, Train `model_B` on `dataset_B_hat`"
   ]
  },
  {
   "cell_type": "code",
   "execution_count": 35,
   "metadata": {},
   "outputs": [
    {
     "data": {
      "application/vnd.jupyter.widget-view+json": {
       "model_id": "c964c46b20a54c629ca94525eac092e6",
       "version_major": 2,
       "version_minor": 0
      },
      "text/plain": [
       "HBox(children=(IntProgress(value=0, description='epoch 0', max=469), HTML(value='')))"
      ]
     },
     "metadata": {},
     "output_type": "display_data"
    },
    {
     "name": "stdout",
     "output_type": "stream",
     "text": [
      "\n",
      "Test set: Avg. loss: 0.6161, Accuracy: 23490/30000 (78.30%)\n",
      "\n"
     ]
    },
    {
     "data": {
      "application/vnd.jupyter.widget-view+json": {
       "model_id": "e271ecc120614c429390424d5ae4b97f",
       "version_major": 2,
       "version_minor": 0
      },
      "text/plain": [
       "HBox(children=(IntProgress(value=0, description='epoch 1', max=469), HTML(value='')))"
      ]
     },
     "metadata": {},
     "output_type": "display_data"
    },
    {
     "name": "stdout",
     "output_type": "stream",
     "text": [
      "\n",
      "Test set: Avg. loss: 0.5593, Accuracy: 24355/30000 (81.18%)\n",
      "\n"
     ]
    },
    {
     "data": {
      "application/vnd.jupyter.widget-view+json": {
       "model_id": "d7c56ed52836411c8421f5dd82aed044",
       "version_major": 2,
       "version_minor": 0
      },
      "text/plain": [
       "HBox(children=(IntProgress(value=0, description='epoch 2', max=469), HTML(value='')))"
      ]
     },
     "metadata": {},
     "output_type": "display_data"
    },
    {
     "name": "stdout",
     "output_type": "stream",
     "text": [
      "\n",
      "Test set: Avg. loss: 0.5512, Accuracy: 24571/30000 (81.90%)\n",
      "\n"
     ]
    },
    {
     "data": {
      "application/vnd.jupyter.widget-view+json": {
       "model_id": "5b02715bf0744c888ce3b095016c8a5b",
       "version_major": 2,
       "version_minor": 0
      },
      "text/plain": [
       "HBox(children=(IntProgress(value=0, description='epoch 3', max=469), HTML(value='')))"
      ]
     },
     "metadata": {},
     "output_type": "display_data"
    },
    {
     "name": "stdout",
     "output_type": "stream",
     "text": [
      "\n",
      "Test set: Avg. loss: 0.5413, Accuracy: 25085/30000 (83.62%)\n",
      "\n"
     ]
    },
    {
     "data": {
      "application/vnd.jupyter.widget-view+json": {
       "model_id": "ac5e13b5e2cb49609a74bf83e6549c0d",
       "version_major": 2,
       "version_minor": 0
      },
      "text/plain": [
       "HBox(children=(IntProgress(value=0, description='epoch 4', max=469), HTML(value='')))"
      ]
     },
     "metadata": {},
     "output_type": "display_data"
    },
    {
     "name": "stdout",
     "output_type": "stream",
     "text": [
      "\n",
      "Test set: Avg. loss: 0.5431, Accuracy: 25364/30000 (84.55%)\n",
      "\n"
     ]
    },
    {
     "data": {
      "application/vnd.jupyter.widget-view+json": {
       "model_id": "0bda0638001542308e4b9681d7169d12",
       "version_major": 2,
       "version_minor": 0
      },
      "text/plain": [
       "HBox(children=(IntProgress(value=0, description='epoch 5', max=469), HTML(value='')))"
      ]
     },
     "metadata": {},
     "output_type": "display_data"
    },
    {
     "name": "stdout",
     "output_type": "stream",
     "text": [
      "\n",
      "Test set: Avg. loss: 0.5197, Accuracy: 25438/30000 (84.79%)\n",
      "\n"
     ]
    },
    {
     "data": {
      "application/vnd.jupyter.widget-view+json": {
       "model_id": "2c44875d0e4a4979a372aa768362c5ba",
       "version_major": 2,
       "version_minor": 0
      },
      "text/plain": [
       "HBox(children=(IntProgress(value=0, description='epoch 6', max=469), HTML(value='')))"
      ]
     },
     "metadata": {},
     "output_type": "display_data"
    },
    {
     "name": "stdout",
     "output_type": "stream",
     "text": [
      "\n",
      "Test set: Avg. loss: 0.5021, Accuracy: 25526/30000 (85.09%)\n",
      "\n"
     ]
    },
    {
     "data": {
      "application/vnd.jupyter.widget-view+json": {
       "model_id": "d37409b2bce845339d1f4c07a709a0b2",
       "version_major": 2,
       "version_minor": 0
      },
      "text/plain": [
       "HBox(children=(IntProgress(value=0, description='epoch 7', max=469), HTML(value='')))"
      ]
     },
     "metadata": {},
     "output_type": "display_data"
    },
    {
     "name": "stdout",
     "output_type": "stream",
     "text": [
      "\n",
      "Test set: Avg. loss: 0.5338, Accuracy: 25525/30000 (85.08%)\n",
      "\n"
     ]
    },
    {
     "data": {
      "application/vnd.jupyter.widget-view+json": {
       "model_id": "666456c48f7249eca8665d129f8e9a4c",
       "version_major": 2,
       "version_minor": 0
      },
      "text/plain": [
       "HBox(children=(IntProgress(value=0, description='epoch 8', max=469), HTML(value='')))"
      ]
     },
     "metadata": {},
     "output_type": "display_data"
    },
    {
     "name": "stdout",
     "output_type": "stream",
     "text": [
      "\n",
      "Test set: Avg. loss: 0.5454, Accuracy: 25503/30000 (85.01%)\n",
      "\n"
     ]
    },
    {
     "data": {
      "application/vnd.jupyter.widget-view+json": {
       "model_id": "c95ec4cef6194b8980c235fe4e8f8b74",
       "version_major": 2,
       "version_minor": 0
      },
      "text/plain": [
       "HBox(children=(IntProgress(value=0, description='epoch 9', max=469), HTML(value='')))"
      ]
     },
     "metadata": {},
     "output_type": "display_data"
    },
    {
     "name": "stdout",
     "output_type": "stream",
     "text": [
      "\n",
      "Test set: Avg. loss: 0.5474, Accuracy: 25599/30000 (85.33%)\n",
      "\n"
     ]
    }
   ],
   "source": [
    "model_B = Net().to(device)\n",
    "opt_B = optim.SGD(model_B.parameters(), lr=learning_rate,\n",
    "                 momentum=momentum)\n",
    "opt_B = optim.Adam(model_B.parameters(), lr=learning_rate)\n",
    "\n",
    "n_epochs = 10\n",
    "\n",
    "def train_with_transfer_labels(model_A, model_B, optimizer_B, epoch, train_loader):\n",
    "    model_A.eval()\n",
    "    model_B.train()\n",
    "    for batch_idx, (data, target) in tqdm_notebook(enumerate(train_loader), desc='epoch {}'.format(epoch),\n",
    "                                                  total=len(train_loader)):\n",
    "        data, target = data.to(device), target.to(device)\n",
    "        target_hat = model_A(data)\n",
    "        target_hat = torch.argmax(target_hat, dim=1)\n",
    "        optimizer_B.zero_grad()\n",
    "        output = model_B(data)\n",
    "        loss_hat = F.nll_loss(output, target_hat)\n",
    "        loss_hat.backward()\n",
    "        optimizer_B.step()\n",
    "        \n",
    "        if batch_idx % log_interval == 0:\n",
    "            torch.save(model_B.state_dict(), model_B_path)\n",
    "        \n",
    "for i_epoch in range(n_epochs):\n",
    "    train_with_transfer_labels(model_A=model_A, model_B=model_B, optimizer_B=opt_B,\n",
    "                              epoch=i_epoch, train_loader=loader_B)\n",
    "    test(network=model_B, test_loader=loader_A)"
   ]
  },
  {
   "cell_type": "code",
   "execution_count": 36,
   "metadata": {},
   "outputs": [
    {
     "name": "stdout",
     "output_type": "stream",
     "text": [
      "\n",
      "Test set: Avg. loss: 0.5539, Accuracy: 25661/30000 (85.54%)\n",
      "\n",
      "\n",
      "Test set: Avg. loss: 0.5563, Accuracy: 25589/30000 (85.30%)\n",
      "\n"
     ]
    }
   ],
   "source": [
    "model_B = Net().to(device)\n",
    "model_B.load_state_dict(torch.load(model_B_path))\n",
    "test(network=model_B, test_loader=loader_A)\n",
    "test(network=model_B, test_loader=loader_B)"
   ]
  }
 ],
 "metadata": {
  "kernelspec": {
   "display_name": "Python 3",
   "language": "python",
   "name": "python3"
  },
  "language_info": {
   "codemirror_mode": {
    "name": "ipython",
    "version": 3
   },
   "file_extension": ".py",
   "mimetype": "text/x-python",
   "name": "python",
   "nbconvert_exporter": "python",
   "pygments_lexer": "ipython3",
   "version": "3.6.7"
  }
 },
 "nbformat": 4,
 "nbformat_minor": 2
}
