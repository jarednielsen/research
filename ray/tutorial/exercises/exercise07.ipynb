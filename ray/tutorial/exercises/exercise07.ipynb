{
 "cells": [
  {
   "cell_type": "markdown",
   "metadata": {},
   "source": [
    "# Exercise 7 - Process Tasks in Order of Completion\n",
    "\n",
    "**GOAL:** The goal of this exercise is to show how to use `ray.wait` to process tasks in the order that they finish.\n",
    "\n",
    "See the documentation for ray.wait at https://ray.readthedocs.io/en/latest/api.html#ray.wait.\n",
    "\n",
    "The code below runs 10 tasks and retrieves the results in the order that the tasks were launched. However, since each task takes a random amount of time to finish, we could instead process the tasks in the order that they finish."
   ]
  },
  {
   "cell_type": "code",
   "execution_count": 1,
   "metadata": {},
   "outputs": [],
   "source": [
    "from __future__ import absolute_import\n",
    "from __future__ import division\n",
    "from __future__ import print_function\n",
    "\n",
    "import numpy as np\n",
    "import ray\n",
    "import time"
   ]
  },
  {
   "cell_type": "code",
   "execution_count": 2,
   "metadata": {},
   "outputs": [
    {
     "name": "stderr",
     "output_type": "stream",
     "text": [
      "Process STDOUT and STDERR is being redirected to /tmp/ray/session_2019-01-24_09-57-00_20904/logs.\n",
      "Waiting for redis server at 127.0.0.1:51983 to respond...\n",
      "Waiting for redis server at 127.0.0.1:36362 to respond...\n",
      "Warning: Capping object memory store to 20.0GB. To increase this further, specify `object_store_memory` when calling ray.init() or ray start.\n",
      "Starting the Plasma object store with 20.0 GB memory using /dev/shm.\n"
     ]
    },
    {
     "data": {
      "text/plain": [
       "{'node_ip_address': '192.168.23.45',\n",
       " 'redis_address': '192.168.23.45:51983',\n",
       " 'object_store_addresses': ['/tmp/ray/session_2019-01-24_09-57-00_20904/sockets/plasma_store'],\n",
       " 'raylet_socket_names': ['/tmp/ray/session_2019-01-24_09-57-00_20904/sockets/raylet'],\n",
       " 'webui_url': ''}"
      ]
     },
     "execution_count": 2,
     "metadata": {},
     "output_type": "execute_result"
    }
   ],
   "source": [
    "ray.init(num_cpus=5, include_webui=False, ignore_reinit_error=True)"
   ]
  },
  {
   "cell_type": "code",
   "execution_count": 3,
   "metadata": {},
   "outputs": [],
   "source": [
    "@ray.remote\n",
    "def f():\n",
    "    time.sleep(np.random.uniform(0, 5))\n",
    "    return time.time()"
   ]
  },
  {
   "cell_type": "markdown",
   "metadata": {},
   "source": [
    "**EXERCISE:** Change the code below to use `ray.wait` to get the results of the tasks in the order that they complete.\n",
    "\n",
    "**NOTE:** It would be a simple modification to maintain a pool of 10 experiments and to start a new experiment whenever one finishes."
   ]
  },
  {
   "cell_type": "code",
   "execution_count": 11,
   "metadata": {},
   "outputs": [
    {
     "name": "stdout",
     "output_type": "stream",
     "text": [
      "Processing result which finished after 0.7375590801239014 seconds.\n",
      "Processing result which finished after 1.530632495880127 seconds.\n",
      "Processing result which finished after 2.8941402435302734 seconds.\n",
      "Processing result which finished after 3.388817071914673 seconds.\n",
      "Processing result which finished after 3.7495760917663574 seconds.\n",
      "Processing result which finished after 3.761099338531494 seconds.\n",
      "Processing result which finished after 4.1503682136535645 seconds.\n",
      "Processing result which finished after 5.128110408782959 seconds.\n",
      "Processing result which finished after 5.387217283248901 seconds.\n",
      "Processing result which finished after 7.52557897567749 seconds.\n"
     ]
    }
   ],
   "source": [
    "# Sleep a little to improve the accuracy of the timing measurements below.\n",
    "time.sleep(2.0)\n",
    "start_time = time.time()\n",
    "\n",
    "result_ids = [f.remote() for _ in range(10)]\n",
    "remaining_ids = result_ids\n",
    "\n",
    "# Get the results.\n",
    "results = []\n",
    "for i in range(len(result_ids)):\n",
    "    ready_ids, remaining_ids = ray.wait(remaining_ids, num_returns=1)\n",
    "    result = ray.get(ready_ids[0])\n",
    "    results.append(result)\n",
    "    print('Processing result which finished after {} seconds.'\n",
    "          .format(result - start_time))\n",
    "\n",
    "end_time = time.time()\n",
    "duration = end_time - start_time"
   ]
  },
  {
   "cell_type": "markdown",
   "metadata": {},
   "source": [
    "**VERIFY:** Run some checks to verify that the changes you made to the code were correct. Some of the checks should fail when you initially run the cells. After completing the exercises, the checks should pass."
   ]
  },
  {
   "cell_type": "code",
   "execution_count": 12,
   "metadata": {},
   "outputs": [
    {
     "name": "stdout",
     "output_type": "stream",
     "text": [
      "Success! The example took 7.529031038284302 seconds.\n"
     ]
    }
   ],
   "source": [
    "assert results == sorted(results), ('The results were not processed in the '\n",
    "                                    'order that they finished.')\n",
    "\n",
    "print('Success! The example took {} seconds.'.format(duration))"
   ]
  },
  {
   "cell_type": "code",
   "execution_count": null,
   "metadata": {},
   "outputs": [],
   "source": []
  }
 ],
 "metadata": {
  "kernelspec": {
   "display_name": "Python 3",
   "language": "python",
   "name": "python3"
  },
  "language_info": {
   "codemirror_mode": {
    "name": "ipython",
    "version": 3
   },
   "file_extension": ".py",
   "mimetype": "text/x-python",
   "name": "python",
   "nbconvert_exporter": "python",
   "pygments_lexer": "ipython3",
   "version": "3.6.8"
  }
 },
 "nbformat": 4,
 "nbformat_minor": 2
}
