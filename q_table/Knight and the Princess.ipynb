{
 "cells": [
  {
   "cell_type": "code",
   "execution_count": 1,
   "metadata": {},
   "outputs": [],
   "source": [
    "from matplotlib import pyplot as plt\n",
    "import numpy as np\n",
    "np.set_printoptions(precision=1, suppress=True)"
   ]
  },
  {
   "cell_type": "markdown",
   "metadata": {},
   "source": [
    "# Knight and the Princess: Q-Table Learning\n",
    "![Knight and the Princess](https://cdn-images-1.medium.com/max/800/1*h7B4EVx3B-sv5OvHH8nrNw.png)"
   ]
  },
  {
   "cell_type": "code",
   "execution_count": 2,
   "metadata": {},
   "outputs": [],
   "source": [
    "class Environment():\n",
    "    def __init__(self, i=0, j=0):\n",
    "        \"\"\"\n",
    "        Parameters:\n",
    "            state (int): 0<=state<=24, mapping to a 5x5 grid\n",
    "        \"\"\"\n",
    "        self.rewards = np.array([\n",
    "            [0, 0, 0, 0, 0],\n",
    "            [0, -100, 0, -100, 0],\n",
    "            [0, 0, 0, 0, 0],\n",
    "            [0, -100, 0, -100, 0],\n",
    "            [0, 0, 100, 0, 0]\n",
    "        ])\n",
    "        self.i = i\n",
    "        self.j = j\n",
    "        \n",
    "    def random_valid_action(self):\n",
    "        while True:\n",
    "            action = np.random.randint(0, 4)\n",
    "            if self.is_valid_action(action):\n",
    "                return action\n",
    "            \n",
    "    def valid_actions(self):\n",
    "        return [action for action in range(4) if self.is_valid_action(action)]\n",
    "    \n",
    "    def transition(self, i, j, action, slip):\n",
    "        \"\"\"\n",
    "        Action must be a valid action.\n",
    "        \"\"\"\n",
    "        if np.random.random() < slip:\n",
    "            action = self.random_valid_action()\n",
    "        \n",
    "        if action == 0:\n",
    "            j -= 1\n",
    "        elif action == 1:\n",
    "            j += 1\n",
    "        elif action == 2:\n",
    "            i -= 1\n",
    "        elif action == 3:\n",
    "            i += 1\n",
    "        else:\n",
    "            assert False, \"Invalid action.\"\n",
    "            \n",
    "        return i, j\n",
    "        \n",
    "    def take_action(self, action, slip=0):\n",
    "        \"\"\"\n",
    "        Parameters:\n",
    "            action (int): 0<=action<=3, mapping to [left, right, up, down]\n",
    "            slip (float): the probability of taking a random move (slipping).\n",
    "        Returns\n",
    "            new_state (int)\n",
    "            reward (int): for being in the new state.\n",
    "        \"\"\"\n",
    "        assert self.is_valid_action(action), \"Invalid action. state ({},{}), action {}\".format(self.i, self.j, action)\n",
    "        \n",
    "        self.i, self.j = self.transition(self.i, self.j, action, slip)\n",
    "        \n",
    "        # restart the game when reaching the princess\n",
    "        if self.i == 4 and self.j == 2:\n",
    "            self.i, self.j = 0, 0\n",
    "            return 4, 2, self.rewards[4,2]\n",
    "            \n",
    "        return self.i, self.j, self.rewards[self.i,self.j]     \n",
    "        \n",
    "    def is_valid_action(self, action):\n",
    "        if self.i == 0 and action == 2:\n",
    "            return False\n",
    "        if self.i == 4 and action == 3:\n",
    "            return False\n",
    "        if self.j == 0 and action == 0:\n",
    "            return False\n",
    "        if self.j == 4 and action == 1:\n",
    "            return False\n",
    "        return True     \n",
    "    \n",
    "    def get_state(self):\n",
    "        return self.i, self.j"
   ]
  },
  {
   "cell_type": "code",
   "execution_count": 3,
   "metadata": {},
   "outputs": [
    {
     "name": "stdout",
     "output_type": "stream",
     "text": [
      "value of each state:\n",
      " [[58.1 64.9 72.4 64.7 57.8]\n",
      " [65.  72.6 80.8 72.5 64.2]\n",
      " [72.6 80.8 89.9 80.7 72.1]\n",
      " [79.7 89.9 99.9 89.5 74.6]\n",
      " [89.3 99.8  0.  98.9 87.8]] \n",
      "\n"
     ]
    },
    {
     "data": {
      "image/png": "[encoded data removed]",
      "text/plain": [
       "<Figure size 432x288 with 2 Axes>"
      ]
     },
     "metadata": {
      "needs_background": "light"
     },
     "output_type": "display_data"
    }
   ],
   "source": [
    "num_actions = 4 # indexed as [left, right, up, down]\n",
    "Q_table = np.random.random((5, 5, num_actions))\n",
    "Q_table[4,2,:] = 0\n",
    "\n",
    "def choose_action(env, Q_table, i, j, epsilon=1.0):\n",
    "    \"\"\"\n",
    "    Chooses an action based on the epsilon-greedy approach.\n",
    "    \"\"\"\n",
    "    if np.random.random() < epsilon:\n",
    "        while True:\n",
    "            action = np.random.randint(0, 4)\n",
    "            if env.is_valid_action(action):\n",
    "                break\n",
    "        return action\n",
    "    else:\n",
    "        cur_max = -np.inf\n",
    "        for action in range(4):\n",
    "            if env.is_valid_action(action):\n",
    "                val = Q_table[i,j,action]\n",
    "                if cur_max < val:\n",
    "                    cur_max = val\n",
    "                    max_action = action\n",
    "        return max_action\n",
    "       \n",
    "def play(N=1000, alpha=0.1, gamma=0.9, slip=0):\n",
    "    \"\"\"\n",
    "    Parameters:\n",
    "        N (int): number of timesteps to play.\n",
    "        alpha (float): the learning rate, in [0, 1].\n",
    "        gamma (float): the discount factor, in [0, 1].\n",
    "        slip (float): the probability of accidentally taking a random move.\n",
    "    Returns:\n",
    "        Q_table ((5,5,4) ndarray): the expected reward of being in a state,\n",
    "            and taking an action.\n",
    "        V ((5,5) ndarray): the expected reward of being in a state,\n",
    "            and taking future actions.\n",
    "    \"\"\"\n",
    "    env = Environment(i=0, j=0)\n",
    "    for i in range(N):\n",
    "        i, j = env.get_state()\n",
    "        action = choose_action(env, Q_table, i, j)\n",
    "        i_prime, j_prime, reward = env.take_action(action, slip=slip)\n",
    "        Qprime_actions = Q_table[i_prime, j_prime, env.valid_actions()]\n",
    "        Qprime = (1-slip)*np.max(Qprime_actions) + slip*np.mean(Qprime_actions)\n",
    "        Q = Q_table[i, j, action]\n",
    "#         print(\"before:\", Q_table[i, j, action])\n",
    "        Q_table[i, j, action] = Q + alpha*(reward + gamma*Qprime - Q)\n",
    "#         print(\"after:\", Q_table[i, j, action])\n",
    "\n",
    "    V = np.max(Q_table, axis=2)\n",
    "    \n",
    "    return Q_table, V\n",
    "\n",
    "def display_values(V, title):\n",
    "    print(\"value of each state:\\n\", V, \"\\n\")\n",
    "\n",
    "    fig = plt.figure()\n",
    "    ax = fig.add_subplot(111)\n",
    "    img = ax.imshow(V, cmap='hot', interpolation='nearest')\n",
    "    ax.set_title(title)\n",
    "    plt.colorbar(img)\n",
    "    plt.show()\n",
    "\n",
    "Q_table, V = play(N=10000, slip=0)\n",
    "display_values(V, title=\"State values, slip=0.0\")"
   ]
  },
  {
   "cell_type": "markdown",
   "metadata": {},
   "source": [
    "We see that the value of each state is precise gamma^n * 100, where gamma is the distance from the castle square. What if we add stochasticity? Fx, each move there's a 20% chance of slipping."
   ]
  },
  {
   "cell_type": "code",
   "execution_count": 4,
   "metadata": {},
   "outputs": [
    {
     "name": "stdout",
     "output_type": "stream",
     "text": [
      "value of each state:\n",
      " [[ 8.7  8.9 15.3 16.5 18. ]\n",
      " [17.3 19.1 30.8 17.1 10.3]\n",
      " [24.1 30.1 47.2 24.1 34.1]\n",
      " [35.5 67.5 85.2 64.8 46.7]\n",
      " [62.2 96.2  0.  95.4 66.7]] \n",
      "\n"
     ]
    },
    {
     "data": {
      "image/png": "[encoded data removed]",
      "text/plain": [
       "<Figure size 432x288 with 2 Axes>"
      ]
     },
     "metadata": {
      "needs_background": "light"
     },
     "output_type": "display_data"
    }
   ],
   "source": [
    "Q_table, V = play(N=10000, slip=0.2)\n",
    "display_values(V, title=\"State values, slip=0.2\")"
   ]
  },
  {
   "cell_type": "code",
   "execution_count": 5,
   "metadata": {},
   "outputs": [
    {
     "name": "stdout",
     "output_type": "stream",
     "text": [
      "value of each state:\n",
      " [[  0.8   0.1   0.7   0.7   0.3]\n",
      " [  0.1 -59.7 -55.8 -51.4   0.4]\n",
      " [  0.4 -56.   -1.9 -39.4   0.7]\n",
      " [  1.    1.3  46.6  16.    0.3]\n",
      " [ 14.3  46.9   0.   47.8  38.3]] \n",
      "\n"
     ]
    },
    {
     "data": {
      "image/png": "[encoded data removed]",
      "text/plain": [
       "<Figure size 432x288 with 2 Axes>"
      ]
     },
     "metadata": {
      "needs_background": "light"
     },
     "output_type": "display_data"
    }
   ],
   "source": [
    "Q_table, V = play(N=10000, slip=0.5)\n",
    "display_values(V, title=\"State values, slip=0.5\")"
   ]
  },
  {
   "cell_type": "code",
   "execution_count": 6,
   "metadata": {},
   "outputs": [
    {
     "name": "stdout",
     "output_type": "stream",
     "text": [
      "value of each state:\n",
      " [[   0.8    0.1    0.7    0.7    0.3]\n",
      " [   0.1 -143.6 -152.3 -136.6    0.4]\n",
      " [   0.4 -137.3 -112.9 -136.5    0.7]\n",
      " [   1.   -74.2  -89.9  -67.     0.3]\n",
      " [   0.8    0.2    0.     9.4    0.9]] \n",
      "\n"
     ]
    },
    {
     "data": {
      "image/png": "[encoded data removed]",
      "text/plain": [
       "<Figure size 432x288 with 2 Axes>"
      ]
     },
     "metadata": {
      "needs_background": "light"
     },
     "output_type": "display_data"
    }
   ],
   "source": [
    "Q_table, V = play(N=10000, slip=1.0)\n",
    "display_values(V, title=\"State values, slip=1.0 (random moves)\")"
   ]
  }
 ],
 "metadata": {
  "kernelspec": {
   "display_name": "Python 3",
   "language": "python",
   "name": "python3"
  },
  "language_info": {
   "codemirror_mode": {
    "name": "ipython",
    "version": 3
   },
   "file_extension": ".py",
   "mimetype": "text/x-python",
   "name": "python",
   "nbconvert_exporter": "python",
   "pygments_lexer": "ipython3",
   "version": "3.6.6"
  }
 },
 "nbformat": 4,
 "nbformat_minor": 2
}
