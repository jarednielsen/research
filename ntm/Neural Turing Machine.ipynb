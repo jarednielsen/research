{
 "cells": [
  {
   "cell_type": "markdown",
   "metadata": {},
   "source": [
    "# Neural Turing Machine\n",
    "    Jared Nielsen\n",
    "    \n",
    "CS 501R Final Project  \n",
    "[Neural Turing Machines (arXiv)](https://arxiv.org/pdf/1410.5401.pdf)  \n",
    "[Implementing Neural Turing Machines (arXiv)](https://arxiv.org/pdf/1807.08518.pdf), [TensorFlow implementation](https://github.com/MarkPKCollier/NeuralTuringMachine)  \n",
    "[PyTorch implementation](https://github.com/loudinthecloud/pytorch-ntm)  \n",
    "[Blog explanation](https://rylanschaeffer.github.io/content/research/neural_turing_machine/main.html)  \n",
    "\n"
   ]
  },
  {
   "cell_type": "markdown",
   "metadata": {},
   "source": [
    "## NTM Architecture\n",
    "![](https://rylanschaeffer.github.io/content/research/neural_turing_machine/ntm_architecture.png)"
   ]
  },
  {
   "cell_type": "code",
   "execution_count": 2,
   "metadata": {},
   "outputs": [
    {
     "name": "stderr",
     "output_type": "stream",
     "text": [
      "Using TensorFlow backend.\n"
     ]
    }
   ],
   "source": [
    "import itertools\n",
    "from livelossplot import PlotLosses\n",
    "import matplotlib.pyplot as plt\n",
    "import numpy as np\n",
    "import scipy as sp\n",
    "import sys\n",
    "import torch\n",
    "import torch.nn as nn\n",
    "import torch.optim as optim\n",
    "from torch.nn.utils.rnn import pad_sequence, pack_padded_sequence, pad_packed_sequence\n",
    "from torch.utils.data import Dataset, DataLoader\n",
    "from torch.utils.data.dataset import random_split\n",
    "from torchvision import transforms\n",
    "from tqdm import tqdm, tqdm_notebook"
   ]
  },
  {
   "cell_type": "code",
   "execution_count": null,
   "metadata": {},
   "outputs": [],
   "source": []
  },
  {
   "cell_type": "code",
   "execution_count": 3,
   "metadata": {},
   "outputs": [
    {
     "data": {
      "text/plain": [
       "<function torch.utils.data.dataset.random_split(dataset, lengths)>"
      ]
     },
     "execution_count": 3,
     "metadata": {},
     "output_type": "execute_result"
    }
   ],
   "source": [
    "random_split"
   ]
  },
  {
   "cell_type": "markdown",
   "metadata": {},
   "source": [
    "## State (Memory Matrix, Previous Weight)\n"
   ]
  },
  {
   "cell_type": "code",
   "execution_count": 4,
   "metadata": {},
   "outputs": [],
   "source": [
    "# Define memory matrix with `n` rows and `m` columns.\n",
    "n, m = 4, 2\n",
    "M = torch.rand(n,m)\n",
    "# Define weight vector\n",
    "w_prev = torch.rand(n)\n",
    "w_prev = w_prev / w_prev.sum()\n",
    "\n",
    "# cosine similarity measure\n",
    "K_vec = lambda u, v: torch.dot(u,v) / (u.norm() * v.norm() + 1e-8)\n",
    "K_mat = lambda u, V: torch.matmul(V,u) / (u.norm() * torch.norm(V, p=2, dim=1) + 1e-8)"
   ]
  },
  {
   "cell_type": "markdown",
   "metadata": {},
   "source": [
    "## Controller Outputs\n",
    "`k` - size (m,) vector for similarity comparison in content addressing  \n",
    "`beta` - scalar > 0, key strength, large values are concentrated, small values are diffuse  \n",
    "`g` - scalar in (0,1), interpolation gate, blends content weight with previous weight vector  \n",
    "`shift` - size (n,) vector for normalized shift weighting  \n",
    "`gamma` - scalar > 1, sharpening coefficient  "
   ]
  },
  {
   "cell_type": "code",
   "execution_count": 5,
   "metadata": {},
   "outputs": [],
   "source": [
    "# Vector for similarity comparison in content addressing\n",
    "k = torch.rand(m)\n",
    "# key strength > 0, or how concentrated the content weight vector should be\n",
    "# small values of beta are difuse, large values are concentrated\n",
    "beta = torch.rand(1)\n",
    "# interpolation gate, in (0, 1), blends content weight with previous weight vector\n",
    "g = torch.rand(1)\n",
    "# normalized shift weighting\n",
    "shift = torch.rand(n)\n",
    "shift = shift / shift.sum()\n",
    "# sharpening coefficient > 1\n",
    "gamma = torch.rand(1) + 1"
   ]
  },
  {
   "cell_type": "markdown",
   "metadata": {},
   "source": [
    "## Controller Network\n",
    "- LSTM\n",
    "- Feedforward\n",
    "\n"
   ]
  },
  {
   "cell_type": "code",
   "execution_count": 6,
   "metadata": {},
   "outputs": [],
   "source": [
    "class Controller(nn.Module):\n",
    "    def __init__(self, n_in, n, m):\n",
    "        super().__init__()\n",
    "        \n",
    "        self.n = n\n",
    "        self.m = m\n",
    "        n_embedding = 16\n",
    "        \n",
    "        \n",
    "        # Shared Parameters\n",
    "        self._embedding_net = nn.Sequential(\n",
    "            nn.Linear(n_in, n_embedding)\n",
    "        )\n",
    "        \n",
    "        # Memory Weight Parameters\n",
    "        self._k_net = nn.Sequential(\n",
    "            nn.Linear(n_embedding, m)\n",
    "        )\n",
    "        self._beta_net = nn.Sequential(\n",
    "            nn.Linear(n_embedding, 1)\n",
    "        )\n",
    "        self._g_net = nn.Sequential(\n",
    "            nn.Linear(n_embedding, 1)\n",
    "        )\n",
    "        self._s_net = nn.Sequential(\n",
    "            nn.Linear(n_embedding, n)\n",
    "        )\n",
    "        self._gamma_net = nn.Sequential(\n",
    "            nn.Sequential(n_embedding, 1)\n",
    "        )\n",
    "        \n",
    "        # Memory Write Values\n",
    "        self._erase_net = nn.Sequential(\n",
    "            nn.Linear(n_embedding, m)\n",
    "        )\n",
    "        self._add_net = nn.Sequential(\n",
    "            nn.Linear(n_embedding, m)\n",
    "        )\n",
    "        \n",
    "        \n",
    "    def forward(self, x):\n",
    "        x = self._embedding_net(x)\n",
    "        \n",
    "        k = self._k_net(x)\n",
    "        beta = self._beta_net(x)\n",
    "        g = self._g_net(x)\n",
    "        shift = self._s_net(x)\n",
    "        gamma = self._gamma_net(x)\n",
    "        erase = self._erase_net(x)\n",
    "        add = self._add_net(x)\n",
    "        \n",
    "        return k, beta, g, shift, gamma, erase, add"
   ]
  },
  {
   "cell_type": "markdown",
   "metadata": {},
   "source": [
    "## Read & Write Heads\n"
   ]
  },
  {
   "cell_type": "code",
   "execution_count": null,
   "metadata": {},
   "outputs": [],
   "source": []
  },
  {
   "cell_type": "markdown",
   "metadata": {},
   "source": [
    "## Calculating the Weights\n",
    "![](https://rylanschaeffer.github.io/content/research/neural_turing_machine/ntm_addr_4.png)"
   ]
  },
  {
   "cell_type": "markdown",
   "metadata": {},
   "source": [
    "## Content Addressing"
   ]
  },
  {
   "cell_type": "code",
   "execution_count": 7,
   "metadata": {},
   "outputs": [
    {
     "name": "stdout",
     "output_type": "stream",
     "text": [
      "tensor([0.2642, 0.2280, 0.2634, 0.2443])\n"
     ]
    }
   ],
   "source": [
    "def content_weight(beta, k, M):\n",
    "    \"\"\"\n",
    "    Returns an (n,) tensor, the content-addressing weights for each row.\n",
    "    \"\"\"\n",
    "    exp_weight = torch.exp(beta*K_mat(k,M))\n",
    "    w_content = exp_weight / torch.sum(exp_weight)\n",
    "    return w_content\n",
    "    \n",
    "w_content = content_weight(beta, k, M)\n",
    "print(w_content)"
   ]
  },
  {
   "cell_type": "markdown",
   "metadata": {},
   "source": [
    "## Interpolation"
   ]
  },
  {
   "cell_type": "code",
   "execution_count": 8,
   "metadata": {},
   "outputs": [
    {
     "name": "stdout",
     "output_type": "stream",
     "text": [
      "tensor([0.1183, 0.3917, 0.2264, 0.2635])\n"
     ]
    }
   ],
   "source": [
    "def gated_weight(g, w_content, w_prev):\n",
    "    return g*w_content + (1-g)*w_prev\n",
    "    \n",
    "w_gated = gated_weight(g, w_content, w_prev)\n",
    "print(w_gated)"
   ]
  },
  {
   "cell_type": "markdown",
   "metadata": {},
   "source": [
    "## Convolutional Shift"
   ]
  },
  {
   "cell_type": "code",
   "execution_count": 9,
   "metadata": {},
   "outputs": [
    {
     "name": "stdout",
     "output_type": "stream",
     "text": [
      "tensor([0.2170, 0.2591, 0.2299, 0.2940])\n"
     ]
    }
   ],
   "source": [
    "def convolutional_shift(w_gated, shift):\n",
    "    \"\"\"\n",
    "    Naive implementation of circular convolution.\n",
    "    \"\"\"\n",
    "    w_shift = torch.zeros_like(w_gated)\n",
    "    for i in range(n):\n",
    "        for j in range(n):\n",
    "            shift_idx = (i - j) % n\n",
    "            w_shift[i] += w_gated[j]*shift[shift_idx]  \n",
    "    return w_shift\n",
    "\n",
    "def test_convolutional_shift():\n",
    "    w_test = torch.Tensor([1, 0, 0, 0])\n",
    "    shift_test = torch.Tensor([0, 1, 0, 0])\n",
    "    for i in range(5):\n",
    "        w_test = convolutional_shift(w_test, shift_test)\n",
    "        print(w_test)\n",
    "        \n",
    "w_shift = convolutional_shift(w_gated, shift)\n",
    "print(w_shift)"
   ]
  },
  {
   "cell_type": "markdown",
   "metadata": {},
   "source": [
    "## Sharpening"
   ]
  },
  {
   "cell_type": "code",
   "execution_count": 10,
   "metadata": {},
   "outputs": [
    {
     "name": "stdout",
     "output_type": "stream",
     "text": [
      "gamma: tensor([1.5522])\n",
      "tensor([0.1995, 0.2626, 0.2183, 0.3196])\n"
     ]
    }
   ],
   "source": [
    "def sharpen(w_shift, gamma):\n",
    "    exp_weight = torch.pow(w_shift, gamma)\n",
    "    w_sharp = exp_weight / torch.sum(exp_weight)\n",
    "    return w_sharp\n",
    "\n",
    "w_sharp = sharpen(w_shift, gamma)\n",
    "print(\"gamma: {}\".format(gamma))\n",
    "print(w_sharp)"
   ]
  },
  {
   "cell_type": "markdown",
   "metadata": {},
   "source": [
    "## Weights - Putting It Together"
   ]
  },
  {
   "cell_type": "code",
   "execution_count": 11,
   "metadata": {},
   "outputs": [
    {
     "name": "stdout",
     "output_type": "stream",
     "text": [
      "w_prev: tensor([0.1085, 0.4027, 0.2239, 0.2648])\n",
      "w_cur: tensor([0.2170, 0.2591, 0.2299, 0.2940])\n"
     ]
    }
   ],
   "source": [
    "def get_weight(w_prev, M, k, beta, g, shift, gamma):\n",
    "    w_content = content_weight(beta, k, M)\n",
    "    w_gated = gated_weight(g, w_content, w_prev)\n",
    "    w_shift = convolutional_shift(w_gated, shift)\n",
    "    w_sharp = sharpen(w_shift, gamma)\n",
    "    return w_shift\n",
    "\n",
    "print(\"w_prev: {}\".format(w_prev))\n",
    "w_cur = get_weight(w_prev, M, k, beta, g, shift, gamma)\n",
    "print(\"w_cur: {}\".format(w_cur))"
   ]
  },
  {
   "cell_type": "markdown",
   "metadata": {},
   "source": [
    "## Reading"
   ]
  },
  {
   "cell_type": "code",
   "execution_count": 12,
   "metadata": {},
   "outputs": [
    {
     "name": "stdout",
     "output_type": "stream",
     "text": [
      "tensor([0.5389, 0.6227])\n"
     ]
    }
   ],
   "source": [
    "def read(M, w):\n",
    "    \"\"\"\n",
    "    Returns the weighted sum of memory locations.\n",
    "    \"\"\"\n",
    "    return torch.matmul(w, M) # equivalent to broadcasting along the second dimension\n",
    "\n",
    "r = read(M, w_sharp)\n",
    "print(r)"
   ]
  },
  {
   "cell_type": "markdown",
   "metadata": {},
   "source": [
    "## Writing"
   ]
  },
  {
   "cell_type": "code",
   "execution_count": 13,
   "metadata": {},
   "outputs": [
    {
     "name": "stdout",
     "output_type": "stream",
     "text": [
      "tensor([[0.7539, 0.8671],\n",
      "        [0.8283, 0.3827],\n",
      "        [0.3248, 0.7175],\n",
      "        [0.9571, 0.5692]])\n"
     ]
    }
   ],
   "source": [
    "def write(M, w, e, a):\n",
    "    \"\"\"\n",
    "    Erases the weighted memory and adds new memory.\n",
    "    w is size (n,)\n",
    "    e,a are size (m,)\n",
    "    \"\"\"\n",
    "    # Erase\n",
    "    M = M - M*outer(w, e)\n",
    "    # Add\n",
    "    M = M + outer(w, a)\n",
    "    return M\n",
    "\n",
    "def outer(w, vec):\n",
    "    \"\"\"\n",
    "    Each element of weight is multiplied by vec and then appended stacked vertically.\n",
    "    w is size (n,)\n",
    "    vec is size (m,)\n",
    "    return size (n,m)\n",
    "    \"\"\"\n",
    "    return w.unsqueeze(1)*vec.unsqueeze(0)\n",
    "\n",
    "e = torch.rand(m)\n",
    "a = torch.rand(m)\n",
    "M = write(M, w_sharp, e, a)\n",
    "print(M)"
   ]
  },
  {
   "cell_type": "markdown",
   "metadata": {},
   "source": [
    "## NTM Operations\n",
    "- Receive input, output controller parameters.\n",
    "- Read from memory\n",
    "- Write to memory\n",
    "- Transform the read memory values\n",
    "- Output the transformed memory\n",
    "\n"
   ]
  },
  {
   "cell_type": "markdown",
   "metadata": {},
   "source": [
    "![](https://i.imgur.com/c6VTQyY.png)"
   ]
  },
  {
   "cell_type": "markdown",
   "metadata": {},
   "source": [
    "## Training Set\n",
    "We train the NTM on a copy task. The paper uses 8-bit vectors."
   ]
  },
  {
   "cell_type": "code",
   "execution_count": 14,
   "metadata": {},
   "outputs": [
    {
     "name": "stdout",
     "output_type": "stream",
     "text": [
      "Number of 6-bit vectors: 63\n",
      "Sample vector: [0. 0. 0. 1. 0. 0. 0. 0.]\n"
     ]
    }
   ],
   "source": [
    "zero_vec = np.array([0, 0, 0, 0, 0, 0, 0, 0.])\n",
    "start_vec = np.array([0, 0, 0, 0, 0, 0, 1., 0])\n",
    "end_vec = np.array([0, 0, 0, 0, 0, 0, 0, 1.])\n",
    "vecs = []\n",
    "for i in itertools.product([0,1], repeat=6): \n",
    "    vec = np.zeros(8)\n",
    "    vec[:6] = i\n",
    "    # don't store zero_vec\n",
    "    if np.sum(vec) > 0:\n",
    "        vecs.append(vec)\n",
    "    \n",
    "print(\"Number of 6-bit vectors: {}\".format(len(vecs)))\n",
    "print(\"Sample vector: {}\".format(vecs[3]))"
   ]
  },
  {
   "cell_type": "code",
   "execution_count": 15,
   "metadata": {},
   "outputs": [
    {
     "name": "stdout",
     "output_type": "stream",
     "text": [
      "input_task: torch.Size([10, 8])\n",
      "tensor([[0., 0., 0., 0., 0., 0., 1., 0.],\n",
      "        [0., 1., 0., 1., 0., 1., 0., 0.],\n",
      "        [0., 0., 0., 0., 1., 1., 0., 0.],\n",
      "        [0., 1., 0., 1., 0., 0., 0., 0.],\n",
      "        [1., 1., 1., 0., 1., 1., 0., 0.],\n",
      "        [0., 0., 0., 0., 0., 0., 0., 1.],\n",
      "        [0., 0., 0., 0., 0., 0., 0., 0.],\n",
      "        [0., 0., 0., 0., 0., 0., 0., 0.],\n",
      "        [0., 0., 0., 0., 0., 0., 0., 0.],\n",
      "        [0., 0., 0., 0., 0., 0., 0., 0.]])\n"
     ]
    }
   ],
   "source": [
    "def convert_to_binary(num, length=8):\n",
    "    binary_string_list = list(format(num, '0{}b'.format(length)))\n",
    "    return [int(digit) for digit in binary_string_list]\n",
    "\n",
    "def get_task(seq_len):\n",
    "    indices = np.random.choice(len(vecs), size=seq_len)\n",
    "    chosen_vecs = [vecs[i] for i in indices]\n",
    "\n",
    "    input_task = [start_vec] + chosen_vecs + [end_vec] + [zero_vec]*seq_len\n",
    "    output_task = [zero_vec]*(seq_len+2) + chosen_vecs\n",
    "\n",
    "    input_task = torch.Tensor(np.array(input_task))\n",
    "    output_task = torch.Tensor(np.array(output_task))\n",
    "    \n",
    "    return input_task, output_task\n",
    "\n",
    "input_task, output_task = get_task(seq_len=4)\n",
    "print(\"input_task: {}\".format(input_task.shape))\n",
    "print(input_task)"
   ]
  },
  {
   "cell_type": "code",
   "execution_count": 16,
   "metadata": {},
   "outputs": [
    {
     "data": {
      "image/png": "[encoded data removed]",
      "text/plain": [
       "<Figure size 720x288 with 2 Axes>"
      ]
     },
     "metadata": {
      "needs_background": "light"
     },
     "output_type": "display_data"
    },
    {
     "data": {
      "image/png": "[encoded data removed]",
      "text/plain": [
       "<Figure size 720x288 with 2 Axes>"
      ]
     },
     "metadata": {
      "needs_background": "light"
     },
     "output_type": "display_data"
    },
    {
     "data": {
      "image/png": "[encoded data removed]",
      "text/plain": [
       "<Figure size 720x288 with 2 Axes>"
      ]
     },
     "metadata": {
      "needs_background": "light"
     },
     "output_type": "display_data"
    }
   ],
   "source": [
    "class CopyDataset(Dataset):\n",
    "    \"\"\"Dataset of inputs/outputs for the copy task, using sequences of 8-bit vectors.\"\"\"\n",
    "    \n",
    "    def __init__(self, inputs, outputs):\n",
    "        \"\"\"\n",
    "        inputs is a (10,8) ndarray. The 1st is a start vector, the next 4 are the ones\n",
    "        to memorize, the 6th is an end vector, and the last 4 are blank.\n",
    "        \n",
    "        outputs is a (10,8) vector, with the first 6 elements blank and the last 4 elements\n",
    "        the vectors to retrieve from memory.\n",
    "        \"\"\"\n",
    "        super().__init__()\n",
    "        self._inputs = inputs\n",
    "        self._outputs = outputs\n",
    "        \n",
    "    def __len__(self):\n",
    "        return len(self._inputs)\n",
    "    \n",
    "    def __getitem__(self, i):\n",
    "        return torch.Tensor(self._inputs[i]), torch.Tensor(self._outputs[i])\n",
    "  \n",
    "def get_tasks(n_tasks, min_seq_len=5, max_seq_len=5):\n",
    "    n_seq_lens = max_seq_len - min_seq_len + 1\n",
    "    assert n_tasks % n_seq_lens == 0, \"n_tasks must be divisible by number of sequences\"\n",
    "    \n",
    "    input_tasks = []\n",
    "    output_tasks = []\n",
    "    # Create a list of copy tasks, with the longest sequences first\n",
    "    for seq_len in range(max_seq_len, min_seq_len - 1, -1):\n",
    "        for i in range(n_tasks // n_seq_lens):\n",
    "            input_task, output_task = get_task(seq_len)\n",
    "            input_tasks.append(input_task)\n",
    "            output_tasks.append(output_task)\n",
    "    return input_tasks, output_tasks\n",
    "\n",
    "def plot_task(task, title=None):\n",
    "    fig, ax = plt.subplots(1, 1, figsize=(6,4))\n",
    "    ax.imshow(task.T, cmap='Greys_r')\n",
    "    if title:\n",
    "        ax.set_title(title)\n",
    "    plt.show()\n",
    "    \n",
    "def plot_both_tasks(in_task, out_task):\n",
    "    fig, axs = plt.subplots(1, 2, figsize=(10,4))\n",
    "    axs[0].imshow(np.array(in_task).T, cmap=\"Greys_r\")\n",
    "    axs[0].set_title(\"Input\")\n",
    "    axs[1].imshow(np.array(out_task).T, cmap=\"Greys_r\")\n",
    "    axs[1].set_title(\"Output\")\n",
    "    plt.show()\n",
    "    \n",
    "def extract_batch(batch):\n",
    "    input_, output_ = batch\n",
    "    \n",
    "    input_ = torch.transpose(input_, 0, 1)\n",
    "    output_ = torch.transpose(output_, 0, 1)\n",
    "    return input_, output_   \n",
    " \n",
    "\n",
    "# TODO: Create train and test dataset that don't overlap, so we can test generalization.\n",
    "n_tasks = 200\n",
    "min_seq_len = 5\n",
    "max_seq_len = 5\n",
    "input_tasks, output_tasks = get_tasks(n_tasks, min_seq_len, max_seq_len)\n",
    "seq_lens = list(range(max_seq_len, min_seq_len - 1, -1))\n",
    "n_seq_lens = max_seq_len - min_seq_len + 1\n",
    "n_tasks_per_seq_len = n_tasks // n_seq_lens\n",
    "lengths = [ [seq_len] * n_tasks_per_seq_len for seq_len in seq_lens]\n",
    "lengths = list(itertools.chain.from_iterable(lengths))\n",
    "\n",
    "# input_tasks is a list of (seq_len, input_size) arrays.\n",
    "# We should pad and pack these. The result is a (batch, max_seq_len, input_size) tensor.\n",
    "input_tasks = pad_sequence(input_tasks, batch_first=True)\n",
    "output_tasks = pad_sequence(output_tasks, batch_first=True)\n",
    "\n",
    "# TODO: Train on the packed data, instead of raw padded data. Should give a speedup!\n",
    "input_tasks_packed = pack_padded_sequence(input_tasks, lengths, batch_first=True)\n",
    "output_tasks_packed = pack_padded_sequence(output_tasks, lengths, batch_first=True)\n",
    "\n",
    "full_dataset = CopyDataset(input_tasks, output_tasks)\n",
    "train_size = int(0.8 * len(full_dataset))\n",
    "test_size = len(full_dataset) - train_size\n",
    "\n",
    "train_dataset, test_dataset = random_split(full_dataset, [train_size, test_size])\n",
    "\n",
    "for i in range(3):\n",
    "    input_task, output_task = train_dataset[np.random.randint(len(train_dataset))]\n",
    "    plot_both_tasks(input_task, output_task)"
   ]
  },
  {
   "cell_type": "markdown",
   "metadata": {},
   "source": [
    "# Using an NTM"
   ]
  },
  {
   "cell_type": "code",
   "execution_count": 39,
   "metadata": {},
   "outputs": [
    {
     "data": {
      "image/png": "[encoded data removed]",
      "text/plain": [
       "<Figure size 720x288 with 10 Axes>"
      ]
     },
     "metadata": {
      "needs_background": "light"
     },
     "output_type": "display_data"
    }
   ],
   "source": [
    "def plot_ntm_state():\n",
    "    # State of the memory\n",
    "    memory_slice = ntm.memory.memory.detach()[0,:,:] # single batch\n",
    "    reads, controller_state, heads_states = previous_state\n",
    "    read_vec = reads[0].detach().numpy()\n",
    "    \n",
    "    read_weight, write_weight = heads_states\n",
    "    read_weight = read_weight.detach().numpy()\n",
    "    write_weight = write_weight.detach().numpy()\n",
    "    \n",
    "    output = outputs_pred[i_seq].detach().numpy()\n",
    "    \n",
    "    fig, axs = plt.subplots(1, 5, figsize=(10, 4))\n",
    "    pos0 = axs[0].imshow(np.array(memory_slice), cmap=\"Greys_r\")\n",
    "    axs[0].set_title(\"Memory\")\n",
    "    fig.colorbar(pos0, ax=axs[0])\n",
    "    \n",
    "    pos1 = axs[1].imshow(read_weight.T, cmap=\"Greys_r\")\n",
    "#     axs[1].set_title(\"Read Weighting\")\n",
    "    fig.colorbar(pos1, ax=axs[1])\n",
    "    \n",
    "    pos2 = axs[2].imshow(write_weight.T, cmap=\"Greys_r\")\n",
    "    axs[2].set_title(\"Write Weighting\")\n",
    "    fig.colorbar(pos2, ax=axs[2])\n",
    "    \n",
    "    pos3 = axs[3].imshow(read_vec.T, cmap=\"Greys_r\")\n",
    "    axs[3].set_title(\"Read Vector\")\n",
    "    fig.colorbar(pos3, ax=axs[3])\n",
    "    \n",
    "    pos4 = axs[4].imshow(output.T, cmap=\"Greys_r\")\n",
    "    axs[4].set_title(\"Output\")\n",
    "    fig.colorbar(pos4, ax=axs[4])\n",
    "    \n",
    "#     fig.suptitle(\"Controller State & Actions\")\n",
    "    plt.show()\n",
    "    \n",
    "\n",
    "plot_ntm_state()"
   ]
  },
  {
   "cell_type": "code",
   "execution_count": 41,
   "metadata": {
    "scrolled": false
   },
   "outputs": [
    {
     "data": {
      "image/png": "[encoded data removed]",
      "text/plain": [
       "<Figure size 864x576 with 1 Axes>"
      ]
     },
     "metadata": {
      "needs_background": "light"
     },
     "output_type": "display_data"
    },
    {
     "name": "stdout",
     "output_type": "stream",
     "text": [
      "loss:\n",
      "training   (min:    0.000, max:    0.055, cur:    0.000)\n"
     ]
    },
    {
     "data": {
      "image/png": "[encoded data removed]",
      "text/plain": [
       "<Figure size 720x288 with 2 Axes>"
      ]
     },
     "metadata": {
      "needs_background": "light"
     },
     "output_type": "display_data"
    },
    {
     "data": {
      "image/png": "[encoded data removed]",
      "text/plain": [
       "<Figure size 720x288 with 10 Axes>"
      ]
     },
     "metadata": {
      "needs_background": "light"
     },
     "output_type": "display_data"
    },
    {
     "name": "stdout",
     "output_type": "stream",
     "text": [
      "\n",
      " done\n"
     ]
    }
   ],
   "source": [
    "from pytorch_ntm.ntm.aio import EncapsulatedNTM\n",
    "\n",
    "# Data\n",
    "trainloader = DataLoader(train_dataset, batch_size=1, shuffle=True, num_workers=4)\n",
    "testloader = DataLoader(test_dataset, batch_size=128, num_workers=4)\n",
    "\n",
    "# ntm = EncapsulatedNTM(\n",
    "#     num_inputs=8,\n",
    "#     num_outputs=8,\n",
    "#     controller_size=100,\n",
    "#     controller_layers=1,\n",
    "#     num_heads=1,\n",
    "#     N=20,\n",
    "#     M=10\n",
    "# )\n",
    "\n",
    "n_epochs = 100\n",
    "loop = tqdm_notebook(n_epochs)\n",
    "liveloss = PlotLosses()\n",
    "# optimizer = optim.Adam(ntm.parameters(), lr=0.001)\n",
    "optimizer = optim.RMSprop(ntm.parameters(), momentum=0.9, alpha=0.95, lr=1e-4)\n",
    "criterion = nn.BCELoss()\n",
    "\n",
    "# Handle variable-length sequences\n",
    "for e in range(n_epochs):\n",
    "    \n",
    "    for i_batch, batch in enumerate(trainloader):\n",
    "        optimizer.zero_grad()\n",
    "        inputs_, outputs_ = extract_batch(batch)\n",
    "        seq_len, n_batch, input_size = inputs_.shape\n",
    "        ntm.init_sequence(n_batch)\n",
    "\n",
    "        outputs_pred = torch.zeros_like(outputs_)\n",
    "        for i_seq in range(seq_len):\n",
    "            input_ = inputs_[i_seq] # (n_batch, input_shape)\n",
    "            outputs_pred[i_seq], previous_state = ntm(input_)\n",
    "#             plot_ntm_state()\n",
    "                        \n",
    "        loss = criterion(outputs_pred, outputs_)\n",
    "        loss.backward()\n",
    "        optimizer.step()\n",
    "        \n",
    "#         if i_batch == 5:\n",
    "#             break\n",
    "\n",
    "    # Live plot of loss\n",
    "    liveloss.update({\n",
    "            'loss': loss\n",
    "        })\n",
    "    liveloss.draw()\n",
    "    \n",
    "    plot_both_tasks(inputs_[:,0,:].detach(), outputs_pred[:,0,:].detach())\n",
    "    plot_ntm_state()\n",
    "    loop.update(1)\n",
    "    loop.set_description(\"Epoch {}, Loss {:.3f}\".format(e, loss.item()))\n",
    "    \n",
    "print(\"\\n done\")"
   ]
  },
  {
   "cell_type": "markdown",
   "metadata": {},
   "source": [
    "# Controller State\n",
    "`reads` is a list of read vectors (the memory output).  \n",
    "`controller_state` is a tuple of (`lstm_h`, `lstm_c`).  \n",
    "`heads_states` is a tuple of (`read_weightings`, `write_weightings`)."
   ]
  },
  {
   "cell_type": "code",
   "execution_count": 26,
   "metadata": {},
   "outputs": [
    {
     "data": {
      "text/plain": [
       "2"
      ]
     },
     "execution_count": 26,
     "metadata": {},
     "output_type": "execute_result"
    }
   ],
   "source": [
    "# Reads is a \n",
    "reads, controller_state, heads_states = previous_state\n",
    "len(heads_states)"
   ]
  },
  {
   "cell_type": "markdown",
   "metadata": {},
   "source": [
    "## Training an LSTM as baseline\n",
    "8 inputs and 8 outputs, trained using CrossEntropyLoss and reporting errors in bits-per-sequence.\n",
    "\n",
    "![](https://i.stack.imgur.com/SjnTl.png)"
   ]
  },
  {
   "cell_type": "markdown",
   "metadata": {},
   "source": [
    "Using one element per batch goes at 2 iter/sec.  \n",
    "Using batch size 32 goes at 16 iter/sec. Train loss 0.005 after 1000 iters, test loss 0.1.\n",
    "\n",
    "$ \\ln{2} = 0.693 $ is the uninformed baseline, which guesses 0.5 everywhere.  \n",
    "$ \\ln{2} * \\frac{24}{70} = 0.237 $ is the semi-informed baseline, which guesses 0.5 for the valid squares and 0 everywhere else."
   ]
  },
  {
   "cell_type": "code",
   "execution_count": null,
   "metadata": {
    "scrolled": true
   },
   "outputs": [],
   "source": [
    "class LSTM(nn.Module):\n",
    "    \"\"\"\n",
    "    Combines an LSTM with a linear output layer.\n",
    "    The LSTM maps (input, hidden) -> (output, hidden).\n",
    "    Output is a tensor of the hidden state at each step, while\n",
    "    hidden is simply the hidden state at the final step.\n",
    "    The linear layer maps (output_hidden_size) -> (output_output_size).\n",
    "    \"\"\"\n",
    "    def __init__(self, input_size, hidden_size, output_size):\n",
    "        super().__init__()\n",
    "        self._input_size = input_size\n",
    "        self._hidden_size = hidden_size\n",
    "        self._output_size = output_size\n",
    "                \n",
    "        self._lstm = nn.LSTM(self._input_size, self._hidden_size)\n",
    "        self._output = nn.Linear(self._hidden_size, self._output_size)\n",
    "        self._sigmoid = nn.Sigmoid()\n",
    "        \n",
    "    def init_hidden(self, n_batch):\n",
    "        # tuple of (hidden_state, cell_state)\n",
    "        # where state has shape (num_layers, minibatch_size, hidden_dim)\n",
    "        return (torch.randn(1, n_batch, self._hidden_size),\n",
    "                torch.randn(1, n_batch, self._hidden_size))\n",
    "        \n",
    "    def forward(self, x, hidden):\n",
    "        out, hidden = self._lstm(x, hidden)\n",
    "        out = self._sigmoid(self._output(out))\n",
    "        return out, hidden\n",
    "\n",
    " \n",
    "\n",
    "def evaluate_lstm():\n",
    "    total_loss = 0\n",
    "    with torch.no_grad():\n",
    "        for i_batch, batch in enumerate(testloader):\n",
    "            input_, output_truth = extract_batch(batch)\n",
    "            seq_len, n_batch, input_size = input_.shape\n",
    "\n",
    "            hidden = lstm.init_hidden(n_batch)\n",
    "            output_proba, _ = lstm(input_, hidden)\n",
    "            loss = criterion(output_proba, output_truth)\n",
    "            total_loss += n_batch * loss.item()\n",
    "        \n",
    "    avg_loss = total_loss / len(testloader.dataset)\n",
    "    return avg_loss\n",
    "\n",
    "def plot_test_sample():\n",
    "    input_, output_ = test_dataset[np.random.randint(len(test_dataset))] # (seq_len, input_size)\n",
    "    input_ = input_.unsqueeze(1)\n",
    "    output_ = output_.unsqueeze(1)\n",
    "    \n",
    "    with torch.no_grad():\n",
    "        hidden = lstm.init_hidden(n_batch=1)\n",
    "        output_pred, hidden = lstm(input_, hidden)\n",
    "        \n",
    "    plot_both_tasks(input_.squeeze(1).numpy(), output_pred.squeeze(1).numpy())\n",
    "    \n",
    "\n",
    "\n",
    "# Hyperparameters\n",
    "# combines torch.nn.LogSoftmax() and torch.nn.NLLLoss() into one class.\n",
    "# so don't use a final softmax layer, just take the max.\n",
    "sigmoid = nn.Sigmoid()\n",
    "criterion = nn.BCELoss() \n",
    "lstm = LSTM(input_size=8, hidden_size=100, output_size=8)\n",
    "optimizer = optim.Adam(lstm.parameters(), lr=0.001)\n",
    "n_epochs = 500\n",
    "n_batch = 32\n",
    "\n",
    "# Data\n",
    "trainloader = DataLoader(train_dataset, batch_size=n_batch, shuffle=True, num_workers=4)\n",
    "testloader = DataLoader(test_dataset, batch_size=128, num_workers=4)\n",
    "\n",
    "# Visualization\n",
    "n_plot_every = 25\n",
    "liveloss = PlotLosses()\n",
    "loop = tqdm_notebook(n_epochs)\n",
    "losses_train_epochs = []\n",
    "losses_test_epochs = []\n",
    "\n",
    "\n",
    "print(\"Pre-Training, Test Loss: {:.3f}\".format(evaluate_lstm()))\n",
    "plot_test_sample()\n",
    "\n",
    "for e in range(n_epochs):\n",
    "    inputs = []\n",
    "    outputs = []\n",
    "    outputs_proba = []\n",
    "    losses_train = []\n",
    "    losses_test = []\n",
    "    \n",
    "    losses_batch_train = []\n",
    "    \n",
    "    for i_batch, batch in enumerate(trainloader):\n",
    "        optimizer.zero_grad()\n",
    "        \n",
    "        # batch is a list of two tuples, the input and output. Both are (n_batch, 10, 8) shape.\n",
    "        input_, output_truth = extract_batch(batch)\n",
    "        seq_len, n_batch, input_size = input_.shape\n",
    "        \n",
    "        hidden = lstm.init_hidden(n_batch)\n",
    "        output_proba, hidden = lstm(input_, hidden)\n",
    "        # output_proba has shape (seq_len, n_batch, output_size)\n",
    "        # hidden has shape (num_layers, n_batch, hidden_size)\n",
    "        \n",
    "        loss = criterion(output_proba, output_truth)\n",
    "        loss.backward()\n",
    "        optimizer.step()\n",
    "        losses_batch_train.append(loss.item())\n",
    "    \n",
    "    loss_train = np.mean(losses_batch_train)\n",
    "    loss_test = evaluate_lstm()\n",
    "    loop.update(1)\n",
    "    loop.set_description(\"Epoch {}, Loss: {:.3f}\".format(e, loss_train))\n",
    "    \n",
    "    # Live plot of loss\n",
    "    liveloss.update({\n",
    "            'loss': loss_train,\n",
    "            'val_loss': loss_test,\n",
    "        })\n",
    "#     liveloss.draw()\n",
    "    \n",
    "    if e % n_plot_every == 0:\n",
    "        print(\"Epoch {}, Test Loss: {:.3f}\".format(e, loss_test))\n",
    "        plot_test_sample()\n",
    "    \n",
    "#     plot_both_tasks(input_, output)\n",
    "#     plot_both_tasks(input_test, output_test)\n",
    "    \n",
    "# for input_, output_ in zip(inputs, outputs):\n",
    "#     plot_both_tasks(input_, output_)\n",
    "        \n",
    "\n",
    "print(\"\\ndone\")"
   ]
  },
  {
   "cell_type": "code",
   "execution_count": null,
   "metadata": {},
   "outputs": [],
   "source": [
    "del loop"
   ]
  },
  {
   "cell_type": "code",
   "execution_count": null,
   "metadata": {
    "scrolled": false
   },
   "outputs": [],
   "source": [
    "def plot_losses():\n",
    "    t = range(len(losses_train_epochs))\n",
    "    plt.plot(t, losses_train_epochs, label=\"Train Loss\")\n",
    "    plt.plot(t, losses_test_epochs, label=\"Test Loss\")\n",
    "    plt.legend()\n",
    "    plt.xlabel(\"Epoch\")\n",
    "    plt.title(\"LSTM Loss on Copy Task\")\n",
    "    plt.show()\n",
    "    \n",
    "plot_losses()"
   ]
  },
  {
   "cell_type": "code",
   "execution_count": null,
   "metadata": {},
   "outputs": [],
   "source": [
    "output_truth.shape"
   ]
  },
  {
   "cell_type": "code",
   "execution_count": null,
   "metadata": {},
   "outputs": [],
   "source": [
    "# Data\n",
    "trainloader = DataLoader(train_dataset, batch_size=n_batch, shuffle=True, num_workers=4)\n",
    "testloader = DataLoader(test_dataset, batch_size=128, num_workers=4)"
   ]
  },
  {
   "cell_type": "code",
   "execution_count": null,
   "metadata": {
    "scrolled": true
   },
   "outputs": [],
   "source": [
    "from ntm import NTMCell\n",
    "import tensorflow as tf\n",
    "\n",
    "cell = NTMCell(\n",
    "    controller_layers=1, \n",
    "    controller_units=100, \n",
    "    memory_size=128, \n",
    "    memory_vector_dim=20,\n",
    "    read_head_num=1, \n",
    "    write_head_num=1, \n",
    "    shift_range=1, \n",
    "    output_dim=8,\n",
    "    clip_value=20\n",
    ")\n",
    "\n",
    "\n",
    "sess = tf.Session()\n",
    "sess.run(tf.global_variables_initializer())\n",
    "for i_batch, batch in enumerate(trainloader):\n",
    "    inputs_, outputs_ = extract_batch(batch)\n",
    "    inputs_ = tf.convert_to_tensor(inputs_)\n",
    "    \n",
    "    print(\"inputs: {}\".format(inputs_.shape))\n",
    "    \n",
    "    outputs_pred, _ = tf.nn.dynamic_rnn(\n",
    "        cell=cell,\n",
    "        inputs=inputs_,\n",
    "        dtype=tf.float32,\n",
    "        time_major=True)\n",
    "    \n",
    "    print(\"inputs: {}, outputs: {}, outputs_pred: {}\".format(inputs_.shape, outputs_.shape, outputs_pred.shape))"
   ]
  },
  {
   "cell_type": "code",
   "execution_count": null,
   "metadata": {},
   "outputs": [],
   "source": []
  }
 ],
 "metadata": {
  "kernelspec": {
   "display_name": "Python 3",
   "language": "python",
   "name": "python3"
  },
  "language_info": {
   "codemirror_mode": {
    "name": "ipython",
    "version": 3
   },
   "file_extension": ".py",
   "mimetype": "text/x-python",
   "name": "python",
   "nbconvert_exporter": "python",
   "pygments_lexer": "ipython3",
   "version": "3.6.5"
  }
 },
 "nbformat": 4,
 "nbformat_minor": 2
}
