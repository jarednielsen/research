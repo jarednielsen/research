{
 "cells": [
  {
   "cell_type": "markdown",
   "metadata": {},
   "source": [
    "# Keras Softmax Classifier\n",
    "    Jared Nielsen"
   ]
  },
  {
   "cell_type": "code",
   "execution_count": null,
   "metadata": {},
   "outputs": [],
   "source": [
    "# import sys\n",
    "# !{sys.executable} -m pip install keras"
   ]
  },
  {
   "cell_type": "code",
   "execution_count": 39,
   "metadata": {},
   "outputs": [],
   "source": [
    "import keras\n",
    "from keras.datasets import fashion_mnist\n",
    "from keras.layers import Dense, Activation\n",
    "from keras.models import Sequential\n",
    "from keras.utils import np_utils\n",
    "import matplotlib.pyplot as plt\n",
    "import numpy as np\n",
    "import scipy as sp\n",
    "import sklearn\n",
    "from sklearn.datasets import load_digits\n",
    "from sklearn.linear_model import LogisticRegression\n",
    "from sklearn.model_selection import train_test_split\n",
    "import sys"
   ]
  },
  {
   "cell_type": "markdown",
   "metadata": {},
   "source": [
    "# Multi-Class Logistic Regression on Scikit-Learn Digits"
   ]
  },
  {
   "cell_type": "code",
   "execution_count": 47,
   "metadata": {},
   "outputs": [
    {
     "data": {
      "text/plain": [
       "<Figure size 432x288 with 0 Axes>"
      ]
     },
     "metadata": {},
     "output_type": "display_data"
    },
    {
     "data": {
      "image/png": "[encoded data removed]",
      "text/plain": [
       "<Figure size 288x288 with 1 Axes>"
      ]
     },
     "metadata": {},
     "output_type": "display_data"
    }
   ],
   "source": [
    "# digits is a dictionary with keys `data`, `images`, `target`, `target_names`, `DESCR`.\n",
    "digits = load_digits(n_class=10, return_X_y=False) \n",
    "X = digits.data\n",
    "y = digits.target\n",
    "X_train, X_test, y_train, y_test = train_test_split(X, y, test_size=0.30)\n",
    "\n",
    "plt.gray()\n",
    "plt.matshow(digits.images[0])\n",
    "plt.show()"
   ]
  },
  {
   "cell_type": "code",
   "execution_count": 65,
   "metadata": {},
   "outputs": [
    {
     "name": "stdout",
     "output_type": "stream",
     "text": [
      "penalty: l1, C: 0.001, Test Acc: 0.767, Train Acc: 0.767\n",
      "penalty: l2, C: 0.001, Test Acc: 0.957, Train Acc: 0.960\n",
      "\n",
      "penalty: l1, C: 0.01, Test Acc: 0.941, Train Acc: 0.940\n",
      "penalty: l2, C: 0.01, Test Acc: 0.978, Train Acc: 0.980\n",
      "\n",
      "penalty: l1, C: 0.1, Test Acc: 0.976, Train Acc: 0.979\n",
      "penalty: l2, C: 0.1, Test Acc: 0.969, Train Acc: 0.994\n",
      "\n",
      "penalty: l1, C: 1, Test Acc: 0.970, Train Acc: 0.997\n",
      "penalty: l2, C: 1, Test Acc: 0.965, Train Acc: 0.997\n",
      "\n",
      "penalty: l1, C: 10, Test Acc: 0.959, Train Acc: 0.998\n",
      "penalty: l2, C: 10, Test Acc: 0.959, Train Acc: 0.998\n",
      "\n",
      "penalty: l1, C: 100, Test Acc: 0.946, Train Acc: 0.999\n",
      "penalty: l2, C: 100, Test Acc: 0.944, Train Acc: 0.999\n",
      "\n"
     ]
    }
   ],
   "source": [
    "def build_logistic_model(penalty, C):\n",
    "    regr = LogisticRegression(penalty=penalty, C=C, multi_class='ovr', solver='liblinear')\n",
    "    results = regr.fit(X_train, y_train)\n",
    "    regr.coef_.shape\n",
    "    y_train_hat = regr.predict(X_train)\n",
    "    y_test_hat = regr.predict(X_test)\n",
    "    acc_train = (y_train_hat == y_train).mean()\n",
    "    acc_test = (y_test_hat == y_test).mean()\n",
    "    return acc_test, acc_train\n",
    "\n",
    "# C is inverse regularization parameter; smaller values are stronger regularization\n",
    "Cs = [10**k for k in range(-3, 3)]\n",
    "for C in Cs:\n",
    "    for penalty in 'l1', 'l2':\n",
    "        acc_test, acc_train = build_logistic_model(penalty, C)\n",
    "        print(\"penalty: {}, C: {}, Test Acc: {:.3f}, Train Acc: {:.3f}\".format(\n",
    "                penalty, C, acc_test, acc_train))\n",
    "    print()"
   ]
  },
  {
   "cell_type": "markdown",
   "metadata": {},
   "source": [
    "An L2 penalty with C-value 0.01 gives the best test set performance."
   ]
  },
  {
   "cell_type": "markdown",
   "metadata": {},
   "source": [
    "# Fashion-MNIST Keras Classifier"
   ]
  },
  {
   "cell_type": "code",
   "execution_count": 67,
   "metadata": {},
   "outputs": [],
   "source": [
    "(X_train, y_train), (X_test, y_test) = fashion_mnist.load_data()\n",
    "\n",
    "input_dim = 784\n",
    "output_dim = 10\n",
    "\n",
    "X_train = X_train.reshape(60000, input_dim).astype(np.float32)\n",
    "X_test = X_test.reshape(10000, input_dim).astype(np.float32)\n",
    "\n",
    "Y_train = np_utils.to_categorical(y_train, 10)\n",
    "Y_test = np_utils.to_categorical(y_test, 10)"
   ]
  },
  {
   "cell_type": "code",
   "execution_count": 85,
   "metadata": {},
   "outputs": [],
   "source": [
    "n_epochs = 2\n",
    "batch_size = 128\n",
    "\n",
    "def train_fashionmnist_model(n_epochs, batch_size):\n",
    "    model = Sequential()\n",
    "    model.add(Dense(output_dim, input_dim=input_dim, activation='softmax'))\n",
    "    model.compile(optimizer='adam', loss='categorical_crossentropy', metrics=['accuracy'])\n",
    "    history = model.fit(X_train, Y_train, batch_size=batch_size, epochs=n_epochs, verbose=0, \n",
    "             validation_data=(X_test, Y_test))\n",
    "    val_acc = history.history['val_acc']\n",
    "    return val_acc\n",
    "    \n",
    "result = train_fashionmnist_model(n_epochs=2, batch_size=128)"
   ]
  },
  {
   "cell_type": "code",
   "execution_count": 77,
   "metadata": {},
   "outputs": [
    {
     "data": {
      "text/plain": [
       "[0.3876, 0.3899]"
      ]
     },
     "execution_count": 77,
     "metadata": {},
     "output_type": "execute_result"
    }
   ],
   "source": [
    "result.history['val_acc'][-1]"
   ]
  },
  {
   "cell_type": "code",
   "execution_count": 86,
   "metadata": {},
   "outputs": [
    {
     "name": "stdout",
     "output_type": "stream",
     "text": [
      "Batch size 32, n_epochs 1 - test acc: 0.282\n",
      "Batch size 32, n_epochs 5 - test acc: 0.286\n",
      "Batch size 32, n_epochs 10 - test acc: 0.364\n",
      "Batch size 32, n_epochs 20 - test acc: 0.367\n",
      "Batch size 128, n_epochs 1 - test acc: 0.363\n",
      "Batch size 128, n_epochs 5 - test acc: 0.474\n",
      "Batch size 128, n_epochs 10 - test acc: 0.478\n",
      "Batch size 128, n_epochs 20 - test acc: 0.491\n",
      "Batch size 256, n_epochs 1 - test acc: 0.199\n",
      "Batch size 256, n_epochs 5 - test acc: 0.200\n",
      "Batch size 256, n_epochs 10 - test acc: 0.200\n",
      "Batch size 256, n_epochs 20 - test acc: 0.199\n"
     ]
    }
   ],
   "source": [
    "n_epochs_list = [1, 5, 10, 20]\n",
    "batch_size_list = [32, 64, 128, 256]\n",
    "max_epochs = max(n_epochs_list)\n",
    "\n",
    "for batch_size in batch_size_list:\n",
    "    val_acc = train_fashionmnist_model(max_epochs, batch_size)\n",
    "    for n_epoch in n_epochs_list:\n",
    "        acc = val_acc[n_epoch-1]\n",
    "        print(\"Batch size {}, n_epochs {} - test acc: {:.3f}\".format(batch_size, n_epoch, acc))"
   ]
  },
  {
   "cell_type": "markdown",
   "metadata": {},
   "source": [
    "Batch size 128, n_epochs 20 gives the best training accuracy. Also, we should definitely use the Adam optimizer."
   ]
  },
  {
   "cell_type": "markdown",
   "metadata": {},
   "source": [
    "### Problem 6 can be seen on [my Github](https://github.com/jarednielsen/cryopumps/blob/master/feature-engineering.ipynb). Scroll down to the bottom - TurboNet is a 1-D CNN used to predict cryogenic semiconductor pump id from their motor speeds."
   ]
  }
 ],
 "metadata": {
  "kernelspec": {
   "display_name": "Python 3",
   "language": "python",
   "name": "python3"
  },
  "language_info": {
   "codemirror_mode": {
    "name": "ipython",
    "version": 3
   },
   "file_extension": ".py",
   "mimetype": "text/x-python",
   "name": "python",
   "nbconvert_exporter": "python",
   "pygments_lexer": "ipython3",
   "version": "3.6.5"
  }
 },
 "nbformat": 4,
 "nbformat_minor": 2
}
