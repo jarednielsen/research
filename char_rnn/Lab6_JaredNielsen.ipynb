{
 "cells": [
  {
   "cell_type": "markdown",
   "metadata": {},
   "source": [
    "# The Unreasonable Effectiveness of RNNs\n",
    "The [liftothers.org lab](http://liftothers.org/dokuwiki/doku.php?id=cs501r_f2018:lab6)  \n",
    "Andrej Karpathy's [blog](http://karpathy.github.io/2015/05/21/rnn-effectiveness/)\n",
    "\n",
    "Are we passing in one character at a time or one sentence at a time?"
   ]
  },
  {
   "cell_type": "code",
   "execution_count": 37,
   "metadata": {},
   "outputs": [],
   "source": [
    "import glob\n",
    "import matplotlib.pyplot as plt\n",
    "import numpy as np\n",
    "import random\n",
    "import re\n",
    "import string\n",
    "import sys\n",
    "import time\n",
    "import torch\n",
    "import torch.nn as nn\n",
    "import torch.optim as optim\n",
    "from tqdm import tqdm\n",
    "import unidecode\n",
    "\n",
    "torch.set_printoptions(precision=2)"
   ]
  },
  {
   "cell_type": "code",
   "execution_count": null,
   "metadata": {},
   "outputs": [],
   "source": []
  },
  {
   "cell_type": "markdown",
   "metadata": {},
   "source": [
    "## Scaffolding Code"
   ]
  },
  {
   "cell_type": "code",
   "execution_count": 68,
   "metadata": {},
   "outputs": [],
   "source": [
    "all_characters = string.printable\n",
    "n_characters = len(all_characters)\n",
    "\n",
    "file = unidecode.unidecode(open('basketball.txt').read())\n",
    "file_len = len(file)\n",
    "# print('file_len =', file_len)\n",
    "\n",
    "chunk_len = 200\n",
    "\n",
    "def random_chunk():\n",
    "    start_index = random.randint(0, file_len - chunk_len)\n",
    "    end_index = start_index + chunk_len + 1\n",
    "    return file[start_index:end_index]\n",
    "\n",
    "# print(random_chunk())\n",
    "\n",
    "# Turn string into list of longs, shape (1,n)\n",
    "def char_tensor(string):\n",
    "    tensor = torch.zeros(len(string)).long()\n",
    "    for c in range(len(string)):\n",
    "        tensor[c] = all_characters.index(string[c])\n",
    "    return tensor\n",
    "\n",
    "# print(char_tensor('abcDEF'))\n",
    "\n",
    "def random_training_set():\n",
    "    \"\"\"\n",
    "    Returns a (200,n_characters) tensor.\n",
    "    \"\"\"\n",
    "    chunk = random_chunk()\n",
    "    inp = char_tensor(chunk[:-1])\n",
    "    target = char_tensor(chunk[1:])\n",
    "    return inp, target"
   ]
  },
  {
   "cell_type": "code",
   "execution_count": 69,
   "metadata": {},
   "outputs": [],
   "source": [
    "class GRU(nn.Module):\n",
    "    def __init__(self, input_size, hidden_size, num_layers):\n",
    "        super().__init__()\n",
    "        self.input_size = input_size\n",
    "        self.hidden_size = hidden_size\n",
    "        self.num_layers = num_layers\n",
    "        \n",
    "        self.i2r = nn.Linear(input_size, hidden_size)\n",
    "        self.h2r = nn.Linear(hidden_size, hidden_size)\n",
    "        self.i2z = nn.Linear(input_size, hidden_size)\n",
    "        self.h2z = nn.Linear(hidden_size, hidden_size)\n",
    "        self.i2n = nn.Linear(input_size, hidden_size)\n",
    "        self.h2n = nn.Linear(hidden_size, hidden_size)\n",
    "        \n",
    "        self.sigmoid = nn.Sigmoid()\n",
    "        self.tanh = nn.Tanh()\n",
    "        \n",
    "    def forward(self, input, hidden):\n",
    "        reset = self.sigmoid(self.i2r(input) + self.h2r(hidden))\n",
    "        update = self.sigmoid(self.i2z(input) + self.h2z(hidden))\n",
    "        new = self.tanh(self.i2n(input) + reset*self.h2n(hidden))\n",
    "        hidden = (1-update)*new + update*hidden\n",
    "        return hidden, hidden\n",
    "        \n",
    "\n",
    "class RNN(nn.Module):\n",
    "    def __init__(self, input_size, hidden_size, output_size, n_layers=1):\n",
    "        super().__init__()\n",
    "        self.input_size = input_size\n",
    "        self.hidden_size = hidden_size\n",
    "        self.output_size = output_size\n",
    "        self.n_layers = n_layers\n",
    "        \n",
    "        self.encoder = nn.Embedding(input_size, hidden_size) # maps an ASCII char to a vector\n",
    "        self.gru = GRU(hidden_size, hidden_size, n_layers)\n",
    "        self.decoder = nn.Linear(hidden_size, output_size)\n",
    "        self.relu = nn.ReLU()\n",
    "        \n",
    "        \n",
    "    def forward(self, input, hidden):\n",
    "        \"\"\"\n",
    "        The encoder reads an input sequence and outputs a single vector,\n",
    "        the decoder reads the vector and produces an output sequence.\n",
    "        Parameters:\n",
    "            input (input_size)\n",
    "            hidden (seq_len, batch, hidden_size)\n",
    "        Returns:\n",
    "            output (batch, output_size)\n",
    "        \"\"\"\n",
    "        \n",
    "        batch_size = 1\n",
    "        encoded = self.encoder(input.view(1,-1))\n",
    "        output, hidden = self.gru(encoded.view(1, batch_size, -1), hidden)\n",
    "        output = self.relu(self.decoder(output.view(batch_size, -1)))\n",
    "        return output, hidden\n",
    "            \n",
    "    def init_hidden(self):\n",
    "        return torch.zeros(self.n_layers, 1, self.hidden_size)"
   ]
  },
  {
   "cell_type": "code",
   "execution_count": 70,
   "metadata": {},
   "outputs": [
    {
     "data": {
      "text/plain": [
       "'ArtemisJ\\x0cDJ}~x \\n_OKE3h_HL_gq+3{ju5]TW.[7\\\\cZ;8|U5D\\n1BM#37]e\\x0c<JQ\\x0cTGVh\"1^2oO}VKVDezg1P@Ckwo(x6E}ba}r;@7{<SUm7K'"
      ]
     },
     "execution_count": 70,
     "metadata": {},
     "output_type": "execute_result"
    }
   ],
   "source": [
    "hidden_size = 100\n",
    "n_layers = 1\n",
    "lr = 0.005\n",
    "\n",
    "all_losses = []\n",
    "rnn = RNN(input_size=n_characters, hidden_size=hidden_size, output_size=n_characters, n_layers=n_layers)\n",
    "optimizer = optim.Adam(rnn.parameters(), lr=lr)\n",
    "criterion = nn.CrossEntropyLoss()\n",
    "\n",
    "def train(inp, target):\n",
    "    \"\"\"\n",
    "    Parameters:\n",
    "        inp (200,n_vocab)\n",
    "        target (200,n_vocab)\n",
    "    \"\"\"\n",
    "    hidden = rnn.init_hidden()\n",
    "    optimizer.zero_grad()\n",
    "    \n",
    "    loss = 0\n",
    "    for c in range(chunk_len):\n",
    "        output, hidden = rnn(inp[c], hidden)\n",
    "        loss += criterion(output, target[c].unsqueeze(0))\n",
    "        \n",
    "    loss.backward()\n",
    "    optimizer.step()\n",
    "    \n",
    "    return loss.item() / chunk_len\n",
    "\n",
    "def evaluate(prime_str='A', predict_len=100, temperature=0.8):\n",
    "    hidden = rnn.init_hidden()\n",
    " \n",
    "    prime_input = char_tensor(prime_str)\n",
    " \n",
    "    # Use priming string to \"build up\" hidden state\n",
    "    for p in range(len(prime_str) - 1):\n",
    "        _, hidden = rnn(prime_input[p], hidden)\n",
    "    inp = prime_input[-1]\n",
    " \n",
    "    predicted = prime_str\n",
    "    for p in range(predict_len):\n",
    "        output, hidden = rnn(inp, hidden) #run your RNN/decoder forward on the input\n",
    " \n",
    "        # Sample from the network as a multinomial distribution\n",
    "        output_dist = output.data.view(-1).div(temperature).exp()\n",
    "        top_i = torch.multinomial(output_dist, 1)[0]\n",
    " \n",
    "        ## get character from your list of all characters, add it to your output str sequence, set input\n",
    "        ## for the next pass through the model\n",
    "        char = all_characters[top_i]\n",
    "        predicted += char\n",
    "        inp = char_tensor(char)\n",
    " \n",
    "    return predicted\n",
    "\n",
    "evaluate('Artemis')"
   ]
  },
  {
   "cell_type": "code",
   "execution_count": 92,
   "metadata": {
    "scrolled": false
   },
   "outputs": [
    {
     "name": "stderr",
     "output_type": "stream",
     "text": [
      "\r",
      "0it [00:00, ?it/s]"
     ]
    },
    {
     "name": "stdout",
     "output_type": "stream",
     "text": [
      "FINAL EVAL: Basketball with the with's backboard. in wor the throcust was inceter the rebounding the ball pout act\n"
     ]
    },
    {
     "name": "stderr",
     "output_type": "stream",
     "text": [
      "\n"
     ]
    }
   ],
   "source": [
    "n_epochs = 0\n",
    "print_every = 20\n",
    "plot_every = 20\n",
    "\n",
    "start = time.time()\n",
    "loss_avg = 0\n",
    "\n",
    "optimizer = optim.Adam(rnn.parameters(), lr=lr)\n",
    "\n",
    "\n",
    "with tqdm(total=n_epochs, position=0) as loop:\n",
    "    for epoch in range(1, n_epochs+1):\n",
    "        inp, target = random_training_set()\n",
    "        loss_ = train(inp, target)\n",
    "        loss_avg += loss_\n",
    "        loop.update(1)\n",
    "        if epoch % print_every == 0:\n",
    "            loop.set_description(\"[epoch {}, loss {:.3f}]\".format(epoch, loss_))\n",
    "            print(evaluate('Ba', 100))\n",
    "\n",
    "        if epoch % plot_every == 0:\n",
    "            all_losses.append(loss_avg/plot_every)\n",
    "            loss_avg = 0\n",
    "        \n",
    "print(\"FINAL EVAL:\", evaluate('Ba'))"
   ]
  },
  {
   "cell_type": "code",
   "execution_count": 87,
   "metadata": {},
   "outputs": [
    {
     "data": {
      "image/png": "[encoded data removed]",
      "text/plain": [
       "<Figure size 432x288 with 1 Axes>"
      ]
     },
     "metadata": {
      "needs_background": "light"
     },
     "output_type": "display_data"
    }
   ],
   "source": [
    "t = np.arange(0, plot_every*len(all_losses), plot_every)\n",
    "plt.plot(t, all_losses)\n",
    "plt.xlabel(\"Epochs\")\n",
    "plt.title(\"Training Loss\")\n",
    "plt.show()"
   ]
  },
  {
   "cell_type": "code",
   "execution_count": 67,
   "metadata": {},
   "outputs": [
    {
     "name": "stdout",
     "output_type": "stream",
     "text": [
      "And it came to the deach it resues, and also time they do noth. And Christ of the red, that name, bot\n",
      "And his and the faith for him in. And noGd, be death the lands of Christ of the raind#on of the churd\n",
      "And been the face the _holle dead of the land destroyed and came to buch it hard, and me had shall but \n",
      "And the city, and in they my stiXfor away, and there UZe comencemon, and all they or ]e the rei{n\tr of \n",
      "And his desire for the commenled that they . And it came for had been Ammon or all the boristifore ri\n",
      "And they haBe en0enly of Moroni not started of the came to be sue be dead. And the mebery, and the re\n",
      "And all the votion. And graints of they muld battell be i|ner of the lait of Whould $ubtion of the Xa\n",
      "And come over. And it cammant of the _^fseadinO unto need they rein$s, and the |ould `ouls of the lan\n",
      "And there [reth hathall by the }9TDernined the brore or them, the camosted the red all the land, beinBe\n",
      "And of they manner of the dery of his farininCished it of With by that even de) and ofre is listed they\n",
      "And his in thinquse the all be of con=, and ansy, and there north a, and cit of the 3redinin_r the land\n",
      "And 6le ^rony of the gourninMer at that his commyself of u4 the life 2oranction of desire to be in mal \n",
      "And their Beriny of thou he came to them, and &ulf all murch it _n in cit of the land of ma and in is b\n",
      "And, and the land of the /erous. And Hela>ive that 8ill citich in the land of ?eland, the did in in t\n",
      "And the ladin of Yea, and momance the city of the land believe to should behold, the goodn to sule that\n"
     ]
    }
   ],
   "source": [
    "alma_examples = [evaluate('And', predict_len=64).replace('\\n','') for _ in range(15)]\n",
    "for sentence in alma_examples:\n",
    "    print(sentence)"
   ]
  },
  {
   "cell_type": "code",
   "execution_count": 89,
   "metadata": {},
   "outputs": [
    {
     "name": "stdout",
     "output_type": "stream",
     "text": [
      "Basketball Association low-peizessfully, mezzanion pass as a shot is gain are canu\n",
      "Bak Affencese basketball =ary\")Anted, which player to the ball to be in oftempic\n",
      "Basketball without whe bounces the lon a plays to champions that in of basket. A p\n",
      "Basketball Make a ball resuler bounces the basket. X ~vental in the backboard the \n",
      "Basketball with rowd-tmat is a very to intercept forward netriest that is behandiv\n",
      "Basketball from the players players. Cand, and is shaper of the preses anthandal, \n",
      "Basketballd forward to beward, the toward from are cether the most betand in becac\n",
      "Basketball plays ure team with the basket. A proved, or successfully involving the\n",
      "Basketball b9s shother stealail any provely in the players and whimed shot the bas\n",
      "Basketball passed to skipped pass. 6 continented, as with bals is to the power for\n",
      "Basketball wath becaceed plays in the primary from the oppoing the basket with bac\n",
      "Basketball was rebound, and levelt a step with the a volvor man a ecase the passit\n",
      "Basketball was shothod-upts positions in the game pused by made. For and a teammat\n",
      "Basketball bouncing the at aptand tollows, a teammate score one to called passer a\n",
      "Basketball >cathure teammate flipped pass. A proper chest backboard.passed to th\n"
     ]
    }
   ],
   "source": [
    "basketball_examples = [evaluate('Ba', predict_len=80).replace('\\n','') for _ in range(15)]\n",
    "for sentence in basketball_examples:\n",
    "    print(sentence)"
   ]
  }
 ],
 "metadata": {
  "kernelspec": {
   "display_name": "Python 3",
   "language": "python",
   "name": "python3"
  },
  "language_info": {
   "codemirror_mode": {
    "name": "ipython",
    "version": 3
   },
   "file_extension": ".py",
   "mimetype": "text/x-python",
   "name": "python",
   "nbconvert_exporter": "python",
   "pygments_lexer": "ipython3",
   "version": "3.6.5"
  }
 },
 "nbformat": 4,
 "nbformat_minor": 2
}
