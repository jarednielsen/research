{
 "cells": [
  {
   "cell_type": "code",
   "execution_count": 1,
   "metadata": {},
   "outputs": [],
   "source": [
    "import torch\n",
    "import torch.nn as nn\n",
    "import torch.nn.functional as F\n",
    "import torch.optim as optim\n",
    "from torch.utils.data import Dataset, DataLoader\n",
    "import numpy as np\n",
    "import matplotlib.pyplot as plt\n",
    "from torchvision import transforms, utils, datasets\n",
    "from tqdm import tqdm\n",
    "\n",
    "assert torch.cuda.is_available()"
   ]
  },
  {
   "cell_type": "code",
   "execution_count": 103,
   "metadata": {},
   "outputs": [],
   "source": [
    "class MyLinearModel(nn.Module):\n",
    "  # We'll include nn.Linear as a good, easy starting point\n",
    "  \n",
    "  def __init__(self, dataset):\n",
    "    \"\"\"\n",
    "    A fully-connected linear layer that takes m inputs and returns n outputs.\n",
    "    \"\"\"\n",
    "    super().__init__()\n",
    "    x, y = dataset[0]\n",
    "    c, h, w = x.size() # (1, 28, 28)\n",
    "    out = y.size(0)\n",
    "    \n",
    "    self.conv1 = nn.Conv2d(1, 32, kernel_size=3, padding=1) # (32, 28, 28)\n",
    "    self.conv2 = nn.Conv2d(32, 64, kernel_size=3, padding=1) # (64, 28, 28)\n",
    "    self.pool2 = nn.MaxPool2d(2) # (64, 14, 14)\n",
    "    self.conv3 = nn.Conv2d(64, 64, kernel_size=3) # (64, 12, 12)\n",
    "    self.pool3 = nn.MaxPool2d(2) # (32, 6, 6)\n",
    "    self.fc1 = nn.Linear(64*6*6, 128) # (128,)\n",
    "    self.fc2 = nn.Linear(128, 10) # (10,)\n",
    "    \n",
    "  def forward(self, x):\n",
    "    n, c, h, w = x.size()\n",
    "    x = F.relu(self.conv1(x))\n",
    "    x = F.relu(self.conv2(x))\n",
    "    x = self.pool2(x)\n",
    "    x = F.relu(self.conv3(x))\n",
    "    x = self.pool3(x)\n",
    "    n, c, h, w = x.size()\n",
    "    x = x.view(n, c*h*w)\n",
    "    x = F.relu(self.fc1(x))\n",
    "    x = self.fc2(x)\n",
    "    return x\n",
    "  \n",
    "\n",
    "class FashionDataset(Dataset):\n",
    "  # Includes the FashionMNIST dataset.\n",
    "  \n",
    "  def __init__(self, train=True):\n",
    "    super().__init__()\n",
    "    transform = transforms.Compose([transforms.ToTensor()])\n",
    "    self.train = train\n",
    "    self.dataset = datasets.FashionMNIST(root=\"\", \n",
    "                                         train=train, \n",
    "                                         download=True,\n",
    "                                         transform=transform, \n",
    "                                         target_transform=None)\n",
    "    \n",
    "  def __getitem__(self, key):\n",
    "    images, labels = self.dataset[key]\n",
    "    return images, torch.eye(10)[labels]\n",
    "  \n",
    "  def __len__(self):\n",
    "    if self.train:\n",
    "      return len(self.dataset)\n",
    "    else:\n",
    "      return 256*4 # len(self.dataset)   "
   ]
  },
  {
   "cell_type": "code",
   "execution_count": null,
   "metadata": {},
   "outputs": [],
   "source": []
  },
  {
   "cell_type": "code",
   "execution_count": 110,
   "metadata": {},
   "outputs": [
    {
     "name": "stderr",
     "output_type": "stream",
     "text": [
      "loss: 0.265, acc: 0.927: 100%|██████████| 4700/4700 [02:21<00:00, 33.17it/s]"
     ]
    },
    {
     "name": "stdout",
     "output_type": "stream",
     "text": [
      "Done\n"
     ]
    },
    {
     "name": "stderr",
     "output_type": "stream",
     "text": [
      "\n"
     ]
    }
   ],
   "source": [
    "train_dataset = FashionDataset(train=True)\n",
    "test_dataset = FashionDataset(train=False)\n",
    "model = MyLinearModel(train_dataset)\n",
    "model = model.cuda() # moves the model to the GPU\n",
    "objective = torch.nn.CrossEntropyLoss() # includes the softmax in itself, so don't double up in the net.\n",
    "optimizer = optim.Adam(model.parameters(), lr=0.005, weight_decay=0.005)\n",
    "train_loader = DataLoader(dataset=train_dataset, \n",
    "                    batch_size=256, \n",
    "                    pin_memory=True)\n",
    "test_loader = DataLoader(dataset=test_dataset,\n",
    "                         batch_size=256,\n",
    "                         pin_memory=True)\n",
    "\n",
    "training_losses = []\n",
    "validation_losses = []\n",
    "training_accuracy = []\n",
    "validation_accuracy = []\n",
    "\n",
    "num_epochs = 20\n",
    "loop = tqdm(total=num_epochs*len(train_loader), position=0)\n",
    "\n",
    "for epoch in range(num_epochs):\n",
    "    for i, data in enumerate(train_loader):\n",
    "        x, y_truth = data\n",
    "        x, y_truth = x.cuda(non_blocking=True), y_truth.cuda(non_blocking=True)\n",
    "\n",
    "        optimizer.zero_grad()\n",
    "\n",
    "        y_hat = model(x)\n",
    "        loss = objective(y_hat, y_truth.argmax(dim=1))\n",
    "        acc = torch.mean((y_hat.argmax(dim=1) == y_truth.argmax(dim=1)).float())\n",
    "\n",
    "        training_losses.append(loss)\n",
    "\n",
    "        loop.set_description(\"loss: {:.3f}, acc: {:.3f}\".format(loss.item(), acc.item()))\n",
    "        loop.update(1)\n",
    "\n",
    "        loss.backward()\n",
    "\n",
    "        optimizer.step()\n",
    "\n",
    "        if i%235 == 0:\n",
    "            training_accuracy.append(acc)\n",
    "            validation_accuracy.append(np.mean([\n",
    "                torch.mean((model(x.cuda()).argmax(dim=1) == y_truth.cuda().argmax(dim=1)).float()).item()\n",
    "                for x, y_truth in test_loader\n",
    "            ]))\n",
    "        \n",
    "        \n",
    "    \n",
    "loop.close()\n",
    "print(\"Done\")"
   ]
  },
  {
   "cell_type": "code",
   "execution_count": 72,
   "metadata": {},
   "outputs": [
    {
     "data": {
      "text/plain": [
       "235"
      ]
     },
     "execution_count": 72,
     "metadata": {},
     "output_type": "execute_result"
    }
   ],
   "source": [
    "len(train_loader)"
   ]
  },
  {
   "cell_type": "code",
   "execution_count": 111,
   "metadata": {},
   "outputs": [
    {
     "data": {
      "image/png": "[encoded data removed]",
      "text/plain": [
       "<Figure size 432x288 with 1 Axes>"
      ]
     },
     "metadata": {
      "needs_background": "light"
     },
     "output_type": "display_data"
    },
    {
     "name": "stdout",
     "output_type": "stream",
     "text": [
      "Training Acc: 0.8828125\n",
      "Validation Acc: 0.8896484375\n"
     ]
    }
   ],
   "source": [
    "def display_error(training_loss, validation_loss, training_timesteps=235, validation_timesteps=235):\n",
    "    \"\"\"\n",
    "    Parameters:\n",
    "    training_error ((N,) ndarray): the training error per iteration.\n",
    "    validation_error ((N,) ndarray): the validation error per iteration.\n",
    "    \"\"\"\n",
    "    xs = np.arange(len(training_loss))\n",
    "#     xs = training_timesteps*np.arange(len(training_loss))\n",
    "    plt.plot(xs, training_loss, label=\"Training\")\n",
    "#     xs = validation_timesteps*np.arange(len(validation_loss))\n",
    "    plt.plot(xs, validation_loss, label=\"Validation\")\n",
    "    plt.xlabel(\"Epochs\")\n",
    "    plt.ylabel(\"Loss\")\n",
    "    plt.title(\"Accuracy on Fashion-MNIST\")\n",
    "    plt.legend(loc='upper right')\n",
    "    plt.show()\n",
    "  \n",
    "display_error(training_accuracy, validation_accuracy)\n",
    "print(\"Training Acc:\", training_accuracy[-1].item())\n",
    "print(\"Validation Acc:\", validation_accuracy[-1])"
   ]
  }
 ],
 "metadata": {
  "kernelspec": {
   "display_name": "Python 3",
   "language": "python",
   "name": "python3"
  },
  "language_info": {
   "codemirror_mode": {
    "name": "ipython",
    "version": 3
   },
   "file_extension": ".py",
   "mimetype": "text/x-python",
   "name": "python",
   "nbconvert_exporter": "python",
   "pygments_lexer": "ipython3",
   "version": "3.6.5"
  }
 },
 "nbformat": 4,
 "nbformat_minor": 2
}
