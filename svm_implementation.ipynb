{
 "cells": [
  {
   "cell_type": "code",
   "execution_count": 1,
   "metadata": {},
   "outputs": [],
   "source": [
    "import itertools\n",
    "from matplotlib import pyplot as plt\n",
    "import numpy as np\n",
    "from numpy import linalg as la"
   ]
  },
  {
   "cell_type": "code",
   "execution_count": 2,
   "metadata": {},
   "outputs": [],
   "source": [
    "def generate_data(n=100):\n",
    "    x_1 = 0.1+np.random.rand(n)\n",
    "    y_1 = 2*np.random.rand(n) - 1\n",
    "    x_2 = -1*(0.1+np.random.rand(n))\n",
    "    y_2 = -1*(2*np.random.rand(n) - 1)\n",
    "    class_1 = np.stack((x_1, y_1), axis=-1)\n",
    "    class_2 = np.stack((x_2, y_2), axis=-1)\n",
    "    \n",
    "    return class_1, class_2"
   ]
  }
 ],
 "metadata": {
  "kernelspec": {
   "display_name": "Python 3",
   "language": "python",
   "name": "python3"
  },
  "language_info": {
   "codemirror_mode": {
    "name": "ipython",
    "version": 3
   },
   "file_extension": ".py",
   "mimetype": "text/x-python",
   "name": "python",
   "nbconvert_exporter": "python",
   "pygments_lexer": "ipython3",
   "version": "3.6.6"
  }
 },
 "nbformat": 4,
 "nbformat_minor": 2
}
