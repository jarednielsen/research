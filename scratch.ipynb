{
 "cells": [
  {
   "cell_type": "code",
   "execution_count": 2,
   "metadata": {},
   "outputs": [],
   "source": [
    "from IPython import display\n",
    "import numpy as np\n",
    "from os import listdir\n",
    "import PIL\n",
    "from PIL import Image\n",
    "import torch"
   ]
  },
  {
   "cell_type": "code",
   "execution_count": 18,
   "metadata": {},
   "outputs": [],
   "source": [
    "folder = 'cancer_data/outputs_test/0/'\n",
    "img_name = 'pos_test_000038.png'\n",
    "\n",
    "img_names = listdir(folder)"
   ]
  },
  {
   "cell_type": "code",
   "execution_count": 13,
   "metadata": {},
   "outputs": [],
   "source": [
    "def show_image(path):\n",
    "    display.display(display.Image(path, height=300, width=300))\n",
    "    \n",
    "def get_image_as_tensor(path):\n",
    "    img = Image.open(path)\n",
    "    img.load()\n",
    "    data = np.asarray(img)\n",
    "    return data\n",
    "\n",
    "def resize(folder):\n",
    "    img_names = listdir(folder)\n",
    "    for img_name in img_names:\n",
    "        path = folder + img_name\n",
    "        img = Image.open(path)\n",
    "        img = img.resize((512,512), PIL.Image.NEAREST)\n",
    "        img.save(path)"
   ]
  },
  {
   "cell_type": "code",
   "execution_count": 14,
   "metadata": {},
   "outputs": [],
   "source": [
    "folders = ['cancer_data/inputs_test/0/',\n",
    "           'cancer_data/inputs_train/0/',\n",
    "           'cancer_data/outputs_test/0/',\n",
    "           'cancer_data/outputs_train/0/']\n",
    "for folder in folders:\n",
    "    resize(folder)"
   ]
  },
  {
   "cell_type": "code",
   "execution_count": 20,
   "metadata": {},
   "outputs": [
    {
     "name": "stdout",
     "output_type": "stream",
     "text": [
      "<PIL.PngImagePlugin.PngImageFile image mode=L size=512x512 at 0x7F3BF7D5A048>\n"
     ]
    },
    {
     "data": {
      "image/png": "[encoded data removed]",
      "text/plain": [
       "<IPython.core.display.Image object>"
      ]
     },
     "metadata": {
      "image/png": {
       "height": 300,
       "width": 300
      }
     },
     "output_type": "display_data"
    },
    {
     "name": "stdout",
     "output_type": "stream",
     "text": [
      "uint8\n"
     ]
    }
   ],
   "source": [
    "path = folder + img_name\n",
    "img = Image.open(path)\n",
    "print(img)\n",
    "show_image(path)\n",
    "print(get_image_as_tensor(path).dtype)"
   ]
  }
 ],
 "metadata": {
  "kernelspec": {
   "display_name": "Python 3",
   "language": "python",
   "name": "python3"
  },
  "language_info": {
   "codemirror_mode": {
    "name": "ipython",
    "version": 3
   },
   "file_extension": ".py",
   "mimetype": "text/x-python",
   "name": "python",
   "nbconvert_exporter": "python",
   "pygments_lexer": "ipython3",
   "version": "3.6.5"
  }
 },
 "nbformat": 4,
 "nbformat_minor": 2
}
