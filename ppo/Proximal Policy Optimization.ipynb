{
 "cells": [
  {
   "cell_type": "markdown",
   "metadata": {},
   "source": [
    "# Proximal Policy Optimization\n",
    "## Jared Nielsen\n",
    "Link to [arXiv paper](https://arxiv.org/pdf/1707.06347.pdf)  \n",
    "\n",
    "Here we apply PPO to CartPole and Space Invaders RAM."
   ]
  },
  {
   "cell_type": "code",
   "execution_count": 2,
   "metadata": {},
   "outputs": [],
   "source": [
    "import functools\n",
    "from itertools import chain\n",
    "import gym\n",
    "import imageio\n",
    "import matplotlib.pyplot as plt\n",
    "import numpy as np\n",
    "from queue import Queue\n",
    "import time\n",
    "import sys\n",
    "import torch\n",
    "from torch import optim\n",
    "import torch.nn as nn\n",
    "from torch.utils.data import Dataset, DataLoader\n",
    "from tqdm import tqdm\n",
    "import warnings\n",
    "warnings.filterwarnings('ignore')\n",
    "gym.logger.set_level(40)"
   ]
  },
  {
   "cell_type": "markdown",
   "metadata": {},
   "source": [
    "## Network Topology, Datasets"
   ]
  },
  {
   "cell_type": "code",
   "execution_count": 25,
   "metadata": {},
   "outputs": [],
   "source": [
    "# Policy Network\n",
    "# Chooses the next move.\n",
    "class PolicyNetwork(nn.Module):\n",
    "    def __init__(self, state_dim=4, action_dim=2):\n",
    "        super().__init__()\n",
    "        self._net = nn.Sequential(\n",
    "            nn.Linear(state_dim, 10),\n",
    "            nn.ReLU(),\n",
    "            nn.Linear(10, 10),\n",
    "            nn.ReLU(),\n",
    "            nn.Linear(10, 10),\n",
    "            nn.ReLU(),\n",
    "            nn.Linear(10, action_dim),\n",
    "            nn.Softmax(dim=1)\n",
    "        )\n",
    "\n",
    "    def forward(self, x, get_action=True):\n",
    "        \"\"\"\n",
    "        Receives input x of shape [batch, state_dim].\n",
    "        Outputs action distribution (categorical distribution) of shape [batch, action_dim],\n",
    "        as well as a sampled action (optional).\n",
    "        \"\"\"\n",
    "        probs = self._net(x)\n",
    "        \n",
    "        if not get_action:\n",
    "            return probs\n",
    "\n",
    "        # Possibly return a sampled action\n",
    "        # This code is taken from Josh's code, but written myself :)\n",
    "        batch_size = x.shape[0]\n",
    "        actions = np.empty((batch_size, 1), dtype=np.uint8) # easiest to modify in-place\n",
    "        probs_np = probs.cpu().detach().numpy() # numpy functions can only run on cpu\n",
    "        for i in range(batch_size):\n",
    "            action_one_hot = np.random.multinomial(1, probs_np[i]) # 1 draw from the given probs\n",
    "            action_idx = np.argmax(action_one_hot) # get the index of the 1 in the one-hot vector\n",
    "            actions[i, 0] = action_idx # create the vector of action indices\n",
    "        return probs, actions\n",
    "\n",
    "# Value Network\n",
    "# Estimates the value of a state.\n",
    "class ValueNetwork(nn.Module):\n",
    "    def __init__(self, n_in):\n",
    "        super().__init__()\n",
    "        self.net = nn.Sequential(\n",
    "            nn.Linear(n_in, 10),\n",
    "            nn.ReLU(),\n",
    "            nn.Linear(10, 10),\n",
    "            nn.ReLU(),\n",
    "            nn.Linear(10, 1)\n",
    "        )\n",
    "        \n",
    "    def forward(self, x):\n",
    "        return self.net(x)\n",
    "    \n",
    "class EmbeddingNetwork(nn.Module):\n",
    "    def __init__(self, n_in, n_out):\n",
    "        super().__init__()\n",
    "        self._net = nn.Linear(n_in, n_out)\n",
    "    \n",
    "    def forward(self, x):\n",
    "        return self._net(x)\n",
    "    \n",
    "\n",
    "# These datasets sample *observations*, not rollouts.\n",
    "# Policy dataset returns (prev_state, action, reward, ret) tuples.\n",
    "class PolicyDataset(Dataset):\n",
    "    def __init__(self, experience):\n",
    "        super(PolicyDataset, self).__init__()\n",
    "        self._exp = []\n",
    "        for x in experience:\n",
    "            self._exp.extend(x)\n",
    "        self._length = len(self._exp)\n",
    "\n",
    "    def __getitem__(self, index):\n",
    "        return self._exp[index]\n",
    "\n",
    "    def __len__(self):\n",
    "        return self._length"
   ]
  },
  {
   "cell_type": "markdown",
   "metadata": {},
   "source": [
    "## Calculate Returns, Advantages\n",
    "## Rollout and Train"
   ]
  },
  {
   "cell_type": "code",
   "execution_count": 56,
   "metadata": {
    "scrolled": false
   },
   "outputs": [],
   "source": [
    "def _calculate_returns(rollouts, gamma):\n",
    "    \"\"\"\n",
    "    Modifies `rollouts` in-place from (state, action_dist, action, reward) to \n",
    "    (state, action_dist, action, reward, return).\n",
    "    \"\"\"\n",
    "    for i, rollout in enumerate(rollouts):\n",
    "        current_return = 0\n",
    "        for j in reversed(range(len(rollout))):\n",
    "            state, action_dist, action, reward = rollout[j]\n",
    "            ret = reward + gamma*current_return\n",
    "            rollouts[i][j] = (state, action_dist, action, reward, ret)\n",
    "            current_return = ret\n",
    "\n",
    "def likelihood_fn(action_dist, action):\n",
    "    return action_dist[range(action_dist.shape[0]), action.long()[:,0]].unsqueeze(1)\n",
    "\n",
    "def likelihood_fn_bad(action_dist, action):\n",
    "    \"\"\"\n",
    "    Always check your shapes!!!\n",
    "    This is indexing action_dist using action instead of action[:,0]\n",
    "    which makes likelihood have shape (256,1,256) instead of (256,1).\n",
    "    This didn't throw any errors but ruined everything.\n",
    "    \"\"\"\n",
    "    print(\"action shape: {}\".format(action.shape))\n",
    "    n = action_dist.shape[0]\n",
    "    likelihood = action_dist[range(n), action].unsqueeze(1)\n",
    "    print(\"likelihood shape: {}\".format(likelihood.shape))\n",
    "    return likelihood\n",
    "\n",
    "def _prepare_numpy(ndarray, device):\n",
    "    \"\"\"\n",
    "    Adds a dimension of length 1, so we don't have to deal with PyTorch converting\n",
    "    floats to doubles.\n",
    "    Fx (256,) becomes (256,1).\n",
    "    \"\"\"\n",
    "    return torch.Tensor(ndarray).to(device).unsqueeze(0)\n",
    "\n",
    "def _prepare_tensor_batch(tensor, device):\n",
    "    return tensor.detach().float().to(device)\n",
    "\n",
    "def main(env, embedding, policy, value, device, rewards_queue, n_epochs, n_episodes, max_episode_length):\n",
    "    # Initialize environment and networks\n",
    "    policy = policy.to(device)\n",
    "    value = value.to(device)\n",
    "    \n",
    "    # Hyperparameters\n",
    "    gamma = 0.99\n",
    "    policy_epochs = 5\n",
    "    batch_size = 256\n",
    "    epsilon_ppo = 0.2\n",
    "    lr = 1e-3\n",
    "    weight_decay = 0.01\n",
    "    betas=(0.9, 0.999)\n",
    "    \n",
    "    # Optimizers\n",
    "    params = chain(value.parameters(), policy.parameters())\n",
    "    if embedding:\n",
    "        embedding = embedding.to(device)\n",
    "        params = chain(params, embedding.parameters())\n",
    "    optimizer = optim.Adam(params, lr=lr, betas=betas, weight_decay=weight_decay)\n",
    "    value_criteria = nn.MSELoss()\n",
    "    \n",
    "    \n",
    "    loop = tqdm(total=n_epochs, position=0, leave=False)\n",
    "    \n",
    "    # Training\n",
    "    for _ in range(n_epochs):\n",
    "#         Generate Rollouts\n",
    "        rollouts = []\n",
    "        rewards_per_rollout = []\n",
    "        for _ in range(n_episodes):\n",
    "            state = env.reset() # Reset environment each episode\n",
    "\n",
    "            rollout = []\n",
    "            reward_total = 0\n",
    "            for _ in range(max_episode_length):\n",
    "                # Compute policy probabilities\n",
    "                input_state = _prepare_numpy(state, device)\n",
    "                if embedding:\n",
    "                    input_state = embedding(input_state)\n",
    "                action_dist, action = policy(input_state)\n",
    "                action_dist, action = action_dist[0], action[0]\n",
    "\n",
    "                # Take Action\n",
    "                state_prime, reward, done, _ = env.step(action.item())\n",
    "#                 position, velocity = state_prime\n",
    "#                 shaped_reward = min(1, 10*abs(velocity))\n",
    "#                 reward += shaped_reward\n",
    "#                 print(\"shaped_reward: {}\".format(shaped_reward))\n",
    "                # Ensure you store state instead of state_prime\n",
    "                rollout.append((state.astype(np.float32), action_dist.cpu().detach().numpy(), action, reward))\n",
    "                reward_total += reward\n",
    "\n",
    "                if done:\n",
    "                    break\n",
    "                    \n",
    "                state = state_prime\n",
    "\n",
    "            rollouts.append(rollout)\n",
    "            rewards_per_rollout.append(reward_total)\n",
    "            rewards_queue.put(reward_total)\n",
    "#         End Rollouts\n",
    "        \n",
    "#         Prepare Data\n",
    "        _calculate_returns(rollouts, gamma) # modifies rollouts inplace\n",
    "        avg_reward = sum(rewards_per_rollout) / len(rewards_per_rollout)\n",
    "        \n",
    "        \n",
    "        experience_dataset = PolicyDataset(rollouts)\n",
    "        data_loader = DataLoader(experience_dataset, batch_size=batch_size, shuffle=True, pin_memory=False)\n",
    "        # End Prepare Data\n",
    "        \n",
    "        # Train\n",
    "        for _ in range(policy_epochs):\n",
    "            avg_value_loss = 0\n",
    "            avg_policy_loss = 0\n",
    "            for state, action_dist, action, reward, ret in data_loader:\n",
    "                # state is an (n_timesteps,4) tensor; action/reward/ret are all (n_timestaps,) tensors\n",
    "                optimizer.zero_grad()\n",
    "                \n",
    "                # Convert float64 to float32, detach tensors\n",
    "                state = _prepare_tensor_batch(state, device)\n",
    "                action_dist = _prepare_tensor_batch(action_dist, device)\n",
    "                action = _prepare_tensor_batch(action, device).long()\n",
    "                reward = _prepare_tensor_batch(reward, device)\n",
    "                ret = _prepare_tensor_batch(ret, device).unsqueeze(1)\n",
    "#                 adv = _prepare_tensor_batch(adv, device)\n",
    "\n",
    "                if embedding:\n",
    "                    state = embedding(state)\n",
    "                \n",
    "                # Calculate the ratio term (this was the weeklong trip-up; faulty fancy indexing)\n",
    "                current_action_dist = policy(state, get_action=False)\n",
    "                current_likelihood = likelihood_fn(current_action_dist, action)\n",
    "                old_likelihood = likelihood_fn(action_dist, action)\n",
    "                ratio = (current_likelihood / old_likelihood)\n",
    "                \n",
    "                # Value Loss\n",
    "                expected_returns = value(state)\n",
    "                value_loss = value_criteria(expected_returns, ret)\n",
    "        \n",
    "                # Proximal Policy Optimization\n",
    "                advantage = ret - expected_returns.detach()\n",
    "                lhs = ratio * advantage\n",
    "                rhs = torch.clamp(ratio, 1-epsilon_ppo, 1+epsilon_ppo) * advantage\n",
    "                policy_loss = -1*torch.mean(torch.min(lhs, rhs))\n",
    "        \n",
    "                # Policy gradient (for comparison)\n",
    "#                 likelihood = likelihood_fn(current_action_dist, action)\n",
    "#                 policy_loss = -1*torch.mean(torch.log(likelihood)*advantage)\n",
    "                \n",
    "                # Logging\n",
    "                avg_value_loss += value_loss.item()\n",
    "                avg_policy_loss += policy_loss.item()\n",
    "                \n",
    "                # Backpropagate\n",
    "                loss = policy_loss + value_loss\n",
    "                loss.backward()\n",
    "                optimizer.step()\n",
    "              \n",
    "            avg_value_loss /= len(data_loader)\n",
    "            avg_policy_loss /= len(data_loader)\n",
    "         \n",
    "        ratio_print = ratio.mean().item()\n",
    "        adv_print = advantage.mean().item()\n",
    "        ret_print = ret[0].item()\n",
    "        exp_ret_print = expected_returns.mean().item()\n",
    "        # debugging print-statements\n",
    "        if False:\n",
    "            print(\n",
    "                \"avg reward: {:.3f}, value loss: {:.3f}, policy loss: {:.3f}, ratio: {:.3f}, adv: {:.3f}\".format(\n",
    "                avg_reward, avg_value_loss, avg_policy_loss, ratio_print, adv_print)\n",
    "            )\n",
    "        loop.set_description(\n",
    "            \"avg reward: {:.3f}, value loss: {:.3f}, policy loss: {:.3f}\".format(\n",
    "            avg_reward, avg_value_loss, avg_policy_loss))\n",
    "        loop.update(1)\n",
    "        print()\n",
    "\n",
    "# # CartPole environment\n",
    "# env = gym.make('CartPole-v0')\n",
    "# n_state_size = 4\n",
    "# n_action_size = 2 \n",
    "# max_episode_length = 200\n",
    "\n",
    "# # MountainCar environment\n",
    "# env = gym.make('MountainCar-v0') # state is (position, velocity);\n",
    "# # action is 0-push left, 1-no push, 2-push right\n",
    "# n_state_size = 2\n",
    "# n_action_size = 3\n",
    "\n",
    "# SpaceInvaders-RAM environment\n",
    "# env = gym.make('SpaceInvaders-ram-v0')\n",
    "# n_state_size = 128\n",
    "# n_embedding_size = 32\n",
    "# n_action_size = 6\n",
    "# max_episode_length = 500\n",
    "\n",
    "# n_epochs = 100\n",
    "# n_episodes = 100\n",
    "# device = 'cpu'\n",
    "# embedding = EmbeddingNetwork(n_state_size, n_embedding_size).to(device)\n",
    "# policy = PolicyNetwork(n_embedding_size, n_action_size).to(device)\n",
    "# value = ValueNetwork(n_embedding_size).to(device)\n",
    "# reward_queue_spaceinvaders = Queue()\n",
    "# main(env, embedding, policy, value, device, reward_queue_spaceinvaders, n_epochs, n_episodes, max_episode_length)\n",
    "# print(\"done\")"
   ]
  },
  {
   "cell_type": "markdown",
   "metadata": {},
   "source": [
    "## Space Invaders RAM"
   ]
  },
  {
   "cell_type": "code",
   "execution_count": 51,
   "metadata": {
    "scrolled": false
   },
   "outputs": [
    {
     "name": "stderr",
     "output_type": "stream",
     "text": [
      "avg reward: 105.450, value loss: 297.795, policy loss: 0.074:   1%|          | 1/100 [00:34<57:05, 34.60s/it]"
     ]
    },
    {
     "name": "stdout",
     "output_type": "stream",
     "text": [
      "\n"
     ]
    },
    {
     "name": "stderr",
     "output_type": "stream",
     "text": [
      "avg reward: 95.700, value loss: 165.615, policy loss: -0.008:   2%|▏         | 2/100 [01:09<56:50, 34.81s/it]"
     ]
    },
    {
     "name": "stdout",
     "output_type": "stream",
     "text": [
      "\n"
     ]
    },
    {
     "name": "stderr",
     "output_type": "stream",
     "text": [
      "avg reward: 95.100, value loss: 154.692, policy loss: -0.011:   3%|▎         | 3/100 [01:46<56:56, 35.23s/it]"
     ]
    },
    {
     "name": "stdout",
     "output_type": "stream",
     "text": [
      "\n"
     ]
    },
    {
     "name": "stderr",
     "output_type": "stream",
     "text": [
      "avg reward: 93.900, value loss: 186.209, policy loss: -0.017:   4%|▍         | 4/100 [02:22<57:00, 35.63s/it]"
     ]
    },
    {
     "name": "stdout",
     "output_type": "stream",
     "text": [
      "\n"
     ]
    },
    {
     "name": "stderr",
     "output_type": "stream",
     "text": [
      "avg reward: 99.100, value loss: 263.351, policy loss: -0.030:   5%|▌         | 5/100 [02:58<56:29, 35.68s/it]"
     ]
    },
    {
     "name": "stdout",
     "output_type": "stream",
     "text": [
      "\n"
     ]
    },
    {
     "name": "stderr",
     "output_type": "stream",
     "text": [
      "avg reward: 95.900, value loss: 180.750, policy loss: -0.018:   6%|▌         | 6/100 [03:35<56:41, 36.19s/it]"
     ]
    },
    {
     "name": "stdout",
     "output_type": "stream",
     "text": [
      "\n"
     ]
    },
    {
     "name": "stderr",
     "output_type": "stream",
     "text": [
      "avg reward: 100.000, value loss: 136.174, policy loss: 0.005:   7%|▋         | 7/100 [04:11<55:52, 36.05s/it]"
     ]
    },
    {
     "name": "stdout",
     "output_type": "stream",
     "text": [
      "\n"
     ]
    },
    {
     "name": "stderr",
     "output_type": "stream",
     "text": [
      "avg reward: 105.250, value loss: 133.479, policy loss: 0.005:   8%|▊         | 8/100 [04:47<55:24, 36.14s/it]"
     ]
    },
    {
     "name": "stdout",
     "output_type": "stream",
     "text": [
      "\n"
     ]
    },
    {
     "name": "stderr",
     "output_type": "stream",
     "text": [
      "avg reward: 112.350, value loss: 187.746, policy loss: -0.038:   9%|▉         | 9/100 [05:24<54:48, 36.14s/it]"
     ]
    },
    {
     "name": "stdout",
     "output_type": "stream",
     "text": [
      "\n"
     ]
    },
    {
     "name": "stderr",
     "output_type": "stream",
     "text": [
      "avg reward: 108.150, value loss: 225.638, policy loss: -0.057:  10%|█         | 10/100 [06:00<54:20, 36.22s/it]"
     ]
    },
    {
     "name": "stdout",
     "output_type": "stream",
     "text": [
      "\n"
     ]
    },
    {
     "name": "stderr",
     "output_type": "stream",
     "text": [
      "avg reward: 116.250, value loss: 146.332, policy loss: -0.033:  11%|█         | 11/100 [06:36<53:45, 36.25s/it]"
     ]
    },
    {
     "name": "stdout",
     "output_type": "stream",
     "text": [
      "\n"
     ]
    },
    {
     "name": "stderr",
     "output_type": "stream",
     "text": [
      "avg reward: 132.250, value loss: 130.942, policy loss: 0.051:  12%|█▏        | 12/100 [07:13<53:19, 36.36s/it] "
     ]
    },
    {
     "name": "stdout",
     "output_type": "stream",
     "text": [
      "\n"
     ]
    },
    {
     "name": "stderr",
     "output_type": "stream",
     "text": [
      "avg reward: 136.000, value loss: 139.713, policy loss: -0.017:  13%|█▎        | 13/100 [07:50<52:55, 36.50s/it]"
     ]
    },
    {
     "name": "stdout",
     "output_type": "stream",
     "text": [
      "\n"
     ]
    },
    {
     "name": "stderr",
     "output_type": "stream",
     "text": [
      "avg reward: 129.250, value loss: 149.702, policy loss: 0.041:  14%|█▍        | 14/100 [08:28<53:07, 37.07s/it] "
     ]
    },
    {
     "name": "stdout",
     "output_type": "stream",
     "text": [
      "\n"
     ]
    },
    {
     "name": "stderr",
     "output_type": "stream",
     "text": [
      "avg reward: 136.600, value loss: 125.347, policy loss: 0.063:  15%|█▌        | 15/100 [09:05<52:30, 37.06s/it]"
     ]
    },
    {
     "name": "stdout",
     "output_type": "stream",
     "text": [
      "\n"
     ]
    },
    {
     "name": "stderr",
     "output_type": "stream",
     "text": [
      "avg reward: 139.200, value loss: 120.990, policy loss: -0.013:  16%|█▌        | 16/100 [09:42<51:40, 36.92s/it]"
     ]
    },
    {
     "name": "stdout",
     "output_type": "stream",
     "text": [
      "\n"
     ]
    },
    {
     "name": "stderr",
     "output_type": "stream",
     "text": [
      "avg reward: 136.400, value loss: 130.942, policy loss: -0.001:  17%|█▋        | 17/100 [10:18<50:59, 36.86s/it]"
     ]
    },
    {
     "name": "stdout",
     "output_type": "stream",
     "text": [
      "\n"
     ]
    },
    {
     "name": "stderr",
     "output_type": "stream",
     "text": [
      "avg reward: 143.750, value loss: 130.711, policy loss: 0.013:  18%|█▊        | 18/100 [10:55<50:05, 36.65s/it] "
     ]
    },
    {
     "name": "stdout",
     "output_type": "stream",
     "text": [
      "\n"
     ]
    },
    {
     "name": "stderr",
     "output_type": "stream",
     "text": [
      "avg reward: 147.700, value loss: 136.924, policy loss: -0.016:  19%|█▉        | 19/100 [11:31<49:24, 36.60s/it]"
     ]
    },
    {
     "name": "stdout",
     "output_type": "stream",
     "text": [
      "\n"
     ]
    },
    {
     "name": "stderr",
     "output_type": "stream",
     "text": [
      "avg reward: 151.950, value loss: 125.609, policy loss: 0.083:  20%|██        | 20/100 [12:08<49:00, 36.76s/it] "
     ]
    },
    {
     "name": "stdout",
     "output_type": "stream",
     "text": [
      "\n"
     ]
    },
    {
     "name": "stderr",
     "output_type": "stream",
     "text": [
      "avg reward: 144.250, value loss: 125.785, policy loss: 0.033:  21%|██        | 21/100 [12:45<48:28, 36.82s/it]"
     ]
    },
    {
     "name": "stdout",
     "output_type": "stream",
     "text": [
      "\n"
     ]
    },
    {
     "name": "stderr",
     "output_type": "stream",
     "text": [
      "avg reward: 153.000, value loss: 127.639, policy loss: 0.035:  22%|██▏       | 22/100 [13:24<48:27, 37.27s/it]"
     ]
    },
    {
     "name": "stdout",
     "output_type": "stream",
     "text": [
      "\n"
     ]
    },
    {
     "name": "stderr",
     "output_type": "stream",
     "text": [
      "avg reward: 142.550, value loss: 117.709, policy loss: 0.025:  23%|██▎       | 23/100 [14:01<47:52, 37.30s/it]"
     ]
    },
    {
     "name": "stdout",
     "output_type": "stream",
     "text": [
      "\n"
     ]
    },
    {
     "name": "stderr",
     "output_type": "stream",
     "text": [
      "avg reward: 146.100, value loss: 127.041, policy loss: -0.036:  24%|██▍       | 24/100 [14:38<46:59, 37.09s/it]"
     ]
    },
    {
     "name": "stdout",
     "output_type": "stream",
     "text": [
      "\n"
     ]
    },
    {
     "name": "stderr",
     "output_type": "stream",
     "text": [
      "avg reward: 148.800, value loss: 127.069, policy loss: 0.016:  25%|██▌       | 25/100 [15:14<46:15, 37.01s/it] "
     ]
    },
    {
     "name": "stdout",
     "output_type": "stream",
     "text": [
      "\n"
     ]
    },
    {
     "name": "stderr",
     "output_type": "stream",
     "text": [
      "avg reward: 165.300, value loss: 113.383, policy loss: 0.000:  26%|██▌       | 26/100 [15:51<45:34, 36.95s/it]"
     ]
    },
    {
     "name": "stdout",
     "output_type": "stream",
     "text": [
      "\n"
     ]
    },
    {
     "name": "stderr",
     "output_type": "stream",
     "text": [
      "avg reward: 157.100, value loss: 124.092, policy loss: 0.008:  27%|██▋       | 27/100 [16:28<44:52, 36.89s/it]"
     ]
    },
    {
     "name": "stdout",
     "output_type": "stream",
     "text": [
      "\n"
     ]
    },
    {
     "name": "stderr",
     "output_type": "stream",
     "text": [
      "avg reward: 153.650, value loss: 112.905, policy loss: 0.025:  28%|██▊       | 28/100 [17:05<44:14, 36.87s/it]"
     ]
    },
    {
     "name": "stdout",
     "output_type": "stream",
     "text": [
      "\n"
     ]
    },
    {
     "name": "stderr",
     "output_type": "stream",
     "text": [
      "avg reward: 149.050, value loss: 100.983, policy loss: -0.007:  29%|██▉       | 29/100 [17:41<43:30, 36.77s/it]"
     ]
    },
    {
     "name": "stdout",
     "output_type": "stream",
     "text": [
      "\n"
     ]
    },
    {
     "name": "stderr",
     "output_type": "stream",
     "text": [
      "avg reward: 163.200, value loss: 97.854, policy loss: 0.020:  30%|███       | 30/100 [18:19<43:20, 37.16s/it]  "
     ]
    },
    {
     "name": "stdout",
     "output_type": "stream",
     "text": [
      "\n"
     ]
    },
    {
     "ename": "KeyboardInterrupt",
     "evalue": "",
     "output_type": "error",
     "traceback": [
      "\u001b[0;31m---------------------------------------------------------------------------\u001b[0m",
      "\u001b[0;31mKeyboardInterrupt\u001b[0m                         Traceback (most recent call last)",
      "\u001b[0;32m<ipython-input-51-cf93e5d437ff>\u001b[0m in \u001b[0;36m<module>\u001b[0;34m()\u001b[0m\n\u001b[1;32m     12\u001b[0m \u001b[0mvalue\u001b[0m \u001b[0;34m=\u001b[0m \u001b[0mValueNetwork\u001b[0m\u001b[0;34m(\u001b[0m\u001b[0mn_embedding_size\u001b[0m\u001b[0;34m)\u001b[0m\u001b[0;34m.\u001b[0m\u001b[0mto\u001b[0m\u001b[0;34m(\u001b[0m\u001b[0mdevice\u001b[0m\u001b[0;34m)\u001b[0m\u001b[0;34m\u001b[0m\u001b[0m\n\u001b[1;32m     13\u001b[0m \u001b[0mreward_queue_spaceinvaders\u001b[0m \u001b[0;34m=\u001b[0m \u001b[0mQueue\u001b[0m\u001b[0;34m(\u001b[0m\u001b[0;34m)\u001b[0m\u001b[0;34m\u001b[0m\u001b[0m\n\u001b[0;32m---> 14\u001b[0;31m \u001b[0mmain\u001b[0m\u001b[0;34m(\u001b[0m\u001b[0menv\u001b[0m\u001b[0;34m,\u001b[0m \u001b[0membedding\u001b[0m\u001b[0;34m,\u001b[0m \u001b[0mpolicy\u001b[0m\u001b[0;34m,\u001b[0m \u001b[0mvalue\u001b[0m\u001b[0;34m,\u001b[0m \u001b[0mdevice\u001b[0m\u001b[0;34m,\u001b[0m \u001b[0mreward_queue_spaceinvaders\u001b[0m\u001b[0;34m,\u001b[0m \u001b[0mn_epochs\u001b[0m\u001b[0;34m,\u001b[0m \u001b[0mn_episodes\u001b[0m\u001b[0;34m,\u001b[0m \u001b[0mmax_episode_length\u001b[0m\u001b[0;34m)\u001b[0m\u001b[0;34m\u001b[0m\u001b[0m\n\u001b[0m\u001b[1;32m     15\u001b[0m \u001b[0mprint\u001b[0m\u001b[0;34m(\u001b[0m\u001b[0;34m\"done\"\u001b[0m\u001b[0;34m)\u001b[0m\u001b[0;34m\u001b[0m\u001b[0m\n",
      "\u001b[0;32m<ipython-input-44-c7aa7eb79862>\u001b[0m in \u001b[0;36mmain\u001b[0;34m(env, embedding, policy, value, device, rewards_queue, n_epochs, n_episodes, max_episode_length)\u001b[0m\n\u001b[1;32m     79\u001b[0m                 \u001b[0;32mif\u001b[0m \u001b[0membedding\u001b[0m\u001b[0;34m:\u001b[0m\u001b[0;34m\u001b[0m\u001b[0m\n\u001b[1;32m     80\u001b[0m                     \u001b[0minput_state\u001b[0m \u001b[0;34m=\u001b[0m \u001b[0membedding\u001b[0m\u001b[0;34m(\u001b[0m\u001b[0minput_state\u001b[0m\u001b[0;34m)\u001b[0m\u001b[0;34m\u001b[0m\u001b[0m\n\u001b[0;32m---> 81\u001b[0;31m                 \u001b[0maction_dist\u001b[0m\u001b[0;34m,\u001b[0m \u001b[0maction\u001b[0m \u001b[0;34m=\u001b[0m \u001b[0mpolicy\u001b[0m\u001b[0;34m(\u001b[0m\u001b[0minput_state\u001b[0m\u001b[0;34m)\u001b[0m\u001b[0;34m\u001b[0m\u001b[0m\n\u001b[0m\u001b[1;32m     82\u001b[0m                 \u001b[0maction_dist\u001b[0m\u001b[0;34m,\u001b[0m \u001b[0maction\u001b[0m \u001b[0;34m=\u001b[0m \u001b[0maction_dist\u001b[0m\u001b[0;34m[\u001b[0m\u001b[0;36m0\u001b[0m\u001b[0;34m]\u001b[0m\u001b[0;34m,\u001b[0m \u001b[0maction\u001b[0m\u001b[0;34m[\u001b[0m\u001b[0;36m0\u001b[0m\u001b[0;34m]\u001b[0m\u001b[0;34m\u001b[0m\u001b[0m\n\u001b[1;32m     83\u001b[0m \u001b[0;34m\u001b[0m\u001b[0m\n",
      "\u001b[0;32m/usr/local/lib/python3.6/dist-packages/torch/nn/modules/module.py\u001b[0m in \u001b[0;36m__call__\u001b[0;34m(self, *input, **kwargs)\u001b[0m\n\u001b[1;32m    489\u001b[0m             \u001b[0mresult\u001b[0m \u001b[0;34m=\u001b[0m \u001b[0mself\u001b[0m\u001b[0;34m.\u001b[0m\u001b[0m_slow_forward\u001b[0m\u001b[0;34m(\u001b[0m\u001b[0;34m*\u001b[0m\u001b[0minput\u001b[0m\u001b[0;34m,\u001b[0m \u001b[0;34m**\u001b[0m\u001b[0mkwargs\u001b[0m\u001b[0;34m)\u001b[0m\u001b[0;34m\u001b[0m\u001b[0m\n\u001b[1;32m    490\u001b[0m         \u001b[0;32melse\u001b[0m\u001b[0;34m:\u001b[0m\u001b[0;34m\u001b[0m\u001b[0m\n\u001b[0;32m--> 491\u001b[0;31m             \u001b[0mresult\u001b[0m \u001b[0;34m=\u001b[0m \u001b[0mself\u001b[0m\u001b[0;34m.\u001b[0m\u001b[0mforward\u001b[0m\u001b[0;34m(\u001b[0m\u001b[0;34m*\u001b[0m\u001b[0minput\u001b[0m\u001b[0;34m,\u001b[0m \u001b[0;34m**\u001b[0m\u001b[0mkwargs\u001b[0m\u001b[0;34m)\u001b[0m\u001b[0;34m\u001b[0m\u001b[0m\n\u001b[0m\u001b[1;32m    492\u001b[0m         \u001b[0;32mfor\u001b[0m \u001b[0mhook\u001b[0m \u001b[0;32min\u001b[0m \u001b[0mself\u001b[0m\u001b[0;34m.\u001b[0m\u001b[0m_forward_hooks\u001b[0m\u001b[0;34m.\u001b[0m\u001b[0mvalues\u001b[0m\u001b[0;34m(\u001b[0m\u001b[0;34m)\u001b[0m\u001b[0;34m:\u001b[0m\u001b[0;34m\u001b[0m\u001b[0m\n\u001b[1;32m    493\u001b[0m             \u001b[0mhook_result\u001b[0m \u001b[0;34m=\u001b[0m \u001b[0mhook\u001b[0m\u001b[0;34m(\u001b[0m\u001b[0mself\u001b[0m\u001b[0;34m,\u001b[0m \u001b[0minput\u001b[0m\u001b[0;34m,\u001b[0m \u001b[0mresult\u001b[0m\u001b[0;34m)\u001b[0m\u001b[0;34m\u001b[0m\u001b[0m\n",
      "\u001b[0;32m<ipython-input-25-2933031cd219>\u001b[0m in \u001b[0;36mforward\u001b[0;34m(self, x, get_action)\u001b[0m\n\u001b[1;32m     21\u001b[0m         \u001b[0;32mas\u001b[0m \u001b[0mwell\u001b[0m \u001b[0;32mas\u001b[0m \u001b[0ma\u001b[0m \u001b[0msampled\u001b[0m \u001b[0maction\u001b[0m \u001b[0;34m(\u001b[0m\u001b[0moptional\u001b[0m\u001b[0;34m)\u001b[0m\u001b[0;34m.\u001b[0m\u001b[0;34m\u001b[0m\u001b[0m\n\u001b[1;32m     22\u001b[0m         \"\"\"\n\u001b[0;32m---> 23\u001b[0;31m         \u001b[0mprobs\u001b[0m \u001b[0;34m=\u001b[0m \u001b[0mself\u001b[0m\u001b[0;34m.\u001b[0m\u001b[0m_net\u001b[0m\u001b[0;34m(\u001b[0m\u001b[0mx\u001b[0m\u001b[0;34m)\u001b[0m\u001b[0;34m\u001b[0m\u001b[0m\n\u001b[0m\u001b[1;32m     24\u001b[0m \u001b[0;34m\u001b[0m\u001b[0m\n\u001b[1;32m     25\u001b[0m         \u001b[0;32mif\u001b[0m \u001b[0;32mnot\u001b[0m \u001b[0mget_action\u001b[0m\u001b[0;34m:\u001b[0m\u001b[0;34m\u001b[0m\u001b[0m\n",
      "\u001b[0;32m/usr/local/lib/python3.6/dist-packages/torch/nn/modules/module.py\u001b[0m in \u001b[0;36m__call__\u001b[0;34m(self, *input, **kwargs)\u001b[0m\n\u001b[1;32m    489\u001b[0m             \u001b[0mresult\u001b[0m \u001b[0;34m=\u001b[0m \u001b[0mself\u001b[0m\u001b[0;34m.\u001b[0m\u001b[0m_slow_forward\u001b[0m\u001b[0;34m(\u001b[0m\u001b[0;34m*\u001b[0m\u001b[0minput\u001b[0m\u001b[0;34m,\u001b[0m \u001b[0;34m**\u001b[0m\u001b[0mkwargs\u001b[0m\u001b[0;34m)\u001b[0m\u001b[0;34m\u001b[0m\u001b[0m\n\u001b[1;32m    490\u001b[0m         \u001b[0;32melse\u001b[0m\u001b[0;34m:\u001b[0m\u001b[0;34m\u001b[0m\u001b[0m\n\u001b[0;32m--> 491\u001b[0;31m             \u001b[0mresult\u001b[0m \u001b[0;34m=\u001b[0m \u001b[0mself\u001b[0m\u001b[0;34m.\u001b[0m\u001b[0mforward\u001b[0m\u001b[0;34m(\u001b[0m\u001b[0;34m*\u001b[0m\u001b[0minput\u001b[0m\u001b[0;34m,\u001b[0m \u001b[0;34m**\u001b[0m\u001b[0mkwargs\u001b[0m\u001b[0;34m)\u001b[0m\u001b[0;34m\u001b[0m\u001b[0m\n\u001b[0m\u001b[1;32m    492\u001b[0m         \u001b[0;32mfor\u001b[0m \u001b[0mhook\u001b[0m \u001b[0;32min\u001b[0m \u001b[0mself\u001b[0m\u001b[0;34m.\u001b[0m\u001b[0m_forward_hooks\u001b[0m\u001b[0;34m.\u001b[0m\u001b[0mvalues\u001b[0m\u001b[0;34m(\u001b[0m\u001b[0;34m)\u001b[0m\u001b[0;34m:\u001b[0m\u001b[0;34m\u001b[0m\u001b[0m\n\u001b[1;32m    493\u001b[0m             \u001b[0mhook_result\u001b[0m \u001b[0;34m=\u001b[0m \u001b[0mhook\u001b[0m\u001b[0;34m(\u001b[0m\u001b[0mself\u001b[0m\u001b[0;34m,\u001b[0m \u001b[0minput\u001b[0m\u001b[0;34m,\u001b[0m \u001b[0mresult\u001b[0m\u001b[0;34m)\u001b[0m\u001b[0;34m\u001b[0m\u001b[0m\n",
      "\u001b[0;32m/usr/local/lib/python3.6/dist-packages/torch/nn/modules/container.py\u001b[0m in \u001b[0;36mforward\u001b[0;34m(self, input)\u001b[0m\n\u001b[1;32m     89\u001b[0m     \u001b[0;32mdef\u001b[0m \u001b[0mforward\u001b[0m\u001b[0;34m(\u001b[0m\u001b[0mself\u001b[0m\u001b[0;34m,\u001b[0m \u001b[0minput\u001b[0m\u001b[0;34m)\u001b[0m\u001b[0;34m:\u001b[0m\u001b[0;34m\u001b[0m\u001b[0m\n\u001b[1;32m     90\u001b[0m         \u001b[0;32mfor\u001b[0m \u001b[0mmodule\u001b[0m \u001b[0;32min\u001b[0m \u001b[0mself\u001b[0m\u001b[0;34m.\u001b[0m\u001b[0m_modules\u001b[0m\u001b[0;34m.\u001b[0m\u001b[0mvalues\u001b[0m\u001b[0;34m(\u001b[0m\u001b[0;34m)\u001b[0m\u001b[0;34m:\u001b[0m\u001b[0;34m\u001b[0m\u001b[0m\n\u001b[0;32m---> 91\u001b[0;31m             \u001b[0minput\u001b[0m \u001b[0;34m=\u001b[0m \u001b[0mmodule\u001b[0m\u001b[0;34m(\u001b[0m\u001b[0minput\u001b[0m\u001b[0;34m)\u001b[0m\u001b[0;34m\u001b[0m\u001b[0m\n\u001b[0m\u001b[1;32m     92\u001b[0m         \u001b[0;32mreturn\u001b[0m \u001b[0minput\u001b[0m\u001b[0;34m\u001b[0m\u001b[0m\n\u001b[1;32m     93\u001b[0m \u001b[0;34m\u001b[0m\u001b[0m\n",
      "\u001b[0;32m/usr/local/lib/python3.6/dist-packages/torch/nn/modules/module.py\u001b[0m in \u001b[0;36m__call__\u001b[0;34m(self, *input, **kwargs)\u001b[0m\n\u001b[1;32m    489\u001b[0m             \u001b[0mresult\u001b[0m \u001b[0;34m=\u001b[0m \u001b[0mself\u001b[0m\u001b[0;34m.\u001b[0m\u001b[0m_slow_forward\u001b[0m\u001b[0;34m(\u001b[0m\u001b[0;34m*\u001b[0m\u001b[0minput\u001b[0m\u001b[0;34m,\u001b[0m \u001b[0;34m**\u001b[0m\u001b[0mkwargs\u001b[0m\u001b[0;34m)\u001b[0m\u001b[0;34m\u001b[0m\u001b[0m\n\u001b[1;32m    490\u001b[0m         \u001b[0;32melse\u001b[0m\u001b[0;34m:\u001b[0m\u001b[0;34m\u001b[0m\u001b[0m\n\u001b[0;32m--> 491\u001b[0;31m             \u001b[0mresult\u001b[0m \u001b[0;34m=\u001b[0m \u001b[0mself\u001b[0m\u001b[0;34m.\u001b[0m\u001b[0mforward\u001b[0m\u001b[0;34m(\u001b[0m\u001b[0;34m*\u001b[0m\u001b[0minput\u001b[0m\u001b[0;34m,\u001b[0m \u001b[0;34m**\u001b[0m\u001b[0mkwargs\u001b[0m\u001b[0;34m)\u001b[0m\u001b[0;34m\u001b[0m\u001b[0m\n\u001b[0m\u001b[1;32m    492\u001b[0m         \u001b[0;32mfor\u001b[0m \u001b[0mhook\u001b[0m \u001b[0;32min\u001b[0m \u001b[0mself\u001b[0m\u001b[0;34m.\u001b[0m\u001b[0m_forward_hooks\u001b[0m\u001b[0;34m.\u001b[0m\u001b[0mvalues\u001b[0m\u001b[0;34m(\u001b[0m\u001b[0;34m)\u001b[0m\u001b[0;34m:\u001b[0m\u001b[0;34m\u001b[0m\u001b[0m\n\u001b[1;32m    493\u001b[0m             \u001b[0mhook_result\u001b[0m \u001b[0;34m=\u001b[0m \u001b[0mhook\u001b[0m\u001b[0;34m(\u001b[0m\u001b[0mself\u001b[0m\u001b[0;34m,\u001b[0m \u001b[0minput\u001b[0m\u001b[0;34m,\u001b[0m \u001b[0mresult\u001b[0m\u001b[0;34m)\u001b[0m\u001b[0;34m\u001b[0m\u001b[0m\n",
      "\u001b[0;32m/usr/local/lib/python3.6/dist-packages/torch/nn/modules/linear.py\u001b[0m in \u001b[0;36mforward\u001b[0;34m(self, input)\u001b[0m\n\u001b[1;32m     53\u001b[0m \u001b[0;34m\u001b[0m\u001b[0m\n\u001b[1;32m     54\u001b[0m     \u001b[0;32mdef\u001b[0m \u001b[0mforward\u001b[0m\u001b[0;34m(\u001b[0m\u001b[0mself\u001b[0m\u001b[0;34m,\u001b[0m \u001b[0minput\u001b[0m\u001b[0;34m)\u001b[0m\u001b[0;34m:\u001b[0m\u001b[0;34m\u001b[0m\u001b[0m\n\u001b[0;32m---> 55\u001b[0;31m         \u001b[0;32mreturn\u001b[0m \u001b[0mF\u001b[0m\u001b[0;34m.\u001b[0m\u001b[0mlinear\u001b[0m\u001b[0;34m(\u001b[0m\u001b[0minput\u001b[0m\u001b[0;34m,\u001b[0m \u001b[0mself\u001b[0m\u001b[0;34m.\u001b[0m\u001b[0mweight\u001b[0m\u001b[0;34m,\u001b[0m \u001b[0mself\u001b[0m\u001b[0;34m.\u001b[0m\u001b[0mbias\u001b[0m\u001b[0;34m)\u001b[0m\u001b[0;34m\u001b[0m\u001b[0m\n\u001b[0m\u001b[1;32m     56\u001b[0m \u001b[0;34m\u001b[0m\u001b[0m\n\u001b[1;32m     57\u001b[0m     \u001b[0;32mdef\u001b[0m \u001b[0mextra_repr\u001b[0m\u001b[0;34m(\u001b[0m\u001b[0mself\u001b[0m\u001b[0;34m)\u001b[0m\u001b[0;34m:\u001b[0m\u001b[0;34m\u001b[0m\u001b[0m\n",
      "\u001b[0;32m/usr/local/lib/python3.6/dist-packages/torch/nn/modules/module.py\u001b[0m in \u001b[0;36m__getattr__\u001b[0;34m(self, name)\u001b[0m\n\u001b[1;32m    518\u001b[0m     \u001b[0;32mdef\u001b[0m \u001b[0m__getattr__\u001b[0m\u001b[0;34m(\u001b[0m\u001b[0mself\u001b[0m\u001b[0;34m,\u001b[0m \u001b[0mname\u001b[0m\u001b[0;34m)\u001b[0m\u001b[0;34m:\u001b[0m\u001b[0;34m\u001b[0m\u001b[0m\n\u001b[1;32m    519\u001b[0m         \u001b[0;32mif\u001b[0m \u001b[0;34m'_parameters'\u001b[0m \u001b[0;32min\u001b[0m \u001b[0mself\u001b[0m\u001b[0;34m.\u001b[0m\u001b[0m__dict__\u001b[0m\u001b[0;34m:\u001b[0m\u001b[0;34m\u001b[0m\u001b[0m\n\u001b[0;32m--> 520\u001b[0;31m             \u001b[0m_parameters\u001b[0m \u001b[0;34m=\u001b[0m \u001b[0mself\u001b[0m\u001b[0;34m.\u001b[0m\u001b[0m__dict__\u001b[0m\u001b[0;34m[\u001b[0m\u001b[0;34m'_parameters'\u001b[0m\u001b[0;34m]\u001b[0m\u001b[0;34m\u001b[0m\u001b[0m\n\u001b[0m\u001b[1;32m    521\u001b[0m             \u001b[0;32mif\u001b[0m \u001b[0mname\u001b[0m \u001b[0;32min\u001b[0m \u001b[0m_parameters\u001b[0m\u001b[0;34m:\u001b[0m\u001b[0;34m\u001b[0m\u001b[0m\n\u001b[1;32m    522\u001b[0m                 \u001b[0;32mreturn\u001b[0m \u001b[0m_parameters\u001b[0m\u001b[0;34m[\u001b[0m\u001b[0mname\u001b[0m\u001b[0;34m]\u001b[0m\u001b[0;34m\u001b[0m\u001b[0m\n",
      "\u001b[0;31mKeyboardInterrupt\u001b[0m: "
     ]
    }
   ],
   "source": [
    "env = gym.make('SpaceInvaders-ram-v0')\n",
    "n_state_size = 128\n",
    "n_embedding_size = 16\n",
    "n_action_size = 6\n",
    "max_episode_length = 500\n",
    "\n",
    "n_epochs = 100\n",
    "n_episodes = 100\n",
    "device = 'cpu'\n",
    "embedding = EmbeddingNetwork(n_state_size, n_embedding_size).to(device)\n",
    "policy = PolicyNetwork(n_embedding_size, n_action_size).to(device)\n",
    "value = ValueNetwork(n_embedding_size).to(device)\n",
    "reward_queue_spaceinvaders = Queue()\n",
    "main(env, embedding, policy, value, device, reward_queue_spaceinvaders, n_epochs, n_episodes, max_episode_length)\n",
    "print(\"done\")"
   ]
  },
  {
   "cell_type": "code",
   "execution_count": 57,
   "metadata": {},
   "outputs": [],
   "source": [
    "# env = gym.make('SpaceInvaders-ram-v0')\n",
    "# env.reset()\n",
    "# action = env.action_space.sample()\n",
    "# state, reward, done, _ = env.step(action)\n",
    "# print(\"state: {}\".format(state))\n",
    "# print(\"action: {}\".format(action))\n",
    "# print(\"reward: {}\".format(reward))\n",
    "# state.shape"
   ]
  },
  {
   "cell_type": "markdown",
   "metadata": {},
   "source": [
    "## CartPole"
   ]
  },
  {
   "cell_type": "code",
   "execution_count": 55,
   "metadata": {},
   "outputs": [
    {
     "data": {
      "image/png": "[encoded data removed]",
      "text/plain": [
       "<Figure size 432x288 with 1 Axes>"
      ]
     },
     "metadata": {},
     "output_type": "display_data"
    },
    {
     "name": "stdout",
     "output_type": "stream",
     "text": [
      "Capped with max_episode_length of 500\n"
     ]
    }
   ],
   "source": [
    "def moving_average(a, n=3) :\n",
    "    ret = np.cumsum(a, dtype=float)\n",
    "    ret[n:] = ret[n:] - ret[:-n]\n",
    "    return ret[n - 1:] / n\n",
    "\n",
    "\n",
    "rewards = list(reward_queue_spaceinvaders.queue)\n",
    "t = list(range(len(rewards)))\n",
    "# avg_rewards = [\n",
    "#     np.mean(rewards[i*n_episodes:(i+1)*n_episodes])\n",
    "#     for i in range(n_epochs)\n",
    "# ]\n",
    "# t_epochs = [ n_episodes*i for i in range(n_epochs) ]\n",
    "avg_rewards = moving_average(rewards, n=100)\n",
    "t_epochs = list(range(len(avg_rewards)))\n",
    "plt.plot(t, rewards, label=\"Episodic\")\n",
    "plt.plot(t_epochs, avg_rewards, label=\"Moving Average ($n=100$)\")\n",
    "plt.legend()\n",
    "plt.title(\"Rewards on SpaceInvaders-RAM\")\n",
    "plt.xlabel(\"Episodes\")\n",
    "plt.ylabel(\"Score\")\n",
    "plt.ylim([0, 200])\n",
    "plt.show()\n",
    "print(\"Capped with max_episode_length of 500\")"
   ]
  },
  {
   "cell_type": "code",
   "execution_count": null,
   "metadata": {},
   "outputs": [],
   "source": []
  },
  {
   "cell_type": "code",
   "execution_count": 39,
   "metadata": {},
   "outputs": [
    {
     "name": "stderr",
     "output_type": "stream",
     "text": [
      "avg reward: 20.200, value loss: 189.449, policy loss: -11.189:   5%|▌         | 1/20 [00:00<00:09,  2.09it/s]"
     ]
    },
    {
     "name": "stdout",
     "output_type": "stream",
     "text": [
      "\n"
     ]
    },
    {
     "name": "stderr",
     "output_type": "stream",
     "text": [
      "avg reward: 21.920, value loss: 302.301, policy loss: -12.999:  10%|█         | 2/20 [00:00<00:08,  2.06it/s]"
     ]
    },
    {
     "name": "stdout",
     "output_type": "stream",
     "text": [
      "\n"
     ]
    },
    {
     "name": "stderr",
     "output_type": "stream",
     "text": [
      "avg reward: 23.960, value loss: 274.838, policy loss: -12.612:  15%|█▌        | 3/20 [00:01<00:08,  2.01it/s]"
     ]
    },
    {
     "name": "stdout",
     "output_type": "stream",
     "text": [
      "\n"
     ]
    },
    {
     "name": "stderr",
     "output_type": "stream",
     "text": [
      "avg reward: 28.190, value loss: 435.198, policy loss: -14.567:  20%|██        | 4/20 [00:02<00:08,  1.86it/s]"
     ]
    },
    {
     "name": "stdout",
     "output_type": "stream",
     "text": [
      "\n"
     ]
    },
    {
     "name": "stderr",
     "output_type": "stream",
     "text": [
      "avg reward: 36.000, value loss: 360.112, policy loss: -11.222:  25%|██▌       | 5/20 [00:02<00:09,  1.63it/s]"
     ]
    },
    {
     "name": "stdout",
     "output_type": "stream",
     "text": [
      "\n"
     ]
    },
    {
     "name": "stderr",
     "output_type": "stream",
     "text": [
      "avg reward: 46.360, value loss: 387.257, policy loss: -5.704:  30%|███       | 6/20 [00:03<00:10,  1.39it/s] "
     ]
    },
    {
     "name": "stdout",
     "output_type": "stream",
     "text": [
      "\n"
     ]
    },
    {
     "name": "stderr",
     "output_type": "stream",
     "text": [
      "avg reward: 74.730, value loss: 452.899, policy loss: -1.117:  35%|███▌      | 7/20 [00:05<00:12,  1.00it/s]"
     ]
    },
    {
     "name": "stdout",
     "output_type": "stream",
     "text": [
      "\n"
     ]
    },
    {
     "name": "stderr",
     "output_type": "stream",
     "text": [
      "avg reward: 122.180, value loss: 460.380, policy loss: -0.239:  40%|████      | 8/20 [00:08<00:18,  1.54s/it]"
     ]
    },
    {
     "name": "stdout",
     "output_type": "stream",
     "text": [
      "\n"
     ]
    },
    {
     "name": "stderr",
     "output_type": "stream",
     "text": [
      "avg reward: 159.550, value loss: 363.714, policy loss: -0.052:  45%|████▌     | 9/20 [00:11<00:23,  2.17s/it]"
     ]
    },
    {
     "name": "stdout",
     "output_type": "stream",
     "text": [
      "\n"
     ]
    },
    {
     "name": "stderr",
     "output_type": "stream",
     "text": [
      "avg reward: 178.630, value loss: 414.714, policy loss: 0.067:  50%|█████     | 10/20 [00:16<00:27,  2.73s/it]"
     ]
    },
    {
     "name": "stdout",
     "output_type": "stream",
     "text": [
      "\n"
     ]
    },
    {
     "name": "stderr",
     "output_type": "stream",
     "text": [
      "avg reward: 187.640, value loss: 357.111, policy loss: 0.078:  55%|█████▌    | 11/20 [00:20<00:28,  3.20s/it]"
     ]
    },
    {
     "name": "stdout",
     "output_type": "stream",
     "text": [
      "\n"
     ]
    },
    {
     "name": "stderr",
     "output_type": "stream",
     "text": [
      "avg reward: 191.520, value loss: 391.003, policy loss: 0.045:  60%|██████    | 12/20 [00:24<00:28,  3.55s/it]"
     ]
    },
    {
     "name": "stdout",
     "output_type": "stream",
     "text": [
      "\n"
     ]
    },
    {
     "name": "stderr",
     "output_type": "stream",
     "text": [
      "avg reward: 198.890, value loss: 377.528, policy loss: -0.057:  65%|██████▌   | 13/20 [00:29<00:27,  3.93s/it]"
     ]
    },
    {
     "name": "stdout",
     "output_type": "stream",
     "text": [
      "\n"
     ]
    },
    {
     "name": "stderr",
     "output_type": "stream",
     "text": [
      "avg reward: 196.770, value loss: 375.342, policy loss: -0.026:  70%|███████   | 14/20 [00:34<00:24,  4.13s/it]"
     ]
    },
    {
     "name": "stdout",
     "output_type": "stream",
     "text": [
      "\n"
     ]
    },
    {
     "name": "stderr",
     "output_type": "stream",
     "text": [
      "avg reward: 198.060, value loss: 360.223, policy loss: -0.068:  75%|███████▌  | 15/20 [00:38<00:21,  4.24s/it]"
     ]
    },
    {
     "name": "stdout",
     "output_type": "stream",
     "text": [
      "\n"
     ]
    },
    {
     "name": "stderr",
     "output_type": "stream",
     "text": [
      "avg reward: 199.160, value loss: 293.244, policy loss: -0.059:  80%|████████  | 16/20 [00:43<00:17,  4.35s/it]"
     ]
    },
    {
     "name": "stdout",
     "output_type": "stream",
     "text": [
      "\n"
     ]
    },
    {
     "name": "stderr",
     "output_type": "stream",
     "text": [
      "avg reward: 197.540, value loss: 321.744, policy loss: -0.093:  85%|████████▌ | 17/20 [00:47<00:13,  4.43s/it]"
     ]
    },
    {
     "name": "stdout",
     "output_type": "stream",
     "text": [
      "\n"
     ]
    },
    {
     "name": "stderr",
     "output_type": "stream",
     "text": [
      "avg reward: 189.210, value loss: 260.640, policy loss: -0.036:  90%|█████████ | 18/20 [00:52<00:08,  4.42s/it]"
     ]
    },
    {
     "name": "stdout",
     "output_type": "stream",
     "text": [
      "\n"
     ]
    },
    {
     "name": "stderr",
     "output_type": "stream",
     "text": [
      "avg reward: 196.450, value loss: 266.554, policy loss: 0.128:  95%|█████████▌| 19/20 [00:56<00:04,  4.45s/it] "
     ]
    },
    {
     "name": "stdout",
     "output_type": "stream",
     "text": [
      "\n"
     ]
    },
    {
     "name": "stderr",
     "output_type": "stream",
     "text": [
      "avg reward: 199.510, value loss: 338.691, policy loss: 0.095: 100%|██████████| 20/20 [01:01<00:00,  4.50s/it]"
     ]
    },
    {
     "name": "stdout",
     "output_type": "stream",
     "text": [
      "\n",
      "done\n"
     ]
    }
   ],
   "source": [
    "env = gym.make('CartPole-v0')\n",
    "n_state_size = 4\n",
    "n_embedding_size = 4\n",
    "n_action_size = 2 \n",
    "max_episode_length = 200\n",
    "\n",
    "n_epochs = 20\n",
    "n_episodes = 100\n",
    "device = 'cpu'\n",
    "# embedding = EmbeddingNetwork(n_state_size, n_embedding_size).to(device)\n",
    "policy = PolicyNetwork(n_embedding_size, n_action_size).to(device)\n",
    "value = ValueNetwork(n_embedding_size).to(device)\n",
    "reward_queue_cartpole = Queue()\n",
    "main(env, None, policy, value, device, reward_queue_cartpole, n_epochs, n_episodes, max_episode_length)\n",
    "print(\"done\")"
   ]
  },
  {
   "cell_type": "code",
   "execution_count": 41,
   "metadata": {
    "scrolled": false
   },
   "outputs": [
    {
     "data": {
      "image/png": "[encoded data removed]",
      "text/plain": [
       "<Figure size 432x288 with 1 Axes>"
      ]
     },
     "metadata": {},
     "output_type": "display_data"
    }
   ],
   "source": [
    "rewards = list(reward_queue_cartpole.queue)\n",
    "t = list(range(len(rewards)))\n",
    "\n",
    "avg_rewards = moving_average(rewards, n=100)\n",
    "t_epochs = list(range(len(avg_rewards)))\n",
    "plt.plot(t, rewards, label=\"Episodic\")\n",
    "plt.plot(t_epochs, avg_rewards, label=\"Moving Average ($n=100$)\")\n",
    "plt.legend()\n",
    "plt.title(\"Rewards on CartPole\")\n",
    "plt.xlabel(\"Episodes\")\n",
    "plt.ylabel(\"Score\")\n",
    "plt.ylim([0, 200])\n",
    "plt.show()"
   ]
  }
 ],
 "metadata": {
  "kernelspec": {
   "display_name": "Python 3",
   "language": "python",
   "name": "python3"
  },
  "language_info": {
   "codemirror_mode": {
    "name": "ipython",
    "version": 3
   },
   "file_extension": ".py",
   "mimetype": "text/x-python",
   "name": "python",
   "nbconvert_exporter": "python",
   "pygments_lexer": "ipython3",
   "version": "3.6.5"
  }
 },
 "nbformat": 4,
 "nbformat_minor": 2
}
