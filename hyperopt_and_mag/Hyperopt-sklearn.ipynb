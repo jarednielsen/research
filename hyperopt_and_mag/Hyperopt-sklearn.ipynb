{
 "cells": [
  {
   "cell_type": "code",
   "execution_count": 3,
   "metadata": {},
   "outputs": [
    {
     "name": "stdout",
     "output_type": "stream",
     "text": [
      "{'a': 1, 'c2': 0.010892056090415825}\n",
      "('case 2', 0.010892056090415825)\n"
     ]
    }
   ],
   "source": [
    "# define an objective function\n",
    "def objective(args):\n",
    "    case, val = args\n",
    "    if case == 'case 1':\n",
    "        return val\n",
    "    else:\n",
    "        return val ** 2\n",
    "\n",
    "# define a search space\n",
    "from hyperopt import hp\n",
    "space = hp.choice('a',\n",
    "    [\n",
    "        ('case 1', 1 + hp.lognormal('c1', 0, 1)),\n",
    "        ('case 2', hp.uniform('c2', -10, 10))\n",
    "    ])\n",
    "\n",
    "# minimize the objective over the space\n",
    "from hyperopt import fmin, tpe, space_eval\n",
    "best = fmin(objective, space, algo=tpe.suggest, max_evals=100)\n",
    "\n",
    "print(best)\n",
    "# -> {'a': 1, 'c2': 0.01420615366247227}\n",
    "print(space_eval(space, best))\n",
    "# -> ('case 2', 0.01420615366247227}"
   ]
  },
  {
   "cell_type": "code",
   "execution_count": 11,
   "metadata": {},
   "outputs": [
    {
     "name": "stdout",
     "output_type": "stream",
     "text": [
      "0.9944289693593314\n",
      "{'learner': KNeighborsClassifier(algorithm='auto', leaf_size=30, metric='euclidean',\n",
      "           metric_params=None, n_jobs=1, n_neighbors=5, p=2,\n",
      "           weights='distance'), 'preprocs': (MinMaxScaler(copy=True, feature_range=(-1.0, 1.0)),), 'ex_preprocs': ()}\n"
     ]
    }
   ],
   "source": [
    "from hpsklearn import HyperoptEstimator, any_classifier\n",
    "from sklearn.datasets import load_digits\n",
    "from hyperopt import tpe, Trials\n",
    "import numpy as np\n",
    "\n",
    "# Download the data and split into training and test sets\n",
    "\n",
    "X, y = load_digits(return_X_y=True)\n",
    "\n",
    "test_size = int( 0.2 * len( y ) )\n",
    "indices = np.random.permutation(len(X))\n",
    "X_train = X[ indices[:-test_size]]\n",
    "y_train = y[ indices[:-test_size]]\n",
    "X_test = X[ indices[-test_size:]]\n",
    "y_test = y[ indices[-test_size:]]\n",
    "\n",
    "trials = Trials()\n",
    "estim = HyperoptEstimator( classifier=any_classifier('clf'),  \n",
    "                            algo=tpe.suggest, trial_timeout=300,\n",
    "                         )\n",
    "\n",
    "estim.fit( X_train, y_train )\n",
    "\n",
    "print( estim.score( X_test, y_test ) )\n",
    "print( estim.best_model() )"
   ]
  },
  {
   "cell_type": "code",
   "execution_count": null,
   "metadata": {},
   "outputs": [],
   "source": []
  }
 ],
 "metadata": {
  "kernelspec": {
   "display_name": "Python 3",
   "language": "python",
   "name": "python3"
  },
  "language_info": {
   "codemirror_mode": {
    "name": "ipython",
    "version": 3
   },
   "file_extension": ".py",
   "mimetype": "text/x-python",
   "name": "python",
   "nbconvert_exporter": "python",
   "pygments_lexer": "ipython3",
   "version": "3.6.5"
  }
 },
 "nbformat": 4,
 "nbformat_minor": 2
}
