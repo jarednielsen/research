{
 "cells": [
  {
   "cell_type": "markdown",
   "metadata": {},
   "source": [
    "# Q-Network for Cartpole\n",
    "[Tutorial link](https://keon.io/deep-q-learning/)"
   ]
  },
  {
   "cell_type": "code",
   "execution_count": 3,
   "metadata": {},
   "outputs": [],
   "source": [
    "import gym\n",
    "import numpy as np\n",
    "import matplotlib.pyplot as plt\n",
    "import pdb\n",
    "import torch\n",
    "import torch.nn as nn\n",
    "%matplotlib inline\n",
    "\n",
    "from JSAnimation.IPython_display import display_animation\n",
    "from matplotlib import animation\n",
    "from IPython import display\n",
    "\n",
    "gym.logger.set_level(40)\n",
    "np.set_printoptions(precision=2)"
   ]
  },
  {
   "cell_type": "code",
   "execution_count": 19,
   "metadata": {},
   "outputs": [],
   "source": [
    "def display_frames_as_gif(frames):\n",
    "    \"\"\"\n",
    "    Displays a list of frames as a gif, with controls\n",
    "    \"\"\"\n",
    "    patch = plt.imshow(frames[0])\n",
    "    plt.axis('off')\n",
    "    \n",
    "    def animate(i):\n",
    "        patch.set_data(frames[i])\n",
    "        \n",
    "    anim = animation.FuncAnimation(plt.gcf(), animate, frames=len(frames), interval=50)\n",
    "    display.display(display_animation(anim, default_mode='loop'))\n",
    "    \n",
    "def display_rewards(rewards):\n",
    "    N = len(rewards)\n",
    "    plt.plot(np.arange(N), rewards)\n",
    "    plt.xlabel(\"Epoch\")\n",
    "    plt.ylabel(\"Reward\")\n",
    "    plt.title(\"Rewards\")\n",
    "    plt.show()"
   ]
  },
  {
   "cell_type": "markdown",
   "metadata": {},
   "source": [
    "The state has four components: position, velocity, angle, angular_velocity.\n",
    "x, x_prime, theta, theta_prime\n",
    "\n",
    "Our Q-table will be a partition into two buckets of each of these, negative and positive.\n",
    "So Q-table will have dimensions (2, 2, 2, 2, 2). The last dimension reflects the value of moving left/right."
   ]
  },
  {
   "cell_type": "code",
   "execution_count": 6,
   "metadata": {},
   "outputs": [
    {
     "name": "stdout",
     "output_type": "stream",
     "text": [
      "QNet(\n",
      "  (fc): Sequential(\n",
      "    (0): Linear(in_features=4, out_features=24, bias=True)\n",
      "    (1): ReLU()\n",
      "    (2): Linear(in_features=24, out_features=2, bias=True)\n",
      "  )\n",
      ")\n"
     ]
    }
   ],
   "source": [
    "class QNet(nn.Module):\n",
    "    def __init__(self):\n",
    "        super().__init__()\n",
    "        \n",
    "        self.fc = nn.Sequential(\n",
    "            nn.Linear(4, 24),\n",
    "            nn.ReLU(),\n",
    "            nn.Linear(24, 2)\n",
    "        )\n",
    "        \n",
    "    def forward(self, x):\n",
    "        return self.fc(x)\n",
    "    \n",
    "qnet = QNet()\n",
    "print(qnet)\n",
    "\n",
    "loss = "
   ]
  },
  {
   "cell_type": "code",
   "execution_count": null,
   "metadata": {},
   "outputs": [],
   "source": []
  },
  {
   "cell_type": "code",
   "execution_count": 46,
   "metadata": {},
   "outputs": [
    {
     "name": "stdout",
     "output_type": "stream",
     "text": [
      "[37.0, 26.0, 31.0]\n"
     ]
    },
    {
     "data": {
      "image/png": "[encoded data removed]",
      "text/plain": [
       "<Figure size 432x288 with 1 Axes>"
      ]
     },
     "metadata": {
      "needs_background": "light"
     },
     "output_type": "display_data"
    }
   ],
   "source": [
    "num_epochs = 3\n",
    "game_length = 50\n",
    "\n",
    "env = gym.make('CartPole-v0')\n",
    "rewards = []\n",
    "for epoch in range(num_epochs):\n",
    "    observation = env.reset()\n",
    "    cum_reward = 0\n",
    "    for i in range(game_length):\n",
    "        pred = qnet(torch.Tensor(observation))\n",
    "        action = pred.argmax().item()\n",
    "        new_observation, reward, done, info = env.step(action)\n",
    "        observation = new_observation\n",
    "        cum_reward += reward\n",
    "#         print(\"Action: {}, Reward: {}\".format(action, reward))\n",
    "        if done:\n",
    "            break\n",
    "    rewards.append(cum_reward)\n",
    "\n",
    "print(rewards)\n",
    "display_rewards(rewards)"
   ]
  }
 ],
 "metadata": {
  "kernelspec": {
   "display_name": "Python 3",
   "language": "python",
   "name": "python3"
  },
  "language_info": {
   "codemirror_mode": {
    "name": "ipython",
    "version": 3
   },
   "file_extension": ".py",
   "mimetype": "text/x-python",
   "name": "python",
   "nbconvert_exporter": "python",
   "pygments_lexer": "ipython3",
   "version": "3.6.5"
  }
 },
 "nbformat": 4,
 "nbformat_minor": 2
}
